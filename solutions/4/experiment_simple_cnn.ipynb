{
 "cells": [
  {
   "cell_type": "markdown",
   "metadata": {},
   "source": [
    "# TODO"
   ]
  },
  {
   "cell_type": "markdown",
   "metadata": {},
   "source": [
    "- [ ] Figure out how to do hyperparam search\n",
    "- [ ] Move code into separate `.py` files\n",
    "- [ ] Run experiments with 4 optimizers (SGD, HeavyBall, Adam, Adam w/o momentum) and 2 datasets (MNIST, FashionMNIST)"
   ]
  },
  {
   "cell_type": "code",
   "execution_count": 1,
   "metadata": {},
   "outputs": [
    {
     "name": "stderr",
     "output_type": "stream",
     "text": [
      "/home/matthewbaggins/code/deep_learning_curriculum/.venv/lib/python3.11/site-packages/kfac/base_preconditioner.py:14: UserWarning: NVIDIA Apex is not installed or was not installed with --cpp_ext. Falling back to PyTorch flatten and unflatten.\n",
      "  from kfac.distributed import get_rank\n"
     ]
    }
   ],
   "source": [
    "from __future__ import annotations\n",
    "\n",
    "from datetime import datetime\n",
    "import itertools as it\n",
    "import json\n",
    "from pathlib import Path\n",
    "from types import NoneType\n",
    "from typing import Literal, TypedDict\n",
    "\n",
    "from plotly import express as px, graph_objects as go\n",
    "import torch as t\n",
    "from torch.optim.lr_scheduler import LRScheduler\n",
    "\n",
    "from src.simple_cnn import SimpleCNN, DatasetSimpleCNN\n",
    "from src.utils import split_into_batches\n",
    "\n",
    "# from kfac.preconditioner import KFACPreconditioner"
   ]
  },
  {
   "cell_type": "markdown",
   "metadata": {},
   "source": [
    "## Model, data, and training setup"
   ]
  },
  {
   "cell_type": "code",
   "execution_count": 2,
   "metadata": {},
   "outputs": [],
   "source": [
    "model = SimpleCNN()\n",
    "ds_m = DatasetSimpleCNN.load() # MNIST\n",
    "ds_f = DatasetSimpleCNN.load(fashion_mnist=True) # FashionMNIST\n",
    "BATCH_SIZES: list[int] = (2 ** t.arange(4, 14)).tolist()"
   ]
  },
  {
   "cell_type": "code",
   "execution_count": 3,
   "metadata": {},
   "outputs": [],
   "source": [
    "TARGET_ACCURACY = 0.992 # Target accuract on the val/test set after which training terminates\n",
    "MAX_N_STEPS = 2 ** 14 # Maximum number of steps (batches) after which training terminates\n",
    "ACC_MEASURE_FREQ = 100 # How often to measure accuracy, each 100 steps (batches) by default\n",
    "\n",
    "def acc_fn(\n",
    "    logits: t.Tensor,\n",
    "    target: t.Tensor,\n",
    ") -> float:\n",
    "    preds = logits.argmax(-1)\n",
    "    acc = (preds == target).to(dtype=t.float).mean().item()\n",
    "    return acc\n",
    "\n",
    "class TrainingResult(TypedDict):\n",
    "    timestamp: str\n",
    "    # names\n",
    "    model_name: str\n",
    "    dataset_name: str\n",
    "    optimizer_name: OptimizerType\n",
    "    scheduler_name: str\n",
    "    # numbers\n",
    "    batch_size: int\n",
    "    target_accuracy: float\n",
    "    acc_measure_freq: int\n",
    "    train_losses: list[float]\n",
    "    test_accuracies: list[float]\n",
    "    steps_to_target: int\n",
    "\n",
    "OptimizerType = Literal[\n",
    "    \"SGD\",\n",
    "    \"HeavyBall\",\n",
    "    \"Adam\",   # with momentum\n",
    "    \"Adam-m\", # without momentum\n",
    "    \"K-FAC\",  # with momentum\n",
    "    \"K-FAC-m\" # without momentum\n",
    "]\n",
    "\n",
    "def get_optimizer_name(\n",
    "    optimizer: t.optim.Optimizer,\n",
    "    preconditioner: KFACPreconditioner | None = None\n",
    ") -> OptimizerType:\n",
    "    assert isinstance(optimizer, (t.optim.SGD, t.optim.Adam)), f\"Invalid optimizer: type={optimizer.__class__.__name__}\"\n",
    "    assert isinstance(preconditioner, (NoneType, KFACPreconditioner)), f\"Invalid {preconditioner=}\"\n",
    "    if isinstance(optimizer, t.optim.SGD):\n",
    "        if optimizer.param_groups[0][\"momentum\"] == 0:\n",
    "            return \"SGD\" if preconditioner is None else \"K-FAC-m\"\n",
    "        else:\n",
    "            return \"HeavyBall\" if preconditioner is None else \"K-FAC\"\n",
    "    if isinstance(optimizer, t.optim.Adam):\n",
    "        if optimizer.param_groups[0][\"momentum\"] != 0:\n",
    "            return \"Adam\"\n",
    "        else:\n",
    "            return \"Adam-m\"\n",
    "\n",
    "def train(\n",
    "    model: SimpleCNN,\n",
    "    ds: DatasetSimpleCNN,\n",
    "    optimizer: t.optim.Optimizer, #: OptimizerType\n",
    "    batch_size: int,\n",
    "    *,\n",
    "    preconditioner: KFACPreconditioner | None = None,\n",
    "    target_accuracy: float = TARGET_ACCURACY,\n",
    "    acc_measure_freq: int = ACC_MEASURE_FREQ,\n",
    "    max_n_steps: int = MAX_N_STEPS,\n",
    "    verbose: bool = True,\n",
    "    scheduler: LRScheduler | None = None\n",
    ") -> tuple[SimpleCNN, TrainingResult]:\n",
    "    loss_fn = t.nn.CrossEntropyLoss()\n",
    "    \n",
    "    train_x_batches = split_into_batches(ds.train_x, batch_size)#.tolist()\n",
    "    train_y_batches = split_into_batches(ds.train_y, batch_size)#.tolist()\n",
    "    batch_iter = it.cycle(zip(train_x_batches, train_y_batches))\n",
    "    \n",
    "    train_losses: list[float] = []\n",
    "    test_accuracies: list[float] = []\n",
    "    \n",
    "    for step_i, (batch_x, batch_y) in enumerate(batch_iter):\n",
    "        if step_i >= max_n_steps:\n",
    "            break\n",
    "        optimizer.zero_grad()\n",
    "        train_logits = model(batch_x)\n",
    "        train_loss = loss_fn(train_logits, batch_y)\n",
    "        train_loss.backward()\n",
    "        if preconditioner:\n",
    "            preconditioner.step()\n",
    "        optimizer.step()\n",
    "        if scheduler:\n",
    "            scheduler.step()\n",
    "        train_losses.append(train_loss.item())\n",
    "        \n",
    "        \n",
    "        if step_i % acc_measure_freq == 0:\n",
    "            with t.no_grad():\n",
    "                test_logits = model(ds.test_x)\n",
    "                test_acc = acc_fn(test_logits, ds.test_y)\n",
    "                test_accuracies.append(test_acc)\n",
    "            if verbose:\n",
    "                running_loss = t.tensor(train_losses[-acc_measure_freq:]).mean().item()\n",
    "                print(f\"Step {step_i}: {running_loss=:.4f}, {test_acc=:.2%}\")\n",
    "            if test_acc >= target_accuracy:\n",
    "                print(f\"{target_accuracy=} achieved after {step_i} steps\")\n",
    "    \n",
    "    timestamp = datetime.now().isoformat(\"T\", \"minutes\").replace(\":\", \"\")\n",
    "    optimizer_name = get_optimizer_name(optimizer)\n",
    "    tr: TrainingResult = {\n",
    "        \"timestamp\": timestamp,\n",
    "        \"model_name\": \"SimpleCNN\",\n",
    "        \"dataset_name\": \"FashionMNIST\" if ds.fashion_mnist else \"MNIST\",\n",
    "        \"optimizer_name\": optimizer_name,\n",
    "        \"scheduler_name\": scheduler.__class__.__name__, #TODO instead of scheduler name, should be params of scheduler (since it's always Linear I think?) and optimizer\n",
    "        \"batch_size\": batch_size,\n",
    "        \"target_accuracy\": target_accuracy,\n",
    "        \"acc_measure_freq\": acc_measure_freq,\n",
    "        \"train_losses\": train_losses,\n",
    "        \"test_accuracies\": test_accuracies,\n",
    "        \"steps_to_target\": len(train_losses),\n",
    "    }\n",
    "    \n",
    "    path = Path(\"results\")\n",
    "    if not path.exists():\n",
    "        path.mkdir()\n",
    "    suffix = f\"{optimizer_name}_{tr['dataset_name'][0].lower()}_{timestamp}\"\n",
    "    \n",
    "    model_filename = f\"model_{suffix}.pt\"\n",
    "    t.save(model, path / model_filename)\n",
    "    \n",
    "    tr_filename = f\"tr_{suffix}.json\" \n",
    "    with open(path / tr_filename, \"w\", encoding=\"utf-8\") as f:\n",
    "        json.dump(tr, f)\n",
    "    \n",
    "    return model, tr"
   ]
  },
  {
   "cell_type": "markdown",
   "metadata": {},
   "source": [
    "## Experiments"
   ]
  },
  {
   "cell_type": "markdown",
   "metadata": {},
   "source": [
    "### Optimizer: SGD"
   ]
  },
  {
   "cell_type": "code",
   "execution_count": 4,
   "metadata": {},
   "outputs": [
    {
     "name": "stdout",
     "output_type": "stream",
     "text": [
      "Step 0: running_loss=6.9812, test_acc=0.00%\n",
      "Step 100: running_loss=6.5339, test_acc=18.16%\n"
     ]
    },
    {
     "ename": "KeyboardInterrupt",
     "evalue": "",
     "output_type": "error",
     "traceback": [
      "\u001b[0;31m---------------------------------------------------------------------------\u001b[0m",
      "\u001b[0;31mKeyboardInterrupt\u001b[0m                         Traceback (most recent call last)",
      "\u001b[1;32m/home/matthewbaggins/code/deep_learning_curriculum/solutions/4/experiment_simple_cnn.ipynb Cell 9\u001b[0m line \u001b[0;36m1\n\u001b[1;32m      <a href='vscode-notebook-cell:/home/matthewbaggins/code/deep_learning_curriculum/solutions/4/experiment_simple_cnn.ipynb#X11sZmlsZQ%3D%3D?line=5'>6</a>\u001b[0m scheduler \u001b[39m=\u001b[39m t\u001b[39m.\u001b[39moptim\u001b[39m.\u001b[39mlr_scheduler\u001b[39m.\u001b[39mLinearLR(optimizer)\n\u001b[1;32m      <a href='vscode-notebook-cell:/home/matthewbaggins/code/deep_learning_curriculum/solutions/4/experiment_simple_cnn.ipynb#X11sZmlsZQ%3D%3D?line=6'>7</a>\u001b[0m \u001b[39m# trs: dict[int, TrainingResult] = {\u001b[39;00m\n\u001b[1;32m      <a href='vscode-notebook-cell:/home/matthewbaggins/code/deep_learning_curriculum/solutions/4/experiment_simple_cnn.ipynb#X11sZmlsZQ%3D%3D?line=7'>8</a>\u001b[0m \u001b[39m#     batch_size: train(model, ds_m,)\u001b[39;00m\n\u001b[1;32m      <a href='vscode-notebook-cell:/home/matthewbaggins/code/deep_learning_curriculum/solutions/4/experiment_simple_cnn.ipynb#X11sZmlsZQ%3D%3D?line=8'>9</a>\u001b[0m \u001b[39m# }\u001b[39;00m\n\u001b[0;32m---> <a href='vscode-notebook-cell:/home/matthewbaggins/code/deep_learning_curriculum/solutions/4/experiment_simple_cnn.ipynb#X11sZmlsZQ%3D%3D?line=9'>10</a>\u001b[0m tr \u001b[39m=\u001b[39m train(model, ds_m, optimizer, BATCH_SIZES[\u001b[39m0\u001b[39;49m])\n",
      "\u001b[1;32m/home/matthewbaggins/code/deep_learning_curriculum/solutions/4/experiment_simple_cnn.ipynb Cell 9\u001b[0m line \u001b[0;36m8\n\u001b[1;32m     <a href='vscode-notebook-cell:/home/matthewbaggins/code/deep_learning_curriculum/solutions/4/experiment_simple_cnn.ipynb#X11sZmlsZQ%3D%3D?line=79'>80</a>\u001b[0m train_logits \u001b[39m=\u001b[39m model(batch_x)\n\u001b[1;32m     <a href='vscode-notebook-cell:/home/matthewbaggins/code/deep_learning_curriculum/solutions/4/experiment_simple_cnn.ipynb#X11sZmlsZQ%3D%3D?line=80'>81</a>\u001b[0m train_loss \u001b[39m=\u001b[39m loss_fn(train_logits, batch_y)\n\u001b[0;32m---> <a href='vscode-notebook-cell:/home/matthewbaggins/code/deep_learning_curriculum/solutions/4/experiment_simple_cnn.ipynb#X11sZmlsZQ%3D%3D?line=81'>82</a>\u001b[0m train_loss\u001b[39m.\u001b[39;49mbackward()\n\u001b[1;32m     <a href='vscode-notebook-cell:/home/matthewbaggins/code/deep_learning_curriculum/solutions/4/experiment_simple_cnn.ipynb#X11sZmlsZQ%3D%3D?line=82'>83</a>\u001b[0m \u001b[39mif\u001b[39;00m preconditioner:\n\u001b[1;32m     <a href='vscode-notebook-cell:/home/matthewbaggins/code/deep_learning_curriculum/solutions/4/experiment_simple_cnn.ipynb#X11sZmlsZQ%3D%3D?line=83'>84</a>\u001b[0m     preconditioner\u001b[39m.\u001b[39mstep()\n",
      "File \u001b[0;32m~/code/deep_learning_curriculum/.venv/lib/python3.11/site-packages/torch/_tensor.py:492\u001b[0m, in \u001b[0;36mTensor.backward\u001b[0;34m(self, gradient, retain_graph, create_graph, inputs)\u001b[0m\n\u001b[1;32m    482\u001b[0m \u001b[39mif\u001b[39;00m has_torch_function_unary(\u001b[39mself\u001b[39m):\n\u001b[1;32m    483\u001b[0m     \u001b[39mreturn\u001b[39;00m handle_torch_function(\n\u001b[1;32m    484\u001b[0m         Tensor\u001b[39m.\u001b[39mbackward,\n\u001b[1;32m    485\u001b[0m         (\u001b[39mself\u001b[39m,),\n\u001b[0;32m   (...)\u001b[0m\n\u001b[1;32m    490\u001b[0m         inputs\u001b[39m=\u001b[39minputs,\n\u001b[1;32m    491\u001b[0m     )\n\u001b[0;32m--> 492\u001b[0m torch\u001b[39m.\u001b[39;49mautograd\u001b[39m.\u001b[39;49mbackward(\n\u001b[1;32m    493\u001b[0m     \u001b[39mself\u001b[39;49m, gradient, retain_graph, create_graph, inputs\u001b[39m=\u001b[39;49minputs\n\u001b[1;32m    494\u001b[0m )\n",
      "File \u001b[0;32m~/code/deep_learning_curriculum/.venv/lib/python3.11/site-packages/torch/autograd/__init__.py:251\u001b[0m, in \u001b[0;36mbackward\u001b[0;34m(tensors, grad_tensors, retain_graph, create_graph, grad_variables, inputs)\u001b[0m\n\u001b[1;32m    246\u001b[0m     retain_graph \u001b[39m=\u001b[39m create_graph\n\u001b[1;32m    248\u001b[0m \u001b[39m# The reason we repeat the same comment below is that\u001b[39;00m\n\u001b[1;32m    249\u001b[0m \u001b[39m# some Python versions print out the first line of a multi-line function\u001b[39;00m\n\u001b[1;32m    250\u001b[0m \u001b[39m# calls in the traceback and some print out the last line\u001b[39;00m\n\u001b[0;32m--> 251\u001b[0m Variable\u001b[39m.\u001b[39;49m_execution_engine\u001b[39m.\u001b[39;49mrun_backward(  \u001b[39m# Calls into the C++ engine to run the backward pass\u001b[39;49;00m\n\u001b[1;32m    252\u001b[0m     tensors,\n\u001b[1;32m    253\u001b[0m     grad_tensors_,\n\u001b[1;32m    254\u001b[0m     retain_graph,\n\u001b[1;32m    255\u001b[0m     create_graph,\n\u001b[1;32m    256\u001b[0m     inputs,\n\u001b[1;32m    257\u001b[0m     allow_unreachable\u001b[39m=\u001b[39;49m\u001b[39mTrue\u001b[39;49;00m,\n\u001b[1;32m    258\u001b[0m     accumulate_grad\u001b[39m=\u001b[39;49m\u001b[39mTrue\u001b[39;49;00m,\n\u001b[1;32m    259\u001b[0m )\n",
      "\u001b[0;31mKeyboardInterrupt\u001b[0m: "
     ]
    }
   ],
   "source": [
    "model = SimpleCNN()\n",
    "#TODO tune LR (and other hyperparams for other optimizers)\n",
    "lr = 1e-3\n",
    "optimizer = t.optim.SGD(model.parameters(), lr)\n",
    "#TODO fine-tune scheduler\n",
    "scheduler = t.optim.lr_scheduler.LinearLR(optimizer)\n",
    "# trs: dict[int, TrainingResult] = {\n",
    "#     batch_size: train(model, ds_m,)\n",
    "# }\n",
    "tr = train(model, ds_m, optimizer, BATCH_SIZES[0])\n"
   ]
  },
  {
   "cell_type": "markdown",
   "metadata": {},
   "source": [
    "### Optimizer: HeavyBall"
   ]
  },
  {
   "cell_type": "code",
   "execution_count": 17,
   "metadata": {},
   "outputs": [
    {
     "name": "stdout",
     "output_type": "stream",
     "text": [
      "Step 0: running_loss=7.0442, test_acc=0.00%\n",
      "Step 100: running_loss=2.5846, test_acc=70.55%\n",
      "Step 200: running_loss=0.6326, test_acc=87.40%\n",
      "Step 300: running_loss=0.4278, test_acc=81.19%\n"
     ]
    },
    {
     "ename": "KeyboardInterrupt",
     "evalue": "",
     "output_type": "error",
     "traceback": [
      "\u001b[0;31m---------------------------------------------------------------------------\u001b[0m",
      "\u001b[0;31mKeyboardInterrupt\u001b[0m                         Traceback (most recent call last)",
      "\u001b[1;32m/home/matthewbaggins/code/deep_learning_curriculum/solutions/4/experiment_simple_cnn.ipynb Cell 11\u001b[0m line \u001b[0;36m4\n\u001b[1;32m      <a href='vscode-notebook-cell:/home/matthewbaggins/code/deep_learning_curriculum/solutions/4/experiment_simple_cnn.ipynb#X23sZmlsZQ%3D%3D?line=1'>2</a>\u001b[0m LR \u001b[39m=\u001b[39m \u001b[39m1e-3\u001b[39m\n\u001b[1;32m      <a href='vscode-notebook-cell:/home/matthewbaggins/code/deep_learning_curriculum/solutions/4/experiment_simple_cnn.ipynb#X23sZmlsZQ%3D%3D?line=2'>3</a>\u001b[0m optimizer \u001b[39m=\u001b[39m t\u001b[39m.\u001b[39moptim\u001b[39m.\u001b[39mSGD(model\u001b[39m.\u001b[39mparameters(), LR, momentum\u001b[39m=\u001b[39m\u001b[39m0.8\u001b[39m)\n\u001b[0;32m----> <a href='vscode-notebook-cell:/home/matthewbaggins/code/deep_learning_curriculum/solutions/4/experiment_simple_cnn.ipynb#X23sZmlsZQ%3D%3D?line=3'>4</a>\u001b[0m tr \u001b[39m=\u001b[39m train(model, ds_m, optimizer, BATCH_SIZES[\u001b[39m0\u001b[39;49m])\n",
      "\u001b[1;32m/home/matthewbaggins/code/deep_learning_curriculum/solutions/4/experiment_simple_cnn.ipynb Cell 11\u001b[0m line \u001b[0;36m6\n\u001b[1;32m     <a href='vscode-notebook-cell:/home/matthewbaggins/code/deep_learning_curriculum/solutions/4/experiment_simple_cnn.ipynb#X23sZmlsZQ%3D%3D?line=66'>67</a>\u001b[0m train_loss \u001b[39m=\u001b[39m loss_fn(train_logits, batch_y)\n\u001b[1;32m     <a href='vscode-notebook-cell:/home/matthewbaggins/code/deep_learning_curriculum/solutions/4/experiment_simple_cnn.ipynb#X23sZmlsZQ%3D%3D?line=67'>68</a>\u001b[0m train_loss\u001b[39m.\u001b[39mbackward()\n\u001b[0;32m---> <a href='vscode-notebook-cell:/home/matthewbaggins/code/deep_learning_curriculum/solutions/4/experiment_simple_cnn.ipynb#X23sZmlsZQ%3D%3D?line=68'>69</a>\u001b[0m optimizer\u001b[39m.\u001b[39;49mstep()\n\u001b[1;32m     <a href='vscode-notebook-cell:/home/matthewbaggins/code/deep_learning_curriculum/solutions/4/experiment_simple_cnn.ipynb#X23sZmlsZQ%3D%3D?line=69'>70</a>\u001b[0m train_losses\u001b[39m.\u001b[39mappend(train_loss\u001b[39m.\u001b[39mitem())\n\u001b[1;32m     <a href='vscode-notebook-cell:/home/matthewbaggins/code/deep_learning_curriculum/solutions/4/experiment_simple_cnn.ipynb#X23sZmlsZQ%3D%3D?line=71'>72</a>\u001b[0m \u001b[39mif\u001b[39;00m \u001b[39misinstance\u001b[39m(scheduler, LRScheduler):\n",
      "File \u001b[0;32m~/code/deep_learning_curriculum/.venv/lib/python3.11/site-packages/torch/optim/optimizer.py:361\u001b[0m, in \u001b[0;36mOptimizer.profile_hook_step.<locals>.wrapper\u001b[0;34m(*args, **kwargs)\u001b[0m\n\u001b[1;32m    359\u001b[0m \u001b[39mself\u001b[39m \u001b[39m=\u001b[39m cast(Optimizer, \u001b[39mself\u001b[39m)\n\u001b[1;32m    360\u001b[0m profile_name \u001b[39m=\u001b[39m \u001b[39mf\u001b[39m\u001b[39m\"\u001b[39m\u001b[39mOptimizer.step#\u001b[39m\u001b[39m{\u001b[39;00m\u001b[39mself\u001b[39m\u001b[39m.\u001b[39m\u001b[39m__class__\u001b[39m\u001b[39m.\u001b[39m\u001b[39m__name__\u001b[39m\u001b[39m}\u001b[39;00m\u001b[39m.step\u001b[39m\u001b[39m\"\u001b[39m\n\u001b[0;32m--> 361\u001b[0m \u001b[39mwith\u001b[39;49;00m torch\u001b[39m.\u001b[39;49mautograd\u001b[39m.\u001b[39;49mprofiler\u001b[39m.\u001b[39;49mrecord_function(profile_name):\n\u001b[1;32m    362\u001b[0m     \u001b[39m# call optimizer step pre hooks\u001b[39;49;00m\n\u001b[1;32m    363\u001b[0m     \u001b[39mfor\u001b[39;49;00m pre_hook \u001b[39min\u001b[39;49;00m chain(_global_optimizer_pre_hooks\u001b[39m.\u001b[39;49mvalues(), \u001b[39mself\u001b[39;49m\u001b[39m.\u001b[39;49m_optimizer_step_pre_hooks\u001b[39m.\u001b[39;49mvalues()):\n\u001b[1;32m    364\u001b[0m         result \u001b[39m=\u001b[39;49m pre_hook(\u001b[39mself\u001b[39;49m, args, kwargs)\n",
      "File \u001b[0;32m~/code/deep_learning_curriculum/.venv/lib/python3.11/site-packages/torch/autograd/profiler.py:648\u001b[0m, in \u001b[0;36mrecord_function.__exit__\u001b[0;34m(self, exc_type, exc_value, traceback)\u001b[0m\n\u001b[1;32m    646\u001b[0m \u001b[39mif\u001b[39;00m \u001b[39mnot\u001b[39;00m torch\u001b[39m.\u001b[39mjit\u001b[39m.\u001b[39mis_scripting():\n\u001b[1;32m    647\u001b[0m     \u001b[39mwith\u001b[39;00m torch\u001b[39m.\u001b[39m_C\u001b[39m.\u001b[39mDisableTorchFunctionSubclass():\n\u001b[0;32m--> 648\u001b[0m         torch\u001b[39m.\u001b[39;49mops\u001b[39m.\u001b[39;49mprofiler\u001b[39m.\u001b[39;49m_record_function_exit\u001b[39m.\u001b[39;49m_RecordFunction(record)\n\u001b[1;32m    649\u001b[0m \u001b[39melse\u001b[39;00m:\n\u001b[1;32m    650\u001b[0m     torch\u001b[39m.\u001b[39mops\u001b[39m.\u001b[39mprofiler\u001b[39m.\u001b[39m_record_function_exit(record)\n",
      "File \u001b[0;32m~/code/deep_learning_curriculum/.venv/lib/python3.11/site-packages/torch/_ops.py:448\u001b[0m, in \u001b[0;36mOpOverload.__call__\u001b[0;34m(self, *args, **kwargs)\u001b[0m\n\u001b[1;32m    447\u001b[0m \u001b[39mdef\u001b[39;00m \u001b[39m__call__\u001b[39m(\u001b[39mself\u001b[39m, \u001b[39m*\u001b[39margs, \u001b[39m*\u001b[39m\u001b[39m*\u001b[39mkwargs):\n\u001b[0;32m--> 448\u001b[0m     \u001b[39mreturn\u001b[39;00m \u001b[39mself\u001b[39;49m\u001b[39m.\u001b[39;49m_op(\u001b[39m*\u001b[39;49margs, \u001b[39m*\u001b[39;49m\u001b[39m*\u001b[39;49mkwargs \u001b[39mor\u001b[39;49;00m {})\n",
      "\u001b[0;31mKeyboardInterrupt\u001b[0m: "
     ]
    }
   ],
   "source": [
    "model = SimpleCNN()\n",
    "lr = 1e-3\n",
    "optimizer = t.optim.SGD(model.parameters(), lr, momentum=0.8)\n",
    "tr = train(model, ds_m, optimizer, BATCH_SIZES[0])"
   ]
  },
  {
   "cell_type": "markdown",
   "metadata": {},
   "source": [
    "### Optimizer: Adam with momentum\n",
    "    "
   ]
  },
  {
   "cell_type": "code",
   "execution_count": null,
   "metadata": {},
   "outputs": [],
   "source": [
    "model = SimpleCNN()\n",
    "lr = 1e-3\n",
    "optimizer = t.optim.Adam(model.parameters(), lr)\n",
    "tr = train(model, ds_m, optimizer, BATCH_SIZES[0])"
   ]
  },
  {
   "cell_type": "markdown",
   "metadata": {},
   "source": [
    "### Optimizer: Adam without momentum"
   ]
  },
  {
   "cell_type": "code",
   "execution_count": 5,
   "metadata": {},
   "outputs": [
    {
     "name": "stdout",
     "output_type": "stream",
     "text": [
      "Step 0: running_loss=6.8807, test_acc=22.50%\n",
      "Step 100: running_loss=0.9023, test_acc=85.82%\n"
     ]
    },
    {
     "ename": "KeyboardInterrupt",
     "evalue": "",
     "output_type": "error",
     "traceback": [
      "\u001b[0;31m---------------------------------------------------------------------------\u001b[0m",
      "\u001b[0;31mKeyboardInterrupt\u001b[0m                         Traceback (most recent call last)",
      "\u001b[1;32m/home/matthewbaggins/code/deep_learning_curriculum/solutions/4/experiment_simple_cnn.ipynb Cell 15\u001b[0m line \u001b[0;36m4\n\u001b[1;32m      <a href='vscode-notebook-cell:/home/matthewbaggins/code/deep_learning_curriculum/solutions/4/experiment_simple_cnn.ipynb#X24sZmlsZQ%3D%3D?line=1'>2</a>\u001b[0m lr \u001b[39m=\u001b[39m \u001b[39m1e-3\u001b[39m\n\u001b[1;32m      <a href='vscode-notebook-cell:/home/matthewbaggins/code/deep_learning_curriculum/solutions/4/experiment_simple_cnn.ipynb#X24sZmlsZQ%3D%3D?line=2'>3</a>\u001b[0m optimizer \u001b[39m=\u001b[39m t\u001b[39m.\u001b[39moptim\u001b[39m.\u001b[39mAdam(model\u001b[39m.\u001b[39mparameters(), lr, betas\u001b[39m=\u001b[39m(\u001b[39m0\u001b[39m, \u001b[39m0\u001b[39m))\n\u001b[0;32m----> <a href='vscode-notebook-cell:/home/matthewbaggins/code/deep_learning_curriculum/solutions/4/experiment_simple_cnn.ipynb#X24sZmlsZQ%3D%3D?line=3'>4</a>\u001b[0m tr \u001b[39m=\u001b[39m train(model, ds_m, optimizer, BATCH_SIZES[\u001b[39m0\u001b[39;49m])\n",
      "\u001b[1;32m/home/matthewbaggins/code/deep_learning_curriculum/solutions/4/experiment_simple_cnn.ipynb Cell 15\u001b[0m line \u001b[0;36m8\n\u001b[1;32m     <a href='vscode-notebook-cell:/home/matthewbaggins/code/deep_learning_curriculum/solutions/4/experiment_simple_cnn.ipynb#X24sZmlsZQ%3D%3D?line=77'>78</a>\u001b[0m     \u001b[39mbreak\u001b[39;00m\n\u001b[1;32m     <a href='vscode-notebook-cell:/home/matthewbaggins/code/deep_learning_curriculum/solutions/4/experiment_simple_cnn.ipynb#X24sZmlsZQ%3D%3D?line=78'>79</a>\u001b[0m optimizer\u001b[39m.\u001b[39mzero_grad()\n\u001b[0;32m---> <a href='vscode-notebook-cell:/home/matthewbaggins/code/deep_learning_curriculum/solutions/4/experiment_simple_cnn.ipynb#X24sZmlsZQ%3D%3D?line=79'>80</a>\u001b[0m train_logits \u001b[39m=\u001b[39m model(batch_x)\n\u001b[1;32m     <a href='vscode-notebook-cell:/home/matthewbaggins/code/deep_learning_curriculum/solutions/4/experiment_simple_cnn.ipynb#X24sZmlsZQ%3D%3D?line=80'>81</a>\u001b[0m train_loss \u001b[39m=\u001b[39m loss_fn(train_logits, batch_y)\n\u001b[1;32m     <a href='vscode-notebook-cell:/home/matthewbaggins/code/deep_learning_curriculum/solutions/4/experiment_simple_cnn.ipynb#X24sZmlsZQ%3D%3D?line=81'>82</a>\u001b[0m train_loss\u001b[39m.\u001b[39mbackward()\n",
      "File \u001b[0;32m~/code/deep_learning_curriculum/.venv/lib/python3.11/site-packages/torch/nn/modules/module.py:1518\u001b[0m, in \u001b[0;36mModule._wrapped_call_impl\u001b[0;34m(self, *args, **kwargs)\u001b[0m\n\u001b[1;32m   1516\u001b[0m     \u001b[39mreturn\u001b[39;00m \u001b[39mself\u001b[39m\u001b[39m.\u001b[39m_compiled_call_impl(\u001b[39m*\u001b[39margs, \u001b[39m*\u001b[39m\u001b[39m*\u001b[39mkwargs)  \u001b[39m# type: ignore[misc]\u001b[39;00m\n\u001b[1;32m   1517\u001b[0m \u001b[39melse\u001b[39;00m:\n\u001b[0;32m-> 1518\u001b[0m     \u001b[39mreturn\u001b[39;00m \u001b[39mself\u001b[39;49m\u001b[39m.\u001b[39;49m_call_impl(\u001b[39m*\u001b[39;49margs, \u001b[39m*\u001b[39;49m\u001b[39m*\u001b[39;49mkwargs)\n",
      "File \u001b[0;32m~/code/deep_learning_curriculum/.venv/lib/python3.11/site-packages/torch/nn/modules/module.py:1527\u001b[0m, in \u001b[0;36mModule._call_impl\u001b[0;34m(self, *args, **kwargs)\u001b[0m\n\u001b[1;32m   1522\u001b[0m \u001b[39m# If we don't have any hooks, we want to skip the rest of the logic in\u001b[39;00m\n\u001b[1;32m   1523\u001b[0m \u001b[39m# this function, and just call forward.\u001b[39;00m\n\u001b[1;32m   1524\u001b[0m \u001b[39mif\u001b[39;00m \u001b[39mnot\u001b[39;00m (\u001b[39mself\u001b[39m\u001b[39m.\u001b[39m_backward_hooks \u001b[39mor\u001b[39;00m \u001b[39mself\u001b[39m\u001b[39m.\u001b[39m_backward_pre_hooks \u001b[39mor\u001b[39;00m \u001b[39mself\u001b[39m\u001b[39m.\u001b[39m_forward_hooks \u001b[39mor\u001b[39;00m \u001b[39mself\u001b[39m\u001b[39m.\u001b[39m_forward_pre_hooks\n\u001b[1;32m   1525\u001b[0m         \u001b[39mor\u001b[39;00m _global_backward_pre_hooks \u001b[39mor\u001b[39;00m _global_backward_hooks\n\u001b[1;32m   1526\u001b[0m         \u001b[39mor\u001b[39;00m _global_forward_hooks \u001b[39mor\u001b[39;00m _global_forward_pre_hooks):\n\u001b[0;32m-> 1527\u001b[0m     \u001b[39mreturn\u001b[39;00m forward_call(\u001b[39m*\u001b[39;49margs, \u001b[39m*\u001b[39;49m\u001b[39m*\u001b[39;49mkwargs)\n\u001b[1;32m   1529\u001b[0m \u001b[39mtry\u001b[39;00m:\n\u001b[1;32m   1530\u001b[0m     result \u001b[39m=\u001b[39m \u001b[39mNone\u001b[39;00m\n",
      "File \u001b[0;32m~/code/deep_learning_curriculum/solutions/4/src/simple_cnn.py:51\u001b[0m, in \u001b[0;36mSimpleCNN.forward\u001b[0;34m(self, x)\u001b[0m\n\u001b[1;32m     49\u001b[0m \u001b[39mdef\u001b[39;00m \u001b[39mforward\u001b[39m(\u001b[39mself\u001b[39m, x: t\u001b[39m.\u001b[39mTensor) \u001b[39m-\u001b[39m\u001b[39m>\u001b[39m t\u001b[39m.\u001b[39mTensor:  \u001b[39m# [batch 28 28]\u001b[39;00m\n\u001b[1;32m     50\u001b[0m     x \u001b[39m=\u001b[39m \u001b[39mself\u001b[39m\u001b[39m.\u001b[39mpool1(F\u001b[39m.\u001b[39mrelu(\u001b[39mself\u001b[39m\u001b[39m.\u001b[39mconv1(x)))\n\u001b[0;32m---> 51\u001b[0m     x \u001b[39m=\u001b[39m \u001b[39mself\u001b[39m\u001b[39m.\u001b[39mpool2(F\u001b[39m.\u001b[39mrelu(\u001b[39mself\u001b[39;49m\u001b[39m.\u001b[39;49mconv2(x)))\n\u001b[1;32m     52\u001b[0m     x \u001b[39m=\u001b[39m x\u001b[39m.\u001b[39mflatten(\u001b[39m1\u001b[39m)\n\u001b[1;32m     53\u001b[0m     x \u001b[39m=\u001b[39m \u001b[39mself\u001b[39m\u001b[39m.\u001b[39mfc(x)\n",
      "File \u001b[0;32m~/code/deep_learning_curriculum/.venv/lib/python3.11/site-packages/torch/nn/modules/module.py:1518\u001b[0m, in \u001b[0;36mModule._wrapped_call_impl\u001b[0;34m(self, *args, **kwargs)\u001b[0m\n\u001b[1;32m   1516\u001b[0m     \u001b[39mreturn\u001b[39;00m \u001b[39mself\u001b[39m\u001b[39m.\u001b[39m_compiled_call_impl(\u001b[39m*\u001b[39margs, \u001b[39m*\u001b[39m\u001b[39m*\u001b[39mkwargs)  \u001b[39m# type: ignore[misc]\u001b[39;00m\n\u001b[1;32m   1517\u001b[0m \u001b[39melse\u001b[39;00m:\n\u001b[0;32m-> 1518\u001b[0m     \u001b[39mreturn\u001b[39;00m \u001b[39mself\u001b[39;49m\u001b[39m.\u001b[39;49m_call_impl(\u001b[39m*\u001b[39;49margs, \u001b[39m*\u001b[39;49m\u001b[39m*\u001b[39;49mkwargs)\n",
      "File \u001b[0;32m~/code/deep_learning_curriculum/.venv/lib/python3.11/site-packages/torch/nn/modules/module.py:1527\u001b[0m, in \u001b[0;36mModule._call_impl\u001b[0;34m(self, *args, **kwargs)\u001b[0m\n\u001b[1;32m   1522\u001b[0m \u001b[39m# If we don't have any hooks, we want to skip the rest of the logic in\u001b[39;00m\n\u001b[1;32m   1523\u001b[0m \u001b[39m# this function, and just call forward.\u001b[39;00m\n\u001b[1;32m   1524\u001b[0m \u001b[39mif\u001b[39;00m \u001b[39mnot\u001b[39;00m (\u001b[39mself\u001b[39m\u001b[39m.\u001b[39m_backward_hooks \u001b[39mor\u001b[39;00m \u001b[39mself\u001b[39m\u001b[39m.\u001b[39m_backward_pre_hooks \u001b[39mor\u001b[39;00m \u001b[39mself\u001b[39m\u001b[39m.\u001b[39m_forward_hooks \u001b[39mor\u001b[39;00m \u001b[39mself\u001b[39m\u001b[39m.\u001b[39m_forward_pre_hooks\n\u001b[1;32m   1525\u001b[0m         \u001b[39mor\u001b[39;00m _global_backward_pre_hooks \u001b[39mor\u001b[39;00m _global_backward_hooks\n\u001b[1;32m   1526\u001b[0m         \u001b[39mor\u001b[39;00m _global_forward_hooks \u001b[39mor\u001b[39;00m _global_forward_pre_hooks):\n\u001b[0;32m-> 1527\u001b[0m     \u001b[39mreturn\u001b[39;00m forward_call(\u001b[39m*\u001b[39;49margs, \u001b[39m*\u001b[39;49m\u001b[39m*\u001b[39;49mkwargs)\n\u001b[1;32m   1529\u001b[0m \u001b[39mtry\u001b[39;00m:\n\u001b[1;32m   1530\u001b[0m     result \u001b[39m=\u001b[39m \u001b[39mNone\u001b[39;00m\n",
      "File \u001b[0;32m~/code/deep_learning_curriculum/.venv/lib/python3.11/site-packages/torch/nn/modules/conv.py:460\u001b[0m, in \u001b[0;36mConv2d.forward\u001b[0;34m(self, input)\u001b[0m\n\u001b[1;32m    459\u001b[0m \u001b[39mdef\u001b[39;00m \u001b[39mforward\u001b[39m(\u001b[39mself\u001b[39m, \u001b[39minput\u001b[39m: Tensor) \u001b[39m-\u001b[39m\u001b[39m>\u001b[39m Tensor:\n\u001b[0;32m--> 460\u001b[0m     \u001b[39mreturn\u001b[39;00m \u001b[39mself\u001b[39;49m\u001b[39m.\u001b[39;49m_conv_forward(\u001b[39minput\u001b[39;49m, \u001b[39mself\u001b[39;49m\u001b[39m.\u001b[39;49mweight, \u001b[39mself\u001b[39;49m\u001b[39m.\u001b[39;49mbias)\n",
      "File \u001b[0;32m~/code/deep_learning_curriculum/.venv/lib/python3.11/site-packages/torch/nn/modules/conv.py:456\u001b[0m, in \u001b[0;36mConv2d._conv_forward\u001b[0;34m(self, input, weight, bias)\u001b[0m\n\u001b[1;32m    452\u001b[0m \u001b[39mif\u001b[39;00m \u001b[39mself\u001b[39m\u001b[39m.\u001b[39mpadding_mode \u001b[39m!=\u001b[39m \u001b[39m'\u001b[39m\u001b[39mzeros\u001b[39m\u001b[39m'\u001b[39m:\n\u001b[1;32m    453\u001b[0m     \u001b[39mreturn\u001b[39;00m F\u001b[39m.\u001b[39mconv2d(F\u001b[39m.\u001b[39mpad(\u001b[39minput\u001b[39m, \u001b[39mself\u001b[39m\u001b[39m.\u001b[39m_reversed_padding_repeated_twice, mode\u001b[39m=\u001b[39m\u001b[39mself\u001b[39m\u001b[39m.\u001b[39mpadding_mode),\n\u001b[1;32m    454\u001b[0m                     weight, bias, \u001b[39mself\u001b[39m\u001b[39m.\u001b[39mstride,\n\u001b[1;32m    455\u001b[0m                     _pair(\u001b[39m0\u001b[39m), \u001b[39mself\u001b[39m\u001b[39m.\u001b[39mdilation, \u001b[39mself\u001b[39m\u001b[39m.\u001b[39mgroups)\n\u001b[0;32m--> 456\u001b[0m \u001b[39mreturn\u001b[39;00m F\u001b[39m.\u001b[39;49mconv2d(\u001b[39minput\u001b[39;49m, weight, bias, \u001b[39mself\u001b[39;49m\u001b[39m.\u001b[39;49mstride,\n\u001b[1;32m    457\u001b[0m                 \u001b[39mself\u001b[39;49m\u001b[39m.\u001b[39;49mpadding, \u001b[39mself\u001b[39;49m\u001b[39m.\u001b[39;49mdilation, \u001b[39mself\u001b[39;49m\u001b[39m.\u001b[39;49mgroups)\n",
      "\u001b[0;31mKeyboardInterrupt\u001b[0m: "
     ]
    }
   ],
   "source": [
    "model = SimpleCNN()\n",
    "lr = 1e-3\n",
    "optimizer = t.optim.Adam(model.parameters(), lr, betas=(0, 0))\n",
    "tr = train(model, ds_m, optimizer, BATCH_SIZES[0])"
   ]
  }
 ],
 "metadata": {
  "kernelspec": {
   "display_name": ".venv",
   "language": "python",
   "name": "python3"
  },
  "language_info": {
   "codemirror_mode": {
    "name": "ipython",
    "version": 3
   },
   "file_extension": ".py",
   "mimetype": "text/x-python",
   "name": "python",
   "nbconvert_exporter": "python",
   "pygments_lexer": "ipython3",
   "version": "3.11.6"
  }
 },
 "nbformat": 4,
 "nbformat_minor": 2
}
