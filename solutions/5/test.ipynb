{
 "cells": [
  {
   "cell_type": "code",
   "execution_count": 43,
   "metadata": {},
   "outputs": [],
   "source": [
    "import itertools as it\n",
    "import random\n",
    "\n",
    "import einops\n",
    "from plotly import express as px, graph_objects as go\n",
    "import torch as t\n",
    "import torch.nn.functional as F\n",
    "from torch.optim.lr_scheduler import LRScheduler, ReduceLROnPlateau\n",
    "from tqdm import tqdm\n",
    "\n",
    "from src.contrastive_cnn import ContrastiveCNN\n",
    "from src.dataset import Dataset, get_diff_and_sim_pair_inds"
   ]
  },
  {
   "cell_type": "code",
   "execution_count": 49,
   "metadata": {},
   "outputs": [
    {
     "name": "stderr",
     "output_type": "stream",
     "text": [
      "Generating test batches for batch_size=32: 100%|██████████| 1875/1875 [00:00<00:00, 30855.35it/s]\n"
     ]
    }
   ],
   "source": [
    "model = ContrastiveCNN()\n",
    "ds = Dataset.load()\n",
    "batches = ds.get_train_batches()\n",
    "test_diff_pair_inds, test_same_pair_inds = get_diff_and_sim_pair_inds(ds.test_y)"
   ]
  },
  {
   "cell_type": "code",
   "execution_count": 118,
   "metadata": {},
   "outputs": [],
   "source": [
    "# def contrastive_loss(\n",
    "#     embeds: t.Tensor,  # [batch d_embed]\n",
    "#     labels: t.Tensor,  # [batch (d_label=10)]\n",
    "#     *,\n",
    "#     epsilon: float = 1e-4\n",
    "# ) -> t.Tensor:\n",
    "#     assert embeds.ndim == 2\n",
    "#     assert labels.ndim == 1\n",
    "#     assert len(embeds) == len(labels)\n",
    "#     labels_rep = einops.repeat(labels, \"b -> b rep\", rep=len(labels))\n",
    "#     diff_pair_inds = (labels_rep == labels_rep.T).nonzero()\n",
    "#     same_pair_inds = (labels_rep != labels_rep.T).nonzero()\n",
    "#     # TODO: figure out how to this optimally, with tensors, einops, gather, etc, rather than loops\n",
    "#     # TODO: also, better variable names\n",
    "#     diff_pair_diffs = t.stack([embeds[i] - embeds[j] for i, j in diff_pair_inds])\n",
    "#     same_pair_diffs = t.stack([embeds[i] - embeds[j] for i, j in same_pair_inds])\n",
    "#     diff_pair_di\n",
    "#     loss = (\n",
    "#         diff_pair_diffs.pow(2).mean()\n",
    "#         + t.max(t.tensor(0), epsilon - (same_pair_diffs**2).mean().sqrt()) ** 2\n",
    "#     )\n",
    "#     assert not loss.isnan()\n",
    "#     # loss = diff_pair_diffs_squared.mean()\n",
    "#     return loss"
   ]
  },
  {
   "cell_type": "code",
   "execution_count": 50,
   "metadata": {},
   "outputs": [],
   "source": [
    "def contrastive_loss(\n",
    "    embeds: t.Tensor,  # [batch d_embed]\n",
    "    diff_pair_inds: t.Tensor, # [_n 2]\n",
    "    same_pair_inds: t.Tensor, # [_n 2]\n",
    "    *,\n",
    "    epsilon: float = 1e-4\n",
    ") -> t.Tensor:\n",
    "    # TODO: figure out how to this optimally, with tensors, einops, gather, etc, rather than loops\n",
    "    # TODO: also, better variable names\n",
    "    diff_pair_diffs = t.stack([embeds[i] - embeds[j] for i, j in diff_pair_inds])\n",
    "    same_pair_diffs = t.stack([embeds[i] - embeds[j] for i, j in same_pair_inds])\n",
    "    diff_term_loss = diff_pair_diffs.pow(2).mean()\n",
    "    same_term_loss = t.max(t.tensor(0), epsilon - (same_pair_diffs**2).mean().sqrt()) ** 2\n",
    "    loss = diff_term_loss + same_term_loss\n",
    "    assert not loss.isnan()\n",
    "    return loss"
   ]
  },
  {
   "cell_type": "code",
   "execution_count": 51,
   "metadata": {},
   "outputs": [],
   "source": [
    "def acc_fn(\n",
    "    logits: t.Tensor,\n",
    "    target: t.Tensor,\n",
    ") -> float:\n",
    "    #TODO: need to give preds here\n",
    "    preds = logits.argmax(-1)\n",
    "    acc = (preds == target).to(dtype=t.float).mean().item()\n",
    "    return acc\n",
    "\n",
    "\n",
    "def train(\n",
    "    model: ContrastiveCNN,\n",
    "    ds: Dataset,\n",
    "    optimizer: t.optim.Optimizer,\n",
    "    *,\n",
    "    n_epochs: int = 10,\n",
    "    batch_size: int = 32,\n",
    "    verbose: bool = True,\n",
    "    scheduler: LRScheduler | ReduceLROnPlateau | None = None,\n",
    ") -> None:  # TrainingHistory:\n",
    "    batches = ds.get_train_batches(batch_size)\n",
    "    test_diff_pair_inds, test_same_pair_inds = get_diff_and_sim_pair_inds(ds.train_y)\n",
    "\n",
    "    for epoch_i in range(1, n_epochs + 1):\n",
    "        batch_losses: list[float] = []\n",
    "\n",
    "        for batch_x, batch_y, diff_pair_inds, same_pair_inds in tqdm(batches):\n",
    "            optimizer.zero_grad()\n",
    "            batch_embeds = model(batch_x)\n",
    "            batch_loss = contrastive_loss(batch_embeds, diff_pair_inds, same_pair_inds)\n",
    "            batch_loss.backward()\n",
    "            optimizer.step()\n",
    "            batch_losses.append(batch_loss.item())\n",
    "\n",
    "        epoch_loss = t.tensor(batch_losses).mean()\n",
    "        \n",
    "        # with t.no_grad(): #TODO\n",
    "            \n",
    "        \n",
    "        if isinstance(scheduler, LRScheduler):\n",
    "            scheduler.step()\n",
    "        elif isinstance(scheduler, ReduceLROnPlateau):\n",
    "            scheduler.step(epoch_loss)\n",
    "\n",
    "        if verbose:\n",
    "            print(f\"[{epoch_i}] {epoch_loss = }\")\n",
    "            if epoch_loss == 0:\n",
    "                print(\n",
    "                    f\"Achieved zero loss, terminating training after {epoch_i} epochs\"\n",
    "                )\n",
    "                break"
   ]
  },
  {
   "cell_type": "code",
   "execution_count": 52,
   "metadata": {},
   "outputs": [
    {
     "name": "stderr",
     "output_type": "stream",
     "text": [
      "Generating test batches for batch_size=32: 100%|██████████| 1875/1875 [00:00<00:00, 30845.55it/s]\n"
     ]
    }
   ],
   "source": [
    "model = ContrastiveCNN()\n",
    "ds = Dataset.load()\n",
    "lr = 1e-3\n",
    "optimizer = t.optim.AdamW(model.parameters(), lr)\n",
    "scheduler = ReduceLROnPlateau(optimizer)\n",
    "train(model, ds, optimizer, scheduler=scheduler)\n"
   ]
  },
  {
   "cell_type": "code",
   "execution_count": 124,
   "metadata": {},
   "outputs": [
    {
     "data": {
      "text/plain": [
       "tensor(0.0046, grad_fn=<AddBackward0>)"
      ]
     },
     "execution_count": 124,
     "metadata": {},
     "output_type": "execute_result"
    }
   ],
   "source": [
    "model = ContrastiveCNN()\n",
    "ds = Dataset.load()\n",
    "lr = 1e-3\n",
    "optimizer = t.optim.AdamW(model.parameters(), lr)\n",
    "scheduler = ReduceLROnPlateau(optimizer)\n",
    "# train(model, ds, optimizer, scheduler=scheduler)\n",
    "\n",
    "x = ds.train_x[:10]\n",
    "y = ds.train_y[:10]\n",
    "embeds = model(x)\n",
    "loss = contrastive_loss(embeds, y)\n",
    "loss"
   ]
  },
  {
   "cell_type": "markdown",
   "metadata": {},
   "source": [
    "## Testing"
   ]
  },
  {
   "cell_type": "code",
   "execution_count": 60,
   "metadata": {},
   "outputs": [
    {
     "name": "stderr",
     "output_type": "stream",
     "text": [
      "100it [00:00, 6898.75it/s]\n"
     ]
    }
   ],
   "source": [
    "test_embeds = model(ds.test_x)\n",
    "y = list(range(10))\n",
    "embed_dists = t.zeros(10, 10, requires_grad=False)\n",
    "\n",
    "with t.no_grad():\n",
    "    for label1, label2 in tqdm(it.product(y, repeat=2)):\n",
    "        embeds1_mean = test_embeds[ds.test_y == label1].mean(0)\n",
    "        embeds2_mean = test_embeds[ds.test_y == label2].mean(0)\n",
    "        embed_dist = ((embeds1_mean - embeds2_mean) ** 2).mean()\n",
    "        embed_dists[label1, label2] = embed_dist\n",
    "\n",
    "# Normalize so that the highest value is one\n",
    "embed_dists *= 1 / embed_dists.max()"
   ]
  },
  {
   "cell_type": "code",
   "execution_count": 61,
   "metadata": {},
   "outputs": [
    {
     "data": {
      "application/vnd.plotly.v1+json": {
       "config": {
        "plotlyServerURL": "https://plot.ly"
       },
       "data": [
        {
         "coloraxis": "coloraxis",
         "hovertemplate": "x: %{x}<br>y: %{y}<br>color: %{z}<extra></extra>",
         "name": "0",
         "type": "heatmap",
         "xaxis": "x",
         "yaxis": "y",
         "z": [
          [
           0,
           0.7090024352073669,
           0.39464718103408813,
           0.5172749161720276,
           0.9861313700675964,
           0.34866178035736084,
           0.7616180181503296,
           0.39464718103408813,
           0.6172749400138855,
           0.7029197216033936
          ],
          [
           0.7090024352073669,
           0,
           0.31630170345306396,
           0.4389294385910034,
           0.6902676224708557,
           0.5900242924690247,
           0.7849756479263306,
           0.31630170345306396,
           0.8897809982299805,
           0.6795620322227478
          ],
          [
           0.39464718103408813,
           0.31630170345306396,
           0,
           0.24720193445682526,
           0.6231143474578857,
           0.2756690979003906,
           0.593248188495636,
           0,
           0.5734792947769165,
           0.3710462152957916
          ],
          [
           0.5172749161720276,
           0.4389294385910034,
           0.24720193445682526,
           0,
           0.6328467130661011,
           0.38856446743011475,
           0.643856406211853,
           0.24720193445682526,
           0.7720194458961487,
           0.4450121521949768
          ],
          [
           0.9861313700675964,
           0.6902676224708557,
           0.6231143474578857,
           0.6328467130661011,
           0,
           0.8987834453582764,
           0.5526155829429626,
           0.6231143474578857,
           1,
           0.703649640083313
          ],
          [
           0.34866178035736084,
           0.5900242924690247,
           0.2756690979003906,
           0.38856446743011475,
           0.8987834453582764,
           0,
           0.7360705733299255,
           0.2756690979003906,
           0.6442822217941284,
           0.5143552422523499
          ],
          [
           0.7616180181503296,
           0.7849756479263306,
           0.593248188495636,
           0.643856406211853,
           0.5526155829429626,
           0.7360705733299255,
           0,
           0.593248188495636,
           0.9326642155647278,
           0.6197688579559326
          ],
          [
           0.39464718103408813,
           0.31630170345306396,
           0,
           0.24720193445682526,
           0.6231143474578857,
           0.2756690979003906,
           0.593248188495636,
           0,
           0.5734792947769165,
           0.3710462152957916
          ],
          [
           0.6172749400138855,
           0.8897809982299805,
           0.5734792947769165,
           0.7720194458961487,
           1,
           0.6442822217941284,
           0.9326642155647278,
           0.5734792947769165,
           0,
           0.6564476490020752
          ],
          [
           0.7029197216033936,
           0.6795620322227478,
           0.3710462152957916,
           0.4450121521949768,
           0.703649640083313,
           0.5143552422523499,
           0.6197688579559326,
           0.3710462152957916,
           0.6564476490020752,
           0
          ]
         ]
        }
       ],
       "layout": {
        "coloraxis": {
         "colorscale": [
          [
           0,
           "#0d0887"
          ],
          [
           0.1111111111111111,
           "#46039f"
          ],
          [
           0.2222222222222222,
           "#7201a8"
          ],
          [
           0.3333333333333333,
           "#9c179e"
          ],
          [
           0.4444444444444444,
           "#bd3786"
          ],
          [
           0.5555555555555556,
           "#d8576b"
          ],
          [
           0.6666666666666666,
           "#ed7953"
          ],
          [
           0.7777777777777778,
           "#fb9f3a"
          ],
          [
           0.8888888888888888,
           "#fdca26"
          ],
          [
           1,
           "#f0f921"
          ]
         ]
        },
        "margin": {
         "t": 60
        },
        "template": {
         "data": {
          "bar": [
           {
            "error_x": {
             "color": "#2a3f5f"
            },
            "error_y": {
             "color": "#2a3f5f"
            },
            "marker": {
             "line": {
              "color": "#E5ECF6",
              "width": 0.5
             },
             "pattern": {
              "fillmode": "overlay",
              "size": 10,
              "solidity": 0.2
             }
            },
            "type": "bar"
           }
          ],
          "barpolar": [
           {
            "marker": {
             "line": {
              "color": "#E5ECF6",
              "width": 0.5
             },
             "pattern": {
              "fillmode": "overlay",
              "size": 10,
              "solidity": 0.2
             }
            },
            "type": "barpolar"
           }
          ],
          "carpet": [
           {
            "aaxis": {
             "endlinecolor": "#2a3f5f",
             "gridcolor": "white",
             "linecolor": "white",
             "minorgridcolor": "white",
             "startlinecolor": "#2a3f5f"
            },
            "baxis": {
             "endlinecolor": "#2a3f5f",
             "gridcolor": "white",
             "linecolor": "white",
             "minorgridcolor": "white",
             "startlinecolor": "#2a3f5f"
            },
            "type": "carpet"
           }
          ],
          "choropleth": [
           {
            "colorbar": {
             "outlinewidth": 0,
             "ticks": ""
            },
            "type": "choropleth"
           }
          ],
          "contour": [
           {
            "colorbar": {
             "outlinewidth": 0,
             "ticks": ""
            },
            "colorscale": [
             [
              0,
              "#0d0887"
             ],
             [
              0.1111111111111111,
              "#46039f"
             ],
             [
              0.2222222222222222,
              "#7201a8"
             ],
             [
              0.3333333333333333,
              "#9c179e"
             ],
             [
              0.4444444444444444,
              "#bd3786"
             ],
             [
              0.5555555555555556,
              "#d8576b"
             ],
             [
              0.6666666666666666,
              "#ed7953"
             ],
             [
              0.7777777777777778,
              "#fb9f3a"
             ],
             [
              0.8888888888888888,
              "#fdca26"
             ],
             [
              1,
              "#f0f921"
             ]
            ],
            "type": "contour"
           }
          ],
          "contourcarpet": [
           {
            "colorbar": {
             "outlinewidth": 0,
             "ticks": ""
            },
            "type": "contourcarpet"
           }
          ],
          "heatmap": [
           {
            "colorbar": {
             "outlinewidth": 0,
             "ticks": ""
            },
            "colorscale": [
             [
              0,
              "#0d0887"
             ],
             [
              0.1111111111111111,
              "#46039f"
             ],
             [
              0.2222222222222222,
              "#7201a8"
             ],
             [
              0.3333333333333333,
              "#9c179e"
             ],
             [
              0.4444444444444444,
              "#bd3786"
             ],
             [
              0.5555555555555556,
              "#d8576b"
             ],
             [
              0.6666666666666666,
              "#ed7953"
             ],
             [
              0.7777777777777778,
              "#fb9f3a"
             ],
             [
              0.8888888888888888,
              "#fdca26"
             ],
             [
              1,
              "#f0f921"
             ]
            ],
            "type": "heatmap"
           }
          ],
          "heatmapgl": [
           {
            "colorbar": {
             "outlinewidth": 0,
             "ticks": ""
            },
            "colorscale": [
             [
              0,
              "#0d0887"
             ],
             [
              0.1111111111111111,
              "#46039f"
             ],
             [
              0.2222222222222222,
              "#7201a8"
             ],
             [
              0.3333333333333333,
              "#9c179e"
             ],
             [
              0.4444444444444444,
              "#bd3786"
             ],
             [
              0.5555555555555556,
              "#d8576b"
             ],
             [
              0.6666666666666666,
              "#ed7953"
             ],
             [
              0.7777777777777778,
              "#fb9f3a"
             ],
             [
              0.8888888888888888,
              "#fdca26"
             ],
             [
              1,
              "#f0f921"
             ]
            ],
            "type": "heatmapgl"
           }
          ],
          "histogram": [
           {
            "marker": {
             "pattern": {
              "fillmode": "overlay",
              "size": 10,
              "solidity": 0.2
             }
            },
            "type": "histogram"
           }
          ],
          "histogram2d": [
           {
            "colorbar": {
             "outlinewidth": 0,
             "ticks": ""
            },
            "colorscale": [
             [
              0,
              "#0d0887"
             ],
             [
              0.1111111111111111,
              "#46039f"
             ],
             [
              0.2222222222222222,
              "#7201a8"
             ],
             [
              0.3333333333333333,
              "#9c179e"
             ],
             [
              0.4444444444444444,
              "#bd3786"
             ],
             [
              0.5555555555555556,
              "#d8576b"
             ],
             [
              0.6666666666666666,
              "#ed7953"
             ],
             [
              0.7777777777777778,
              "#fb9f3a"
             ],
             [
              0.8888888888888888,
              "#fdca26"
             ],
             [
              1,
              "#f0f921"
             ]
            ],
            "type": "histogram2d"
           }
          ],
          "histogram2dcontour": [
           {
            "colorbar": {
             "outlinewidth": 0,
             "ticks": ""
            },
            "colorscale": [
             [
              0,
              "#0d0887"
             ],
             [
              0.1111111111111111,
              "#46039f"
             ],
             [
              0.2222222222222222,
              "#7201a8"
             ],
             [
              0.3333333333333333,
              "#9c179e"
             ],
             [
              0.4444444444444444,
              "#bd3786"
             ],
             [
              0.5555555555555556,
              "#d8576b"
             ],
             [
              0.6666666666666666,
              "#ed7953"
             ],
             [
              0.7777777777777778,
              "#fb9f3a"
             ],
             [
              0.8888888888888888,
              "#fdca26"
             ],
             [
              1,
              "#f0f921"
             ]
            ],
            "type": "histogram2dcontour"
           }
          ],
          "mesh3d": [
           {
            "colorbar": {
             "outlinewidth": 0,
             "ticks": ""
            },
            "type": "mesh3d"
           }
          ],
          "parcoords": [
           {
            "line": {
             "colorbar": {
              "outlinewidth": 0,
              "ticks": ""
             }
            },
            "type": "parcoords"
           }
          ],
          "pie": [
           {
            "automargin": true,
            "type": "pie"
           }
          ],
          "scatter": [
           {
            "fillpattern": {
             "fillmode": "overlay",
             "size": 10,
             "solidity": 0.2
            },
            "type": "scatter"
           }
          ],
          "scatter3d": [
           {
            "line": {
             "colorbar": {
              "outlinewidth": 0,
              "ticks": ""
             }
            },
            "marker": {
             "colorbar": {
              "outlinewidth": 0,
              "ticks": ""
             }
            },
            "type": "scatter3d"
           }
          ],
          "scattercarpet": [
           {
            "marker": {
             "colorbar": {
              "outlinewidth": 0,
              "ticks": ""
             }
            },
            "type": "scattercarpet"
           }
          ],
          "scattergeo": [
           {
            "marker": {
             "colorbar": {
              "outlinewidth": 0,
              "ticks": ""
             }
            },
            "type": "scattergeo"
           }
          ],
          "scattergl": [
           {
            "marker": {
             "colorbar": {
              "outlinewidth": 0,
              "ticks": ""
             }
            },
            "type": "scattergl"
           }
          ],
          "scattermapbox": [
           {
            "marker": {
             "colorbar": {
              "outlinewidth": 0,
              "ticks": ""
             }
            },
            "type": "scattermapbox"
           }
          ],
          "scatterpolar": [
           {
            "marker": {
             "colorbar": {
              "outlinewidth": 0,
              "ticks": ""
             }
            },
            "type": "scatterpolar"
           }
          ],
          "scatterpolargl": [
           {
            "marker": {
             "colorbar": {
              "outlinewidth": 0,
              "ticks": ""
             }
            },
            "type": "scatterpolargl"
           }
          ],
          "scatterternary": [
           {
            "marker": {
             "colorbar": {
              "outlinewidth": 0,
              "ticks": ""
             }
            },
            "type": "scatterternary"
           }
          ],
          "surface": [
           {
            "colorbar": {
             "outlinewidth": 0,
             "ticks": ""
            },
            "colorscale": [
             [
              0,
              "#0d0887"
             ],
             [
              0.1111111111111111,
              "#46039f"
             ],
             [
              0.2222222222222222,
              "#7201a8"
             ],
             [
              0.3333333333333333,
              "#9c179e"
             ],
             [
              0.4444444444444444,
              "#bd3786"
             ],
             [
              0.5555555555555556,
              "#d8576b"
             ],
             [
              0.6666666666666666,
              "#ed7953"
             ],
             [
              0.7777777777777778,
              "#fb9f3a"
             ],
             [
              0.8888888888888888,
              "#fdca26"
             ],
             [
              1,
              "#f0f921"
             ]
            ],
            "type": "surface"
           }
          ],
          "table": [
           {
            "cells": {
             "fill": {
              "color": "#EBF0F8"
             },
             "line": {
              "color": "white"
             }
            },
            "header": {
             "fill": {
              "color": "#C8D4E3"
             },
             "line": {
              "color": "white"
             }
            },
            "type": "table"
           }
          ]
         },
         "layout": {
          "annotationdefaults": {
           "arrowcolor": "#2a3f5f",
           "arrowhead": 0,
           "arrowwidth": 1
          },
          "autotypenumbers": "strict",
          "coloraxis": {
           "colorbar": {
            "outlinewidth": 0,
            "ticks": ""
           }
          },
          "colorscale": {
           "diverging": [
            [
             0,
             "#8e0152"
            ],
            [
             0.1,
             "#c51b7d"
            ],
            [
             0.2,
             "#de77ae"
            ],
            [
             0.3,
             "#f1b6da"
            ],
            [
             0.4,
             "#fde0ef"
            ],
            [
             0.5,
             "#f7f7f7"
            ],
            [
             0.6,
             "#e6f5d0"
            ],
            [
             0.7,
             "#b8e186"
            ],
            [
             0.8,
             "#7fbc41"
            ],
            [
             0.9,
             "#4d9221"
            ],
            [
             1,
             "#276419"
            ]
           ],
           "sequential": [
            [
             0,
             "#0d0887"
            ],
            [
             0.1111111111111111,
             "#46039f"
            ],
            [
             0.2222222222222222,
             "#7201a8"
            ],
            [
             0.3333333333333333,
             "#9c179e"
            ],
            [
             0.4444444444444444,
             "#bd3786"
            ],
            [
             0.5555555555555556,
             "#d8576b"
            ],
            [
             0.6666666666666666,
             "#ed7953"
            ],
            [
             0.7777777777777778,
             "#fb9f3a"
            ],
            [
             0.8888888888888888,
             "#fdca26"
            ],
            [
             1,
             "#f0f921"
            ]
           ],
           "sequentialminus": [
            [
             0,
             "#0d0887"
            ],
            [
             0.1111111111111111,
             "#46039f"
            ],
            [
             0.2222222222222222,
             "#7201a8"
            ],
            [
             0.3333333333333333,
             "#9c179e"
            ],
            [
             0.4444444444444444,
             "#bd3786"
            ],
            [
             0.5555555555555556,
             "#d8576b"
            ],
            [
             0.6666666666666666,
             "#ed7953"
            ],
            [
             0.7777777777777778,
             "#fb9f3a"
            ],
            [
             0.8888888888888888,
             "#fdca26"
            ],
            [
             1,
             "#f0f921"
            ]
           ]
          },
          "colorway": [
           "#636efa",
           "#EF553B",
           "#00cc96",
           "#ab63fa",
           "#FFA15A",
           "#19d3f3",
           "#FF6692",
           "#B6E880",
           "#FF97FF",
           "#FECB52"
          ],
          "font": {
           "color": "#2a3f5f"
          },
          "geo": {
           "bgcolor": "white",
           "lakecolor": "white",
           "landcolor": "#E5ECF6",
           "showlakes": true,
           "showland": true,
           "subunitcolor": "white"
          },
          "hoverlabel": {
           "align": "left"
          },
          "hovermode": "closest",
          "mapbox": {
           "style": "light"
          },
          "paper_bgcolor": "white",
          "plot_bgcolor": "#E5ECF6",
          "polar": {
           "angularaxis": {
            "gridcolor": "white",
            "linecolor": "white",
            "ticks": ""
           },
           "bgcolor": "#E5ECF6",
           "radialaxis": {
            "gridcolor": "white",
            "linecolor": "white",
            "ticks": ""
           }
          },
          "scene": {
           "xaxis": {
            "backgroundcolor": "#E5ECF6",
            "gridcolor": "white",
            "gridwidth": 2,
            "linecolor": "white",
            "showbackground": true,
            "ticks": "",
            "zerolinecolor": "white"
           },
           "yaxis": {
            "backgroundcolor": "#E5ECF6",
            "gridcolor": "white",
            "gridwidth": 2,
            "linecolor": "white",
            "showbackground": true,
            "ticks": "",
            "zerolinecolor": "white"
           },
           "zaxis": {
            "backgroundcolor": "#E5ECF6",
            "gridcolor": "white",
            "gridwidth": 2,
            "linecolor": "white",
            "showbackground": true,
            "ticks": "",
            "zerolinecolor": "white"
           }
          },
          "shapedefaults": {
           "line": {
            "color": "#2a3f5f"
           }
          },
          "ternary": {
           "aaxis": {
            "gridcolor": "white",
            "linecolor": "white",
            "ticks": ""
           },
           "baxis": {
            "gridcolor": "white",
            "linecolor": "white",
            "ticks": ""
           },
           "bgcolor": "#E5ECF6",
           "caxis": {
            "gridcolor": "white",
            "linecolor": "white",
            "ticks": ""
           }
          },
          "title": {
           "x": 0.05
          },
          "xaxis": {
           "automargin": true,
           "gridcolor": "white",
           "linecolor": "white",
           "ticks": "",
           "title": {
            "standoff": 15
           },
           "zerolinecolor": "white",
           "zerolinewidth": 2
          },
          "yaxis": {
           "automargin": true,
           "gridcolor": "white",
           "linecolor": "white",
           "ticks": "",
           "title": {
            "standoff": 15
           },
           "zerolinecolor": "white",
           "zerolinewidth": 2
          }
         }
        },
        "xaxis": {
         "anchor": "y",
         "constrain": "domain",
         "domain": [
          0,
          1
         ],
         "scaleanchor": "y"
        },
        "yaxis": {
         "anchor": "x",
         "autorange": "reversed",
         "constrain": "domain",
         "domain": [
          0,
          1
         ]
        }
       }
      }
     },
     "metadata": {},
     "output_type": "display_data"
    }
   ],
   "source": [
    "from plotly import express as px, graph_objects as go\n",
    "\n",
    "fig = px.imshow(embed_dists)\n",
    "fig.show()"
   ]
  },
  {
   "cell_type": "code",
   "execution_count": 83,
   "metadata": {},
   "outputs": [],
   "source": [
    "all_train_embeds = model(ds.train_x)\n",
    "all_test_embeds = model(ds.test_x)"
   ]
  },
  {
   "cell_type": "code",
   "execution_count": 115,
   "metadata": {},
   "outputs": [
    {
     "data": {
      "text/plain": [
       "tensor([[ 0.0048,  0.0122,  0.0070,  0.0141,  0.0066, -0.0043, -0.0110, -0.0130,\n",
       "          0.0053,  0.0087, -0.0064, -0.0049,  0.0008, -0.0153, -0.0101, -0.0133,\n",
       "          0.0066,  0.0019, -0.0004, -0.0066, -0.0157, -0.0006, -0.0031, -0.0074,\n",
       "         -0.0059,  0.0012,  0.0101,  0.0154, -0.0008,  0.0020, -0.0039,  0.0136,\n",
       "         -0.0120, -0.0157, -0.0066,  0.0029,  0.0040,  0.0157,  0.0086,  0.0022,\n",
       "         -0.0093, -0.0106, -0.0134, -0.0057,  0.0021,  0.0113, -0.0017, -0.0148,\n",
       "         -0.0060, -0.0138,  0.0054, -0.0019, -0.0069,  0.0096, -0.0068,  0.0013,\n",
       "         -0.0032, -0.0052,  0.0035,  0.0094, -0.0027,  0.0036,  0.0142,  0.0054]],\n",
       "       grad_fn=<AddmmBackward0>)"
      ]
     },
     "execution_count": 115,
     "metadata": {},
     "output_type": "execute_result"
    }
   ],
   "source": [
    "model(ds.train_x[:1])"
   ]
  },
  {
   "cell_type": "code",
   "execution_count": 116,
   "metadata": {},
   "outputs": [
    {
     "data": {
      "text/plain": [
       "tensor([[ 0.0048,  0.0122,  0.0070,  0.0141,  0.0066, -0.0043, -0.0110, -0.0130,\n",
       "          0.0053,  0.0087, -0.0064, -0.0049,  0.0008, -0.0153, -0.0101, -0.0133,\n",
       "          0.0066,  0.0019, -0.0004, -0.0066, -0.0157, -0.0006, -0.0031, -0.0074,\n",
       "         -0.0059,  0.0012,  0.0101,  0.0154, -0.0008,  0.0020, -0.0039,  0.0136,\n",
       "         -0.0120, -0.0157, -0.0066,  0.0029,  0.0040,  0.0157,  0.0086,  0.0022,\n",
       "         -0.0093, -0.0106, -0.0134, -0.0057,  0.0021,  0.0113, -0.0017, -0.0148,\n",
       "         -0.0060, -0.0138,  0.0054, -0.0019, -0.0069,  0.0096, -0.0068,  0.0013,\n",
       "         -0.0032, -0.0052,  0.0035,  0.0094, -0.0027,  0.0036,  0.0142,  0.0054]],\n",
       "       grad_fn=<AddmmBackward0>)"
      ]
     },
     "execution_count": 116,
     "metadata": {},
     "output_type": "execute_result"
    }
   ],
   "source": [
    "model(ds.train_x[1:2])"
   ]
  },
  {
   "cell_type": "code",
   "execution_count": 111,
   "metadata": {},
   "outputs": [
    {
     "name": "stdout",
     "output_type": "stream",
     "text": [
      "tensor([[ 0.0048,  0.0122,  0.0070,  0.0141,  0.0066, -0.0043, -0.0110, -0.0130,\n",
      "          0.0053,  0.0087, -0.0064, -0.0049,  0.0008, -0.0153, -0.0101, -0.0133,\n",
      "          0.0066,  0.0019, -0.0004, -0.0066, -0.0157, -0.0006, -0.0031, -0.0074,\n",
      "         -0.0059,  0.0012,  0.0101,  0.0154, -0.0008,  0.0020, -0.0039,  0.0136,\n",
      "         -0.0120, -0.0157, -0.0066,  0.0029,  0.0040,  0.0157,  0.0086,  0.0022,\n",
      "         -0.0093, -0.0106, -0.0134, -0.0057,  0.0021,  0.0113, -0.0017, -0.0148,\n",
      "         -0.0060, -0.0138,  0.0054, -0.0019, -0.0069,  0.0096, -0.0068,  0.0013,\n",
      "         -0.0032, -0.0052,  0.0035,  0.0094, -0.0027,  0.0036,  0.0142,  0.0054],\n",
      "        [ 0.0048,  0.0122,  0.0070,  0.0141,  0.0066, -0.0043, -0.0110, -0.0130,\n",
      "          0.0053,  0.0087, -0.0064, -0.0049,  0.0008, -0.0153, -0.0101, -0.0133,\n",
      "          0.0066,  0.0019, -0.0004, -0.0066, -0.0157, -0.0006, -0.0031, -0.0074,\n",
      "         -0.0059,  0.0012,  0.0101,  0.0154, -0.0008,  0.0020, -0.0039,  0.0136,\n",
      "         -0.0120, -0.0157, -0.0066,  0.0029,  0.0040,  0.0157,  0.0086,  0.0022,\n",
      "         -0.0093, -0.0106, -0.0134, -0.0057,  0.0021,  0.0113, -0.0017, -0.0148,\n",
      "         -0.0060, -0.0138,  0.0054, -0.0019, -0.0069,  0.0096, -0.0068,  0.0013,\n",
      "         -0.0032, -0.0052,  0.0035,  0.0094, -0.0027,  0.0036,  0.0142,  0.0054],\n",
      "        [ 0.0048,  0.0122,  0.0070,  0.0141,  0.0066, -0.0043, -0.0110, -0.0130,\n",
      "          0.0053,  0.0087, -0.0064, -0.0049,  0.0008, -0.0153, -0.0101, -0.0133,\n",
      "          0.0066,  0.0019, -0.0004, -0.0066, -0.0157, -0.0006, -0.0031, -0.0074,\n",
      "         -0.0059,  0.0012,  0.0101,  0.0154, -0.0008,  0.0020, -0.0039,  0.0136,\n",
      "         -0.0120, -0.0157, -0.0066,  0.0029,  0.0040,  0.0157,  0.0086,  0.0022,\n",
      "         -0.0093, -0.0106, -0.0134, -0.0057,  0.0021,  0.0113, -0.0017, -0.0148,\n",
      "         -0.0060, -0.0138,  0.0054, -0.0019, -0.0069,  0.0096, -0.0068,  0.0013,\n",
      "         -0.0032, -0.0052,  0.0035,  0.0094, -0.0027,  0.0036,  0.0142,  0.0054],\n",
      "        [ 0.0048,  0.0122,  0.0070,  0.0141,  0.0066, -0.0043, -0.0110, -0.0130,\n",
      "          0.0053,  0.0087, -0.0064, -0.0049,  0.0008, -0.0153, -0.0101, -0.0133,\n",
      "          0.0066,  0.0019, -0.0004, -0.0066, -0.0157, -0.0006, -0.0031, -0.0074,\n",
      "         -0.0059,  0.0012,  0.0101,  0.0154, -0.0008,  0.0020, -0.0039,  0.0136,\n",
      "         -0.0120, -0.0157, -0.0066,  0.0029,  0.0040,  0.0157,  0.0086,  0.0022,\n",
      "         -0.0093, -0.0106, -0.0134, -0.0057,  0.0021,  0.0113, -0.0017, -0.0148,\n",
      "         -0.0060, -0.0138,  0.0054, -0.0019, -0.0069,  0.0096, -0.0068,  0.0013,\n",
      "         -0.0032, -0.0052,  0.0035,  0.0094, -0.0027,  0.0036,  0.0142,  0.0054],\n",
      "        [ 0.0048,  0.0122,  0.0070,  0.0141,  0.0066, -0.0043, -0.0110, -0.0130,\n",
      "          0.0053,  0.0087, -0.0064, -0.0049,  0.0008, -0.0153, -0.0101, -0.0133,\n",
      "          0.0066,  0.0019, -0.0004, -0.0066, -0.0157, -0.0006, -0.0031, -0.0074,\n",
      "         -0.0059,  0.0012,  0.0101,  0.0154, -0.0008,  0.0020, -0.0039,  0.0136,\n",
      "         -0.0120, -0.0157, -0.0066,  0.0029,  0.0040,  0.0157,  0.0086,  0.0022,\n",
      "         -0.0093, -0.0106, -0.0134, -0.0057,  0.0021,  0.0113, -0.0017, -0.0148,\n",
      "         -0.0060, -0.0138,  0.0054, -0.0019, -0.0069,  0.0096, -0.0068,  0.0013,\n",
      "         -0.0032, -0.0052,  0.0035,  0.0094, -0.0027,  0.0036,  0.0142,  0.0054],\n",
      "        [ 0.0048,  0.0122,  0.0070,  0.0141,  0.0066, -0.0043, -0.0110, -0.0130,\n",
      "          0.0053,  0.0087, -0.0064, -0.0049,  0.0008, -0.0153, -0.0101, -0.0133,\n",
      "          0.0066,  0.0019, -0.0004, -0.0066, -0.0157, -0.0006, -0.0031, -0.0074,\n",
      "         -0.0059,  0.0012,  0.0101,  0.0154, -0.0008,  0.0020, -0.0039,  0.0136,\n",
      "         -0.0120, -0.0157, -0.0066,  0.0029,  0.0040,  0.0157,  0.0086,  0.0022,\n",
      "         -0.0093, -0.0106, -0.0134, -0.0057,  0.0021,  0.0113, -0.0017, -0.0148,\n",
      "         -0.0060, -0.0138,  0.0054, -0.0019, -0.0069,  0.0096, -0.0068,  0.0013,\n",
      "         -0.0032, -0.0052,  0.0035,  0.0094, -0.0027,  0.0036,  0.0142,  0.0054],\n",
      "        [ 0.0048,  0.0122,  0.0070,  0.0141,  0.0066, -0.0043, -0.0110, -0.0130,\n",
      "          0.0053,  0.0087, -0.0064, -0.0049,  0.0008, -0.0153, -0.0101, -0.0133,\n",
      "          0.0066,  0.0019, -0.0004, -0.0066, -0.0157, -0.0006, -0.0031, -0.0074,\n",
      "         -0.0059,  0.0012,  0.0101,  0.0154, -0.0008,  0.0020, -0.0039,  0.0136,\n",
      "         -0.0120, -0.0157, -0.0066,  0.0029,  0.0040,  0.0157,  0.0086,  0.0022,\n",
      "         -0.0093, -0.0106, -0.0134, -0.0057,  0.0021,  0.0113, -0.0017, -0.0148,\n",
      "         -0.0060, -0.0138,  0.0054, -0.0019, -0.0069,  0.0096, -0.0068,  0.0013,\n",
      "         -0.0032, -0.0052,  0.0035,  0.0094, -0.0027,  0.0036,  0.0142,  0.0054],\n",
      "        [ 0.0048,  0.0122,  0.0070,  0.0141,  0.0066, -0.0043, -0.0110, -0.0130,\n",
      "          0.0053,  0.0087, -0.0064, -0.0049,  0.0008, -0.0153, -0.0101, -0.0133,\n",
      "          0.0066,  0.0019, -0.0004, -0.0066, -0.0157, -0.0006, -0.0031, -0.0074,\n",
      "         -0.0059,  0.0012,  0.0101,  0.0154, -0.0008,  0.0020, -0.0039,  0.0136,\n",
      "         -0.0120, -0.0157, -0.0066,  0.0029,  0.0040,  0.0157,  0.0086,  0.0022,\n",
      "         -0.0093, -0.0106, -0.0134, -0.0057,  0.0021,  0.0113, -0.0017, -0.0148,\n",
      "         -0.0060, -0.0138,  0.0054, -0.0019, -0.0069,  0.0096, -0.0068,  0.0013,\n",
      "         -0.0032, -0.0052,  0.0035,  0.0094, -0.0027,  0.0036,  0.0142,  0.0054],\n",
      "        [ 0.0048,  0.0122,  0.0070,  0.0141,  0.0066, -0.0043, -0.0110, -0.0130,\n",
      "          0.0053,  0.0087, -0.0064, -0.0049,  0.0008, -0.0153, -0.0101, -0.0133,\n",
      "          0.0066,  0.0019, -0.0004, -0.0066, -0.0157, -0.0006, -0.0031, -0.0074,\n",
      "         -0.0059,  0.0012,  0.0101,  0.0154, -0.0008,  0.0020, -0.0039,  0.0136,\n",
      "         -0.0120, -0.0157, -0.0066,  0.0029,  0.0040,  0.0157,  0.0086,  0.0022,\n",
      "         -0.0093, -0.0106, -0.0134, -0.0057,  0.0021,  0.0113, -0.0017, -0.0148,\n",
      "         -0.0060, -0.0138,  0.0054, -0.0019, -0.0069,  0.0096, -0.0068,  0.0013,\n",
      "         -0.0032, -0.0052,  0.0035,  0.0094, -0.0027,  0.0036,  0.0142,  0.0054],\n",
      "        [ 0.0048,  0.0122,  0.0070,  0.0141,  0.0066, -0.0043, -0.0110, -0.0130,\n",
      "          0.0053,  0.0087, -0.0064, -0.0049,  0.0008, -0.0153, -0.0101, -0.0133,\n",
      "          0.0066,  0.0019, -0.0004, -0.0066, -0.0157, -0.0006, -0.0031, -0.0074,\n",
      "         -0.0059,  0.0012,  0.0101,  0.0154, -0.0008,  0.0020, -0.0039,  0.0136,\n",
      "         -0.0120, -0.0157, -0.0066,  0.0029,  0.0040,  0.0157,  0.0086,  0.0022,\n",
      "         -0.0093, -0.0106, -0.0134, -0.0057,  0.0021,  0.0113, -0.0017, -0.0148,\n",
      "         -0.0060, -0.0138,  0.0054, -0.0019, -0.0069,  0.0096, -0.0068,  0.0013,\n",
      "         -0.0032, -0.0052,  0.0035,  0.0094, -0.0027,  0.0036,  0.0142,  0.0054]])\n",
      "tensor([[ 0.0048,  0.0122,  0.0070,  0.0141,  0.0066, -0.0043, -0.0110, -0.0130,\n",
      "          0.0053,  0.0087, -0.0064, -0.0049,  0.0008, -0.0153, -0.0101, -0.0133,\n",
      "          0.0066,  0.0019, -0.0004, -0.0066, -0.0157, -0.0006, -0.0031, -0.0074,\n",
      "         -0.0059,  0.0012,  0.0101,  0.0154, -0.0008,  0.0020, -0.0039,  0.0136,\n",
      "         -0.0120, -0.0157, -0.0066,  0.0029,  0.0040,  0.0157,  0.0086,  0.0022,\n",
      "         -0.0093, -0.0106, -0.0134, -0.0057,  0.0021,  0.0113, -0.0017, -0.0148,\n",
      "         -0.0060, -0.0138,  0.0054, -0.0019, -0.0069,  0.0096, -0.0068,  0.0013,\n",
      "         -0.0032, -0.0052,  0.0035,  0.0094, -0.0027,  0.0036,  0.0142,  0.0054],\n",
      "        [ 0.0048,  0.0122,  0.0070,  0.0141,  0.0066, -0.0043, -0.0110, -0.0130,\n",
      "          0.0053,  0.0087, -0.0064, -0.0049,  0.0008, -0.0153, -0.0101, -0.0133,\n",
      "          0.0066,  0.0019, -0.0004, -0.0066, -0.0157, -0.0006, -0.0031, -0.0074,\n",
      "         -0.0059,  0.0012,  0.0101,  0.0154, -0.0008,  0.0020, -0.0039,  0.0136,\n",
      "         -0.0120, -0.0157, -0.0066,  0.0029,  0.0040,  0.0157,  0.0086,  0.0022,\n",
      "         -0.0093, -0.0106, -0.0134, -0.0057,  0.0021,  0.0113, -0.0017, -0.0148,\n",
      "         -0.0060, -0.0138,  0.0054, -0.0019, -0.0069,  0.0096, -0.0068,  0.0013,\n",
      "         -0.0032, -0.0052,  0.0035,  0.0094, -0.0027,  0.0036,  0.0142,  0.0054],\n",
      "        [ 0.0048,  0.0122,  0.0070,  0.0141,  0.0066, -0.0043, -0.0110, -0.0130,\n",
      "          0.0053,  0.0087, -0.0064, -0.0049,  0.0008, -0.0153, -0.0101, -0.0133,\n",
      "          0.0066,  0.0019, -0.0004, -0.0066, -0.0157, -0.0006, -0.0031, -0.0074,\n",
      "         -0.0059,  0.0012,  0.0101,  0.0154, -0.0008,  0.0020, -0.0039,  0.0136,\n",
      "         -0.0120, -0.0157, -0.0066,  0.0029,  0.0040,  0.0157,  0.0086,  0.0022,\n",
      "         -0.0093, -0.0106, -0.0134, -0.0057,  0.0021,  0.0113, -0.0017, -0.0148,\n",
      "         -0.0060, -0.0138,  0.0054, -0.0019, -0.0069,  0.0096, -0.0068,  0.0013,\n",
      "         -0.0032, -0.0052,  0.0035,  0.0094, -0.0027,  0.0036,  0.0142,  0.0054],\n",
      "        [ 0.0048,  0.0122,  0.0070,  0.0141,  0.0066, -0.0043, -0.0110, -0.0130,\n",
      "          0.0053,  0.0087, -0.0064, -0.0049,  0.0008, -0.0153, -0.0101, -0.0133,\n",
      "          0.0066,  0.0019, -0.0004, -0.0066, -0.0157, -0.0006, -0.0031, -0.0074,\n",
      "         -0.0059,  0.0012,  0.0101,  0.0154, -0.0008,  0.0020, -0.0039,  0.0136,\n",
      "         -0.0120, -0.0157, -0.0066,  0.0029,  0.0040,  0.0157,  0.0086,  0.0022,\n",
      "         -0.0093, -0.0106, -0.0134, -0.0057,  0.0021,  0.0113, -0.0017, -0.0148,\n",
      "         -0.0060, -0.0138,  0.0054, -0.0019, -0.0069,  0.0096, -0.0068,  0.0013,\n",
      "         -0.0032, -0.0052,  0.0035,  0.0094, -0.0027,  0.0036,  0.0142,  0.0054],\n",
      "        [ 0.0048,  0.0122,  0.0070,  0.0141,  0.0066, -0.0043, -0.0110, -0.0130,\n",
      "          0.0053,  0.0087, -0.0064, -0.0049,  0.0008, -0.0153, -0.0101, -0.0133,\n",
      "          0.0066,  0.0019, -0.0004, -0.0066, -0.0157, -0.0006, -0.0031, -0.0074,\n",
      "         -0.0059,  0.0012,  0.0101,  0.0154, -0.0008,  0.0020, -0.0039,  0.0136,\n",
      "         -0.0120, -0.0157, -0.0066,  0.0029,  0.0040,  0.0157,  0.0086,  0.0022,\n",
      "         -0.0093, -0.0106, -0.0134, -0.0057,  0.0021,  0.0113, -0.0017, -0.0148,\n",
      "         -0.0060, -0.0138,  0.0054, -0.0019, -0.0069,  0.0096, -0.0068,  0.0013,\n",
      "         -0.0032, -0.0052,  0.0035,  0.0094, -0.0027,  0.0036,  0.0142,  0.0054],\n",
      "        [ 0.0048,  0.0122,  0.0070,  0.0141,  0.0066, -0.0043, -0.0110, -0.0130,\n",
      "          0.0053,  0.0087, -0.0064, -0.0049,  0.0008, -0.0153, -0.0101, -0.0133,\n",
      "          0.0066,  0.0019, -0.0004, -0.0066, -0.0157, -0.0006, -0.0031, -0.0074,\n",
      "         -0.0059,  0.0012,  0.0101,  0.0154, -0.0008,  0.0020, -0.0039,  0.0136,\n",
      "         -0.0120, -0.0157, -0.0066,  0.0029,  0.0040,  0.0157,  0.0086,  0.0022,\n",
      "         -0.0093, -0.0106, -0.0134, -0.0057,  0.0021,  0.0113, -0.0017, -0.0148,\n",
      "         -0.0060, -0.0138,  0.0054, -0.0019, -0.0069,  0.0096, -0.0068,  0.0013,\n",
      "         -0.0032, -0.0052,  0.0035,  0.0094, -0.0027,  0.0036,  0.0142,  0.0054],\n",
      "        [ 0.0048,  0.0122,  0.0070,  0.0141,  0.0066, -0.0043, -0.0110, -0.0130,\n",
      "          0.0053,  0.0087, -0.0064, -0.0049,  0.0008, -0.0153, -0.0101, -0.0133,\n",
      "          0.0066,  0.0019, -0.0004, -0.0066, -0.0157, -0.0006, -0.0031, -0.0074,\n",
      "         -0.0059,  0.0012,  0.0101,  0.0154, -0.0008,  0.0020, -0.0039,  0.0136,\n",
      "         -0.0120, -0.0157, -0.0066,  0.0029,  0.0040,  0.0157,  0.0086,  0.0022,\n",
      "         -0.0093, -0.0106, -0.0134, -0.0057,  0.0021,  0.0113, -0.0017, -0.0148,\n",
      "         -0.0060, -0.0138,  0.0054, -0.0019, -0.0069,  0.0096, -0.0068,  0.0013,\n",
      "         -0.0032, -0.0052,  0.0035,  0.0094, -0.0027,  0.0036,  0.0142,  0.0054],\n",
      "        [ 0.0048,  0.0122,  0.0070,  0.0141,  0.0066, -0.0043, -0.0110, -0.0130,\n",
      "          0.0053,  0.0087, -0.0064, -0.0049,  0.0008, -0.0153, -0.0101, -0.0133,\n",
      "          0.0066,  0.0019, -0.0004, -0.0066, -0.0157, -0.0006, -0.0031, -0.0074,\n",
      "         -0.0059,  0.0012,  0.0101,  0.0154, -0.0008,  0.0020, -0.0039,  0.0136,\n",
      "         -0.0120, -0.0157, -0.0066,  0.0029,  0.0040,  0.0157,  0.0086,  0.0022,\n",
      "         -0.0093, -0.0106, -0.0134, -0.0057,  0.0021,  0.0113, -0.0017, -0.0148,\n",
      "         -0.0060, -0.0138,  0.0054, -0.0019, -0.0069,  0.0096, -0.0068,  0.0013,\n",
      "         -0.0032, -0.0052,  0.0035,  0.0094, -0.0027,  0.0036,  0.0142,  0.0054],\n",
      "        [ 0.0048,  0.0122,  0.0070,  0.0141,  0.0066, -0.0043, -0.0110, -0.0130,\n",
      "          0.0053,  0.0087, -0.0064, -0.0049,  0.0008, -0.0153, -0.0101, -0.0133,\n",
      "          0.0066,  0.0019, -0.0004, -0.0066, -0.0157, -0.0006, -0.0031, -0.0074,\n",
      "         -0.0059,  0.0012,  0.0101,  0.0154, -0.0008,  0.0020, -0.0039,  0.0136,\n",
      "         -0.0120, -0.0157, -0.0066,  0.0029,  0.0040,  0.0157,  0.0086,  0.0022,\n",
      "         -0.0093, -0.0106, -0.0134, -0.0057,  0.0021,  0.0113, -0.0017, -0.0148,\n",
      "         -0.0060, -0.0138,  0.0054, -0.0019, -0.0069,  0.0096, -0.0068,  0.0013,\n",
      "         -0.0032, -0.0052,  0.0035,  0.0094, -0.0027,  0.0036,  0.0142,  0.0054],\n",
      "        [ 0.0048,  0.0122,  0.0070,  0.0141,  0.0066, -0.0043, -0.0110, -0.0130,\n",
      "          0.0053,  0.0087, -0.0064, -0.0049,  0.0008, -0.0153, -0.0101, -0.0133,\n",
      "          0.0066,  0.0019, -0.0004, -0.0066, -0.0157, -0.0006, -0.0031, -0.0074,\n",
      "         -0.0059,  0.0012,  0.0101,  0.0154, -0.0008,  0.0020, -0.0039,  0.0136,\n",
      "         -0.0120, -0.0157, -0.0066,  0.0029,  0.0040,  0.0157,  0.0086,  0.0022,\n",
      "         -0.0093, -0.0106, -0.0134, -0.0057,  0.0021,  0.0113, -0.0017, -0.0148,\n",
      "         -0.0060, -0.0138,  0.0054, -0.0019, -0.0069,  0.0096, -0.0068,  0.0013,\n",
      "         -0.0032, -0.0052,  0.0035,  0.0094, -0.0027,  0.0036,  0.0142,  0.0054]])\n",
      "tensor([[ 0.0048,  0.0122,  0.0070,  0.0141,  0.0066, -0.0043, -0.0110, -0.0130,\n",
      "          0.0053,  0.0087, -0.0064, -0.0049,  0.0008, -0.0153, -0.0101, -0.0133,\n",
      "          0.0066,  0.0019, -0.0004, -0.0066, -0.0157, -0.0006, -0.0031, -0.0074,\n",
      "         -0.0059,  0.0012,  0.0101,  0.0154, -0.0008,  0.0020, -0.0039,  0.0136,\n",
      "         -0.0120, -0.0157, -0.0066,  0.0029,  0.0040,  0.0157,  0.0086,  0.0022,\n",
      "         -0.0093, -0.0106, -0.0134, -0.0057,  0.0021,  0.0113, -0.0017, -0.0148,\n",
      "         -0.0060, -0.0138,  0.0054, -0.0019, -0.0069,  0.0096, -0.0068,  0.0013,\n",
      "         -0.0032, -0.0052,  0.0035,  0.0094, -0.0027,  0.0036,  0.0142,  0.0054],\n",
      "        [ 0.0048,  0.0122,  0.0070,  0.0141,  0.0066, -0.0043, -0.0110, -0.0130,\n",
      "          0.0053,  0.0087, -0.0064, -0.0049,  0.0008, -0.0153, -0.0101, -0.0133,\n",
      "          0.0066,  0.0019, -0.0004, -0.0066, -0.0157, -0.0006, -0.0031, -0.0074,\n",
      "         -0.0059,  0.0012,  0.0101,  0.0154, -0.0008,  0.0020, -0.0039,  0.0136,\n",
      "         -0.0120, -0.0157, -0.0066,  0.0029,  0.0040,  0.0157,  0.0086,  0.0022,\n",
      "         -0.0093, -0.0106, -0.0134, -0.0057,  0.0021,  0.0113, -0.0017, -0.0148,\n",
      "         -0.0060, -0.0138,  0.0054, -0.0019, -0.0069,  0.0096, -0.0068,  0.0013,\n",
      "         -0.0032, -0.0052,  0.0035,  0.0094, -0.0027,  0.0036,  0.0142,  0.0054],\n",
      "        [ 0.0048,  0.0122,  0.0070,  0.0141,  0.0066, -0.0043, -0.0110, -0.0130,\n",
      "          0.0053,  0.0087, -0.0064, -0.0049,  0.0008, -0.0153, -0.0101, -0.0133,\n",
      "          0.0066,  0.0019, -0.0004, -0.0066, -0.0157, -0.0006, -0.0031, -0.0074,\n",
      "         -0.0059,  0.0012,  0.0101,  0.0154, -0.0008,  0.0020, -0.0039,  0.0136,\n",
      "         -0.0120, -0.0157, -0.0066,  0.0029,  0.0040,  0.0157,  0.0086,  0.0022,\n",
      "         -0.0093, -0.0106, -0.0134, -0.0057,  0.0021,  0.0113, -0.0017, -0.0148,\n",
      "         -0.0060, -0.0138,  0.0054, -0.0019, -0.0069,  0.0096, -0.0068,  0.0013,\n",
      "         -0.0032, -0.0052,  0.0035,  0.0094, -0.0027,  0.0036,  0.0142,  0.0054],\n",
      "        [ 0.0048,  0.0122,  0.0070,  0.0141,  0.0066, -0.0043, -0.0110, -0.0130,\n",
      "          0.0053,  0.0087, -0.0064, -0.0049,  0.0008, -0.0153, -0.0101, -0.0133,\n",
      "          0.0066,  0.0019, -0.0004, -0.0066, -0.0157, -0.0006, -0.0031, -0.0074,\n",
      "         -0.0059,  0.0012,  0.0101,  0.0154, -0.0008,  0.0020, -0.0039,  0.0136,\n",
      "         -0.0120, -0.0157, -0.0066,  0.0029,  0.0040,  0.0157,  0.0086,  0.0022,\n",
      "         -0.0093, -0.0106, -0.0134, -0.0057,  0.0021,  0.0113, -0.0017, -0.0148,\n",
      "         -0.0060, -0.0138,  0.0054, -0.0019, -0.0069,  0.0096, -0.0068,  0.0013,\n",
      "         -0.0032, -0.0052,  0.0035,  0.0094, -0.0027,  0.0036,  0.0142,  0.0054],\n",
      "        [ 0.0048,  0.0122,  0.0070,  0.0141,  0.0066, -0.0043, -0.0110, -0.0130,\n",
      "          0.0053,  0.0087, -0.0064, -0.0049,  0.0008, -0.0153, -0.0101, -0.0133,\n",
      "          0.0066,  0.0019, -0.0004, -0.0066, -0.0157, -0.0006, -0.0031, -0.0074,\n",
      "         -0.0059,  0.0012,  0.0101,  0.0154, -0.0008,  0.0020, -0.0039,  0.0136,\n",
      "         -0.0120, -0.0157, -0.0066,  0.0029,  0.0040,  0.0157,  0.0086,  0.0022,\n",
      "         -0.0093, -0.0106, -0.0134, -0.0057,  0.0021,  0.0113, -0.0017, -0.0148,\n",
      "         -0.0060, -0.0138,  0.0054, -0.0019, -0.0069,  0.0096, -0.0068,  0.0013,\n",
      "         -0.0032, -0.0052,  0.0035,  0.0094, -0.0027,  0.0036,  0.0142,  0.0054],\n",
      "        [ 0.0048,  0.0122,  0.0070,  0.0141,  0.0066, -0.0043, -0.0110, -0.0130,\n",
      "          0.0053,  0.0087, -0.0064, -0.0049,  0.0008, -0.0153, -0.0101, -0.0133,\n",
      "          0.0066,  0.0019, -0.0004, -0.0066, -0.0157, -0.0006, -0.0031, -0.0074,\n",
      "         -0.0059,  0.0012,  0.0101,  0.0154, -0.0008,  0.0020, -0.0039,  0.0136,\n",
      "         -0.0120, -0.0157, -0.0066,  0.0029,  0.0040,  0.0157,  0.0086,  0.0022,\n",
      "         -0.0093, -0.0106, -0.0134, -0.0057,  0.0021,  0.0113, -0.0017, -0.0148,\n",
      "         -0.0060, -0.0138,  0.0054, -0.0019, -0.0069,  0.0096, -0.0068,  0.0013,\n",
      "         -0.0032, -0.0052,  0.0035,  0.0094, -0.0027,  0.0036,  0.0142,  0.0054],\n",
      "        [ 0.0048,  0.0122,  0.0070,  0.0141,  0.0066, -0.0043, -0.0110, -0.0130,\n",
      "          0.0053,  0.0087, -0.0064, -0.0049,  0.0008, -0.0153, -0.0101, -0.0133,\n",
      "          0.0066,  0.0019, -0.0004, -0.0066, -0.0157, -0.0006, -0.0031, -0.0074,\n",
      "         -0.0059,  0.0012,  0.0101,  0.0154, -0.0008,  0.0020, -0.0039,  0.0136,\n",
      "         -0.0120, -0.0157, -0.0066,  0.0029,  0.0040,  0.0157,  0.0086,  0.0022,\n",
      "         -0.0093, -0.0106, -0.0134, -0.0057,  0.0021,  0.0113, -0.0017, -0.0148,\n",
      "         -0.0060, -0.0138,  0.0054, -0.0019, -0.0069,  0.0096, -0.0068,  0.0013,\n",
      "         -0.0032, -0.0052,  0.0035,  0.0094, -0.0027,  0.0036,  0.0142,  0.0054],\n",
      "        [ 0.0048,  0.0122,  0.0070,  0.0141,  0.0066, -0.0043, -0.0110, -0.0130,\n",
      "          0.0053,  0.0087, -0.0064, -0.0049,  0.0008, -0.0153, -0.0101, -0.0133,\n",
      "          0.0066,  0.0019, -0.0004, -0.0066, -0.0157, -0.0006, -0.0031, -0.0074,\n",
      "         -0.0059,  0.0012,  0.0101,  0.0154, -0.0008,  0.0020, -0.0039,  0.0136,\n",
      "         -0.0120, -0.0157, -0.0066,  0.0029,  0.0040,  0.0157,  0.0086,  0.0022,\n",
      "         -0.0093, -0.0106, -0.0134, -0.0057,  0.0021,  0.0113, -0.0017, -0.0148,\n",
      "         -0.0060, -0.0138,  0.0054, -0.0019, -0.0069,  0.0096, -0.0068,  0.0013,\n",
      "         -0.0032, -0.0052,  0.0035,  0.0094, -0.0027,  0.0036,  0.0142,  0.0054],\n",
      "        [ 0.0048,  0.0122,  0.0070,  0.0141,  0.0066, -0.0043, -0.0110, -0.0130,\n",
      "          0.0053,  0.0087, -0.0064, -0.0049,  0.0008, -0.0153, -0.0101, -0.0133,\n",
      "          0.0066,  0.0019, -0.0004, -0.0066, -0.0157, -0.0006, -0.0031, -0.0074,\n",
      "         -0.0059,  0.0012,  0.0101,  0.0154, -0.0008,  0.0020, -0.0039,  0.0136,\n",
      "         -0.0120, -0.0157, -0.0066,  0.0029,  0.0040,  0.0157,  0.0086,  0.0022,\n",
      "         -0.0093, -0.0106, -0.0134, -0.0057,  0.0021,  0.0113, -0.0017, -0.0148,\n",
      "         -0.0060, -0.0138,  0.0054, -0.0019, -0.0069,  0.0096, -0.0068,  0.0013,\n",
      "         -0.0032, -0.0052,  0.0035,  0.0094, -0.0027,  0.0036,  0.0142,  0.0054],\n",
      "        [ 0.0048,  0.0122,  0.0070,  0.0141,  0.0066, -0.0043, -0.0110, -0.0130,\n",
      "          0.0053,  0.0087, -0.0064, -0.0049,  0.0008, -0.0153, -0.0101, -0.0133,\n",
      "          0.0066,  0.0019, -0.0004, -0.0066, -0.0157, -0.0006, -0.0031, -0.0074,\n",
      "         -0.0059,  0.0012,  0.0101,  0.0154, -0.0008,  0.0020, -0.0039,  0.0136,\n",
      "         -0.0120, -0.0157, -0.0066,  0.0029,  0.0040,  0.0157,  0.0086,  0.0022,\n",
      "         -0.0093, -0.0106, -0.0134, -0.0057,  0.0021,  0.0113, -0.0017, -0.0148,\n",
      "         -0.0060, -0.0138,  0.0054, -0.0019, -0.0069,  0.0096, -0.0068,  0.0013,\n",
      "         -0.0032, -0.0052,  0.0035,  0.0094, -0.0027,  0.0036,  0.0142,  0.0054]])\n",
      "tensor([[ 0.0048,  0.0122,  0.0070,  0.0141,  0.0066, -0.0043, -0.0110, -0.0130,\n",
      "          0.0053,  0.0087, -0.0064, -0.0049,  0.0008, -0.0153, -0.0101, -0.0133,\n",
      "          0.0066,  0.0019, -0.0004, -0.0066, -0.0157, -0.0006, -0.0031, -0.0074,\n",
      "         -0.0059,  0.0012,  0.0101,  0.0154, -0.0008,  0.0020, -0.0039,  0.0136,\n",
      "         -0.0120, -0.0157, -0.0066,  0.0029,  0.0040,  0.0157,  0.0086,  0.0022,\n",
      "         -0.0093, -0.0106, -0.0134, -0.0057,  0.0021,  0.0113, -0.0017, -0.0148,\n",
      "         -0.0060, -0.0138,  0.0054, -0.0019, -0.0069,  0.0096, -0.0068,  0.0013,\n",
      "         -0.0032, -0.0052,  0.0035,  0.0094, -0.0027,  0.0036,  0.0142,  0.0054],\n",
      "        [ 0.0048,  0.0122,  0.0070,  0.0141,  0.0066, -0.0043, -0.0110, -0.0130,\n",
      "          0.0053,  0.0087, -0.0064, -0.0049,  0.0008, -0.0153, -0.0101, -0.0133,\n",
      "          0.0066,  0.0019, -0.0004, -0.0066, -0.0157, -0.0006, -0.0031, -0.0074,\n",
      "         -0.0059,  0.0012,  0.0101,  0.0154, -0.0008,  0.0020, -0.0039,  0.0136,\n",
      "         -0.0120, -0.0157, -0.0066,  0.0029,  0.0040,  0.0157,  0.0086,  0.0022,\n",
      "         -0.0093, -0.0106, -0.0134, -0.0057,  0.0021,  0.0113, -0.0017, -0.0148,\n",
      "         -0.0060, -0.0138,  0.0054, -0.0019, -0.0069,  0.0096, -0.0068,  0.0013,\n",
      "         -0.0032, -0.0052,  0.0035,  0.0094, -0.0027,  0.0036,  0.0142,  0.0054],\n",
      "        [ 0.0048,  0.0122,  0.0070,  0.0141,  0.0066, -0.0043, -0.0110, -0.0130,\n",
      "          0.0053,  0.0087, -0.0064, -0.0049,  0.0008, -0.0153, -0.0101, -0.0133,\n",
      "          0.0066,  0.0019, -0.0004, -0.0066, -0.0157, -0.0006, -0.0031, -0.0074,\n",
      "         -0.0059,  0.0012,  0.0101,  0.0154, -0.0008,  0.0020, -0.0039,  0.0136,\n",
      "         -0.0120, -0.0157, -0.0066,  0.0029,  0.0040,  0.0157,  0.0086,  0.0022,\n",
      "         -0.0093, -0.0106, -0.0134, -0.0057,  0.0021,  0.0113, -0.0017, -0.0148,\n",
      "         -0.0060, -0.0138,  0.0054, -0.0019, -0.0069,  0.0096, -0.0068,  0.0013,\n",
      "         -0.0032, -0.0052,  0.0035,  0.0094, -0.0027,  0.0036,  0.0142,  0.0054],\n",
      "        [ 0.0048,  0.0122,  0.0070,  0.0141,  0.0066, -0.0043, -0.0110, -0.0130,\n",
      "          0.0053,  0.0087, -0.0064, -0.0049,  0.0008, -0.0153, -0.0101, -0.0133,\n",
      "          0.0066,  0.0019, -0.0004, -0.0066, -0.0157, -0.0006, -0.0031, -0.0074,\n",
      "         -0.0059,  0.0012,  0.0101,  0.0154, -0.0008,  0.0020, -0.0039,  0.0136,\n",
      "         -0.0120, -0.0157, -0.0066,  0.0029,  0.0040,  0.0157,  0.0086,  0.0022,\n",
      "         -0.0093, -0.0106, -0.0134, -0.0057,  0.0021,  0.0113, -0.0017, -0.0148,\n",
      "         -0.0060, -0.0138,  0.0054, -0.0019, -0.0069,  0.0096, -0.0068,  0.0013,\n",
      "         -0.0032, -0.0052,  0.0035,  0.0094, -0.0027,  0.0036,  0.0142,  0.0054],\n",
      "        [ 0.0048,  0.0122,  0.0070,  0.0141,  0.0066, -0.0043, -0.0110, -0.0130,\n",
      "          0.0053,  0.0087, -0.0064, -0.0049,  0.0008, -0.0153, -0.0101, -0.0133,\n",
      "          0.0066,  0.0019, -0.0004, -0.0066, -0.0157, -0.0006, -0.0031, -0.0074,\n",
      "         -0.0059,  0.0012,  0.0101,  0.0154, -0.0008,  0.0020, -0.0039,  0.0136,\n",
      "         -0.0120, -0.0157, -0.0066,  0.0029,  0.0040,  0.0157,  0.0086,  0.0022,\n",
      "         -0.0093, -0.0106, -0.0134, -0.0057,  0.0021,  0.0113, -0.0017, -0.0148,\n",
      "         -0.0060, -0.0138,  0.0054, -0.0019, -0.0069,  0.0096, -0.0068,  0.0013,\n",
      "         -0.0032, -0.0052,  0.0035,  0.0094, -0.0027,  0.0036,  0.0142,  0.0054],\n",
      "        [ 0.0048,  0.0122,  0.0070,  0.0141,  0.0066, -0.0043, -0.0110, -0.0130,\n",
      "          0.0053,  0.0087, -0.0064, -0.0049,  0.0008, -0.0153, -0.0101, -0.0133,\n",
      "          0.0066,  0.0019, -0.0004, -0.0066, -0.0157, -0.0006, -0.0031, -0.0074,\n",
      "         -0.0059,  0.0012,  0.0101,  0.0154, -0.0008,  0.0020, -0.0039,  0.0136,\n",
      "         -0.0120, -0.0157, -0.0066,  0.0029,  0.0040,  0.0157,  0.0086,  0.0022,\n",
      "         -0.0093, -0.0106, -0.0134, -0.0057,  0.0021,  0.0113, -0.0017, -0.0148,\n",
      "         -0.0060, -0.0138,  0.0054, -0.0019, -0.0069,  0.0096, -0.0068,  0.0013,\n",
      "         -0.0032, -0.0052,  0.0035,  0.0094, -0.0027,  0.0036,  0.0142,  0.0054],\n",
      "        [ 0.0048,  0.0122,  0.0070,  0.0141,  0.0066, -0.0043, -0.0110, -0.0130,\n",
      "          0.0053,  0.0087, -0.0064, -0.0049,  0.0008, -0.0153, -0.0101, -0.0133,\n",
      "          0.0066,  0.0019, -0.0004, -0.0066, -0.0157, -0.0006, -0.0031, -0.0074,\n",
      "         -0.0059,  0.0012,  0.0101,  0.0154, -0.0008,  0.0020, -0.0039,  0.0136,\n",
      "         -0.0120, -0.0157, -0.0066,  0.0029,  0.0040,  0.0157,  0.0086,  0.0022,\n",
      "         -0.0093, -0.0106, -0.0134, -0.0057,  0.0021,  0.0113, -0.0017, -0.0148,\n",
      "         -0.0060, -0.0138,  0.0054, -0.0019, -0.0069,  0.0096, -0.0068,  0.0013,\n",
      "         -0.0032, -0.0052,  0.0035,  0.0094, -0.0027,  0.0036,  0.0142,  0.0054],\n",
      "        [ 0.0048,  0.0122,  0.0070,  0.0141,  0.0066, -0.0043, -0.0110, -0.0130,\n",
      "          0.0053,  0.0087, -0.0064, -0.0049,  0.0008, -0.0153, -0.0101, -0.0133,\n",
      "          0.0066,  0.0019, -0.0004, -0.0066, -0.0157, -0.0006, -0.0031, -0.0074,\n",
      "         -0.0059,  0.0012,  0.0101,  0.0154, -0.0008,  0.0020, -0.0039,  0.0136,\n",
      "         -0.0120, -0.0157, -0.0066,  0.0029,  0.0040,  0.0157,  0.0086,  0.0022,\n",
      "         -0.0093, -0.0106, -0.0134, -0.0057,  0.0021,  0.0113, -0.0017, -0.0148,\n",
      "         -0.0060, -0.0138,  0.0054, -0.0019, -0.0069,  0.0096, -0.0068,  0.0013,\n",
      "         -0.0032, -0.0052,  0.0035,  0.0094, -0.0027,  0.0036,  0.0142,  0.0054],\n",
      "        [ 0.0048,  0.0122,  0.0070,  0.0141,  0.0066, -0.0043, -0.0110, -0.0130,\n",
      "          0.0053,  0.0087, -0.0064, -0.0049,  0.0008, -0.0153, -0.0101, -0.0133,\n",
      "          0.0066,  0.0019, -0.0004, -0.0066, -0.0157, -0.0006, -0.0031, -0.0074,\n",
      "         -0.0059,  0.0012,  0.0101,  0.0154, -0.0008,  0.0020, -0.0039,  0.0136,\n",
      "         -0.0120, -0.0157, -0.0066,  0.0029,  0.0040,  0.0157,  0.0086,  0.0022,\n",
      "         -0.0093, -0.0106, -0.0134, -0.0057,  0.0021,  0.0113, -0.0017, -0.0148,\n",
      "         -0.0060, -0.0138,  0.0054, -0.0019, -0.0069,  0.0096, -0.0068,  0.0013,\n",
      "         -0.0032, -0.0052,  0.0035,  0.0094, -0.0027,  0.0036,  0.0142,  0.0054],\n",
      "        [ 0.0048,  0.0122,  0.0070,  0.0141,  0.0066, -0.0043, -0.0110, -0.0130,\n",
      "          0.0053,  0.0087, -0.0064, -0.0049,  0.0008, -0.0153, -0.0101, -0.0133,\n",
      "          0.0066,  0.0019, -0.0004, -0.0066, -0.0157, -0.0006, -0.0031, -0.0074,\n",
      "         -0.0059,  0.0012,  0.0101,  0.0154, -0.0008,  0.0020, -0.0039,  0.0136,\n",
      "         -0.0120, -0.0157, -0.0066,  0.0029,  0.0040,  0.0157,  0.0086,  0.0022,\n",
      "         -0.0093, -0.0106, -0.0134, -0.0057,  0.0021,  0.0113, -0.0017, -0.0148,\n",
      "         -0.0060, -0.0138,  0.0054, -0.0019, -0.0069,  0.0096, -0.0068,  0.0013,\n",
      "         -0.0032, -0.0052,  0.0035,  0.0094, -0.0027,  0.0036,  0.0142,  0.0054]])\n",
      "tensor([[ 0.0048,  0.0122,  0.0070,  0.0141,  0.0066, -0.0043, -0.0110, -0.0130,\n",
      "          0.0053,  0.0087, -0.0064, -0.0049,  0.0008, -0.0153, -0.0101, -0.0133,\n",
      "          0.0066,  0.0019, -0.0004, -0.0066, -0.0157, -0.0006, -0.0031, -0.0074,\n",
      "         -0.0059,  0.0012,  0.0101,  0.0154, -0.0008,  0.0020, -0.0039,  0.0136,\n",
      "         -0.0120, -0.0157, -0.0066,  0.0029,  0.0040,  0.0157,  0.0086,  0.0022,\n",
      "         -0.0093, -0.0106, -0.0134, -0.0057,  0.0021,  0.0113, -0.0017, -0.0148,\n",
      "         -0.0060, -0.0138,  0.0054, -0.0019, -0.0069,  0.0096, -0.0068,  0.0013,\n",
      "         -0.0032, -0.0052,  0.0035,  0.0094, -0.0027,  0.0036,  0.0142,  0.0054],\n",
      "        [ 0.0048,  0.0122,  0.0070,  0.0141,  0.0066, -0.0043, -0.0110, -0.0130,\n",
      "          0.0053,  0.0087, -0.0064, -0.0049,  0.0008, -0.0153, -0.0101, -0.0133,\n",
      "          0.0066,  0.0019, -0.0004, -0.0066, -0.0157, -0.0006, -0.0031, -0.0074,\n",
      "         -0.0059,  0.0012,  0.0101,  0.0154, -0.0008,  0.0020, -0.0039,  0.0136,\n",
      "         -0.0120, -0.0157, -0.0066,  0.0029,  0.0040,  0.0157,  0.0086,  0.0022,\n",
      "         -0.0093, -0.0106, -0.0134, -0.0057,  0.0021,  0.0113, -0.0017, -0.0148,\n",
      "         -0.0060, -0.0138,  0.0054, -0.0019, -0.0069,  0.0096, -0.0068,  0.0013,\n",
      "         -0.0032, -0.0052,  0.0035,  0.0094, -0.0027,  0.0036,  0.0142,  0.0054],\n",
      "        [ 0.0048,  0.0122,  0.0070,  0.0141,  0.0066, -0.0043, -0.0110, -0.0130,\n",
      "          0.0053,  0.0087, -0.0064, -0.0049,  0.0008, -0.0153, -0.0101, -0.0133,\n",
      "          0.0066,  0.0019, -0.0004, -0.0066, -0.0157, -0.0006, -0.0031, -0.0074,\n",
      "         -0.0059,  0.0012,  0.0101,  0.0154, -0.0008,  0.0020, -0.0039,  0.0136,\n",
      "         -0.0120, -0.0157, -0.0066,  0.0029,  0.0040,  0.0157,  0.0086,  0.0022,\n",
      "         -0.0093, -0.0106, -0.0134, -0.0057,  0.0021,  0.0113, -0.0017, -0.0148,\n",
      "         -0.0060, -0.0138,  0.0054, -0.0019, -0.0069,  0.0096, -0.0068,  0.0013,\n",
      "         -0.0032, -0.0052,  0.0035,  0.0094, -0.0027,  0.0036,  0.0142,  0.0054],\n",
      "        [ 0.0048,  0.0122,  0.0070,  0.0141,  0.0066, -0.0043, -0.0110, -0.0130,\n",
      "          0.0053,  0.0087, -0.0064, -0.0049,  0.0008, -0.0153, -0.0101, -0.0133,\n",
      "          0.0066,  0.0019, -0.0004, -0.0066, -0.0157, -0.0006, -0.0031, -0.0074,\n",
      "         -0.0059,  0.0012,  0.0101,  0.0154, -0.0008,  0.0020, -0.0039,  0.0136,\n",
      "         -0.0120, -0.0157, -0.0066,  0.0029,  0.0040,  0.0157,  0.0086,  0.0022,\n",
      "         -0.0093, -0.0106, -0.0134, -0.0057,  0.0021,  0.0113, -0.0017, -0.0148,\n",
      "         -0.0060, -0.0138,  0.0054, -0.0019, -0.0069,  0.0096, -0.0068,  0.0013,\n",
      "         -0.0032, -0.0052,  0.0035,  0.0094, -0.0027,  0.0036,  0.0142,  0.0054],\n",
      "        [ 0.0048,  0.0122,  0.0070,  0.0141,  0.0066, -0.0043, -0.0110, -0.0130,\n",
      "          0.0053,  0.0087, -0.0064, -0.0049,  0.0008, -0.0153, -0.0101, -0.0133,\n",
      "          0.0066,  0.0019, -0.0004, -0.0066, -0.0157, -0.0006, -0.0031, -0.0074,\n",
      "         -0.0059,  0.0012,  0.0101,  0.0154, -0.0008,  0.0020, -0.0039,  0.0136,\n",
      "         -0.0120, -0.0157, -0.0066,  0.0029,  0.0040,  0.0157,  0.0086,  0.0022,\n",
      "         -0.0093, -0.0106, -0.0134, -0.0057,  0.0021,  0.0113, -0.0017, -0.0148,\n",
      "         -0.0060, -0.0138,  0.0054, -0.0019, -0.0069,  0.0096, -0.0068,  0.0013,\n",
      "         -0.0032, -0.0052,  0.0035,  0.0094, -0.0027,  0.0036,  0.0142,  0.0054],\n",
      "        [ 0.0048,  0.0122,  0.0070,  0.0141,  0.0066, -0.0043, -0.0110, -0.0130,\n",
      "          0.0053,  0.0087, -0.0064, -0.0049,  0.0008, -0.0153, -0.0101, -0.0133,\n",
      "          0.0066,  0.0019, -0.0004, -0.0066, -0.0157, -0.0006, -0.0031, -0.0074,\n",
      "         -0.0059,  0.0012,  0.0101,  0.0154, -0.0008,  0.0020, -0.0039,  0.0136,\n",
      "         -0.0120, -0.0157, -0.0066,  0.0029,  0.0040,  0.0157,  0.0086,  0.0022,\n",
      "         -0.0093, -0.0106, -0.0134, -0.0057,  0.0021,  0.0113, -0.0017, -0.0148,\n",
      "         -0.0060, -0.0138,  0.0054, -0.0019, -0.0069,  0.0096, -0.0068,  0.0013,\n",
      "         -0.0032, -0.0052,  0.0035,  0.0094, -0.0027,  0.0036,  0.0142,  0.0054],\n",
      "        [ 0.0048,  0.0122,  0.0070,  0.0141,  0.0066, -0.0043, -0.0110, -0.0130,\n",
      "          0.0053,  0.0087, -0.0064, -0.0049,  0.0008, -0.0153, -0.0101, -0.0133,\n",
      "          0.0066,  0.0019, -0.0004, -0.0066, -0.0157, -0.0006, -0.0031, -0.0074,\n",
      "         -0.0059,  0.0012,  0.0101,  0.0154, -0.0008,  0.0020, -0.0039,  0.0136,\n",
      "         -0.0120, -0.0157, -0.0066,  0.0029,  0.0040,  0.0157,  0.0086,  0.0022,\n",
      "         -0.0093, -0.0106, -0.0134, -0.0057,  0.0021,  0.0113, -0.0017, -0.0148,\n",
      "         -0.0060, -0.0138,  0.0054, -0.0019, -0.0069,  0.0096, -0.0068,  0.0013,\n",
      "         -0.0032, -0.0052,  0.0035,  0.0094, -0.0027,  0.0036,  0.0142,  0.0054],\n",
      "        [ 0.0048,  0.0122,  0.0070,  0.0141,  0.0066, -0.0043, -0.0110, -0.0130,\n",
      "          0.0053,  0.0087, -0.0064, -0.0049,  0.0008, -0.0153, -0.0101, -0.0133,\n",
      "          0.0066,  0.0019, -0.0004, -0.0066, -0.0157, -0.0006, -0.0031, -0.0074,\n",
      "         -0.0059,  0.0012,  0.0101,  0.0154, -0.0008,  0.0020, -0.0039,  0.0136,\n",
      "         -0.0120, -0.0157, -0.0066,  0.0029,  0.0040,  0.0157,  0.0086,  0.0022,\n",
      "         -0.0093, -0.0106, -0.0134, -0.0057,  0.0021,  0.0113, -0.0017, -0.0148,\n",
      "         -0.0060, -0.0138,  0.0054, -0.0019, -0.0069,  0.0096, -0.0068,  0.0013,\n",
      "         -0.0032, -0.0052,  0.0035,  0.0094, -0.0027,  0.0036,  0.0142,  0.0054],\n",
      "        [ 0.0048,  0.0122,  0.0070,  0.0141,  0.0066, -0.0043, -0.0110, -0.0130,\n",
      "          0.0053,  0.0087, -0.0064, -0.0049,  0.0008, -0.0153, -0.0101, -0.0133,\n",
      "          0.0066,  0.0019, -0.0004, -0.0066, -0.0157, -0.0006, -0.0031, -0.0074,\n",
      "         -0.0059,  0.0012,  0.0101,  0.0154, -0.0008,  0.0020, -0.0039,  0.0136,\n",
      "         -0.0120, -0.0157, -0.0066,  0.0029,  0.0040,  0.0157,  0.0086,  0.0022,\n",
      "         -0.0093, -0.0106, -0.0134, -0.0057,  0.0021,  0.0113, -0.0017, -0.0148,\n",
      "         -0.0060, -0.0138,  0.0054, -0.0019, -0.0069,  0.0096, -0.0068,  0.0013,\n",
      "         -0.0032, -0.0052,  0.0035,  0.0094, -0.0027,  0.0036,  0.0142,  0.0054],\n",
      "        [ 0.0048,  0.0122,  0.0070,  0.0141,  0.0066, -0.0043, -0.0110, -0.0130,\n",
      "          0.0053,  0.0087, -0.0064, -0.0049,  0.0008, -0.0153, -0.0101, -0.0133,\n",
      "          0.0066,  0.0019, -0.0004, -0.0066, -0.0157, -0.0006, -0.0031, -0.0074,\n",
      "         -0.0059,  0.0012,  0.0101,  0.0154, -0.0008,  0.0020, -0.0039,  0.0136,\n",
      "         -0.0120, -0.0157, -0.0066,  0.0029,  0.0040,  0.0157,  0.0086,  0.0022,\n",
      "         -0.0093, -0.0106, -0.0134, -0.0057,  0.0021,  0.0113, -0.0017, -0.0148,\n",
      "         -0.0060, -0.0138,  0.0054, -0.0019, -0.0069,  0.0096, -0.0068,  0.0013,\n",
      "         -0.0032, -0.0052,  0.0035,  0.0094, -0.0027,  0.0036,  0.0142,  0.0054]])\n",
      "tensor([[ 0.0048,  0.0122,  0.0070,  0.0141,  0.0066, -0.0043, -0.0110, -0.0130,\n",
      "          0.0053,  0.0087, -0.0064, -0.0049,  0.0008, -0.0153, -0.0101, -0.0133,\n",
      "          0.0066,  0.0019, -0.0004, -0.0066, -0.0157, -0.0006, -0.0031, -0.0074,\n",
      "         -0.0059,  0.0012,  0.0101,  0.0154, -0.0008,  0.0020, -0.0039,  0.0136,\n",
      "         -0.0120, -0.0157, -0.0066,  0.0029,  0.0040,  0.0157,  0.0086,  0.0022,\n",
      "         -0.0093, -0.0106, -0.0134, -0.0057,  0.0021,  0.0113, -0.0017, -0.0148,\n",
      "         -0.0060, -0.0138,  0.0054, -0.0019, -0.0069,  0.0096, -0.0068,  0.0013,\n",
      "         -0.0032, -0.0052,  0.0035,  0.0094, -0.0027,  0.0036,  0.0142,  0.0054],\n",
      "        [ 0.0048,  0.0122,  0.0070,  0.0141,  0.0066, -0.0043, -0.0110, -0.0130,\n",
      "          0.0053,  0.0087, -0.0064, -0.0049,  0.0008, -0.0153, -0.0101, -0.0133,\n",
      "          0.0066,  0.0019, -0.0004, -0.0066, -0.0157, -0.0006, -0.0031, -0.0074,\n",
      "         -0.0059,  0.0012,  0.0101,  0.0154, -0.0008,  0.0020, -0.0039,  0.0136,\n",
      "         -0.0120, -0.0157, -0.0066,  0.0029,  0.0040,  0.0157,  0.0086,  0.0022,\n",
      "         -0.0093, -0.0106, -0.0134, -0.0057,  0.0021,  0.0113, -0.0017, -0.0148,\n",
      "         -0.0060, -0.0138,  0.0054, -0.0019, -0.0069,  0.0096, -0.0068,  0.0013,\n",
      "         -0.0032, -0.0052,  0.0035,  0.0094, -0.0027,  0.0036,  0.0142,  0.0054],\n",
      "        [ 0.0048,  0.0122,  0.0070,  0.0141,  0.0066, -0.0043, -0.0110, -0.0130,\n",
      "          0.0053,  0.0087, -0.0064, -0.0049,  0.0008, -0.0153, -0.0101, -0.0133,\n",
      "          0.0066,  0.0019, -0.0004, -0.0066, -0.0157, -0.0006, -0.0031, -0.0074,\n",
      "         -0.0059,  0.0012,  0.0101,  0.0154, -0.0008,  0.0020, -0.0039,  0.0136,\n",
      "         -0.0120, -0.0157, -0.0066,  0.0029,  0.0040,  0.0157,  0.0086,  0.0022,\n",
      "         -0.0093, -0.0106, -0.0134, -0.0057,  0.0021,  0.0113, -0.0017, -0.0148,\n",
      "         -0.0060, -0.0138,  0.0054, -0.0019, -0.0069,  0.0096, -0.0068,  0.0013,\n",
      "         -0.0032, -0.0052,  0.0035,  0.0094, -0.0027,  0.0036,  0.0142,  0.0054],\n",
      "        [ 0.0048,  0.0122,  0.0070,  0.0141,  0.0066, -0.0043, -0.0110, -0.0130,\n",
      "          0.0053,  0.0087, -0.0064, -0.0049,  0.0008, -0.0153, -0.0101, -0.0133,\n",
      "          0.0066,  0.0019, -0.0004, -0.0066, -0.0157, -0.0006, -0.0031, -0.0074,\n",
      "         -0.0059,  0.0012,  0.0101,  0.0154, -0.0008,  0.0020, -0.0039,  0.0136,\n",
      "         -0.0120, -0.0157, -0.0066,  0.0029,  0.0040,  0.0157,  0.0086,  0.0022,\n",
      "         -0.0093, -0.0106, -0.0134, -0.0057,  0.0021,  0.0113, -0.0017, -0.0148,\n",
      "         -0.0060, -0.0138,  0.0054, -0.0019, -0.0069,  0.0096, -0.0068,  0.0013,\n",
      "         -0.0032, -0.0052,  0.0035,  0.0094, -0.0027,  0.0036,  0.0142,  0.0054],\n",
      "        [ 0.0048,  0.0122,  0.0070,  0.0141,  0.0066, -0.0043, -0.0110, -0.0130,\n",
      "          0.0053,  0.0087, -0.0064, -0.0049,  0.0008, -0.0153, -0.0101, -0.0133,\n",
      "          0.0066,  0.0019, -0.0004, -0.0066, -0.0157, -0.0006, -0.0031, -0.0074,\n",
      "         -0.0059,  0.0012,  0.0101,  0.0154, -0.0008,  0.0020, -0.0039,  0.0136,\n",
      "         -0.0120, -0.0157, -0.0066,  0.0029,  0.0040,  0.0157,  0.0086,  0.0022,\n",
      "         -0.0093, -0.0106, -0.0134, -0.0057,  0.0021,  0.0113, -0.0017, -0.0148,\n",
      "         -0.0060, -0.0138,  0.0054, -0.0019, -0.0069,  0.0096, -0.0068,  0.0013,\n",
      "         -0.0032, -0.0052,  0.0035,  0.0094, -0.0027,  0.0036,  0.0142,  0.0054],\n",
      "        [ 0.0048,  0.0122,  0.0070,  0.0141,  0.0066, -0.0043, -0.0110, -0.0130,\n",
      "          0.0053,  0.0087, -0.0064, -0.0049,  0.0008, -0.0153, -0.0101, -0.0133,\n",
      "          0.0066,  0.0019, -0.0004, -0.0066, -0.0157, -0.0006, -0.0031, -0.0074,\n",
      "         -0.0059,  0.0012,  0.0101,  0.0154, -0.0008,  0.0020, -0.0039,  0.0136,\n",
      "         -0.0120, -0.0157, -0.0066,  0.0029,  0.0040,  0.0157,  0.0086,  0.0022,\n",
      "         -0.0093, -0.0106, -0.0134, -0.0057,  0.0021,  0.0113, -0.0017, -0.0148,\n",
      "         -0.0060, -0.0138,  0.0054, -0.0019, -0.0069,  0.0096, -0.0068,  0.0013,\n",
      "         -0.0032, -0.0052,  0.0035,  0.0094, -0.0027,  0.0036,  0.0142,  0.0054],\n",
      "        [ 0.0048,  0.0122,  0.0070,  0.0141,  0.0066, -0.0043, -0.0110, -0.0130,\n",
      "          0.0053,  0.0087, -0.0064, -0.0049,  0.0008, -0.0153, -0.0101, -0.0133,\n",
      "          0.0066,  0.0019, -0.0004, -0.0066, -0.0157, -0.0006, -0.0031, -0.0074,\n",
      "         -0.0059,  0.0012,  0.0101,  0.0154, -0.0008,  0.0020, -0.0039,  0.0136,\n",
      "         -0.0120, -0.0157, -0.0066,  0.0029,  0.0040,  0.0157,  0.0086,  0.0022,\n",
      "         -0.0093, -0.0106, -0.0134, -0.0057,  0.0021,  0.0113, -0.0017, -0.0148,\n",
      "         -0.0060, -0.0138,  0.0054, -0.0019, -0.0069,  0.0096, -0.0068,  0.0013,\n",
      "         -0.0032, -0.0052,  0.0035,  0.0094, -0.0027,  0.0036,  0.0142,  0.0054],\n",
      "        [ 0.0048,  0.0122,  0.0070,  0.0141,  0.0066, -0.0043, -0.0110, -0.0130,\n",
      "          0.0053,  0.0087, -0.0064, -0.0049,  0.0008, -0.0153, -0.0101, -0.0133,\n",
      "          0.0066,  0.0019, -0.0004, -0.0066, -0.0157, -0.0006, -0.0031, -0.0074,\n",
      "         -0.0059,  0.0012,  0.0101,  0.0154, -0.0008,  0.0020, -0.0039,  0.0136,\n",
      "         -0.0120, -0.0157, -0.0066,  0.0029,  0.0040,  0.0157,  0.0086,  0.0022,\n",
      "         -0.0093, -0.0106, -0.0134, -0.0057,  0.0021,  0.0113, -0.0017, -0.0148,\n",
      "         -0.0060, -0.0138,  0.0054, -0.0019, -0.0069,  0.0096, -0.0068,  0.0013,\n",
      "         -0.0032, -0.0052,  0.0035,  0.0094, -0.0027,  0.0036,  0.0142,  0.0054],\n",
      "        [ 0.0048,  0.0122,  0.0070,  0.0141,  0.0066, -0.0043, -0.0110, -0.0130,\n",
      "          0.0053,  0.0087, -0.0064, -0.0049,  0.0008, -0.0153, -0.0101, -0.0133,\n",
      "          0.0066,  0.0019, -0.0004, -0.0066, -0.0157, -0.0006, -0.0031, -0.0074,\n",
      "         -0.0059,  0.0012,  0.0101,  0.0154, -0.0008,  0.0020, -0.0039,  0.0136,\n",
      "         -0.0120, -0.0157, -0.0066,  0.0029,  0.0040,  0.0157,  0.0086,  0.0022,\n",
      "         -0.0093, -0.0106, -0.0134, -0.0057,  0.0021,  0.0113, -0.0017, -0.0148,\n",
      "         -0.0060, -0.0138,  0.0054, -0.0019, -0.0069,  0.0096, -0.0068,  0.0013,\n",
      "         -0.0032, -0.0052,  0.0035,  0.0094, -0.0027,  0.0036,  0.0142,  0.0054],\n",
      "        [ 0.0048,  0.0122,  0.0070,  0.0141,  0.0066, -0.0043, -0.0110, -0.0130,\n",
      "          0.0053,  0.0087, -0.0064, -0.0049,  0.0008, -0.0153, -0.0101, -0.0133,\n",
      "          0.0066,  0.0019, -0.0004, -0.0066, -0.0157, -0.0006, -0.0031, -0.0074,\n",
      "         -0.0059,  0.0012,  0.0101,  0.0154, -0.0008,  0.0020, -0.0039,  0.0136,\n",
      "         -0.0120, -0.0157, -0.0066,  0.0029,  0.0040,  0.0157,  0.0086,  0.0022,\n",
      "         -0.0093, -0.0106, -0.0134, -0.0057,  0.0021,  0.0113, -0.0017, -0.0148,\n",
      "         -0.0060, -0.0138,  0.0054, -0.0019, -0.0069,  0.0096, -0.0068,  0.0013,\n",
      "         -0.0032, -0.0052,  0.0035,  0.0094, -0.0027,  0.0036,  0.0142,  0.0054]])\n",
      "tensor([[ 0.0048,  0.0122,  0.0070,  0.0141,  0.0066, -0.0043, -0.0110, -0.0130,\n",
      "          0.0053,  0.0087, -0.0064, -0.0049,  0.0008, -0.0153, -0.0101, -0.0133,\n",
      "          0.0066,  0.0019, -0.0004, -0.0066, -0.0157, -0.0006, -0.0031, -0.0074,\n",
      "         -0.0059,  0.0012,  0.0101,  0.0154, -0.0008,  0.0020, -0.0039,  0.0136,\n",
      "         -0.0120, -0.0157, -0.0066,  0.0029,  0.0040,  0.0157,  0.0086,  0.0022,\n",
      "         -0.0093, -0.0106, -0.0134, -0.0057,  0.0021,  0.0113, -0.0017, -0.0148,\n",
      "         -0.0060, -0.0138,  0.0054, -0.0019, -0.0069,  0.0096, -0.0068,  0.0013,\n",
      "         -0.0032, -0.0052,  0.0035,  0.0094, -0.0027,  0.0036,  0.0142,  0.0054],\n",
      "        [ 0.0048,  0.0122,  0.0070,  0.0141,  0.0066, -0.0043, -0.0110, -0.0130,\n",
      "          0.0053,  0.0087, -0.0064, -0.0049,  0.0008, -0.0153, -0.0101, -0.0133,\n",
      "          0.0066,  0.0019, -0.0004, -0.0066, -0.0157, -0.0006, -0.0031, -0.0074,\n",
      "         -0.0059,  0.0012,  0.0101,  0.0154, -0.0008,  0.0020, -0.0039,  0.0136,\n",
      "         -0.0120, -0.0157, -0.0066,  0.0029,  0.0040,  0.0157,  0.0086,  0.0022,\n",
      "         -0.0093, -0.0106, -0.0134, -0.0057,  0.0021,  0.0113, -0.0017, -0.0148,\n",
      "         -0.0060, -0.0138,  0.0054, -0.0019, -0.0069,  0.0096, -0.0068,  0.0013,\n",
      "         -0.0032, -0.0052,  0.0035,  0.0094, -0.0027,  0.0036,  0.0142,  0.0054],\n",
      "        [ 0.0048,  0.0122,  0.0070,  0.0141,  0.0066, -0.0043, -0.0110, -0.0130,\n",
      "          0.0053,  0.0087, -0.0064, -0.0049,  0.0008, -0.0153, -0.0101, -0.0133,\n",
      "          0.0066,  0.0019, -0.0004, -0.0066, -0.0157, -0.0006, -0.0031, -0.0074,\n",
      "         -0.0059,  0.0012,  0.0101,  0.0154, -0.0008,  0.0020, -0.0039,  0.0136,\n",
      "         -0.0120, -0.0157, -0.0066,  0.0029,  0.0040,  0.0157,  0.0086,  0.0022,\n",
      "         -0.0093, -0.0106, -0.0134, -0.0057,  0.0021,  0.0113, -0.0017, -0.0148,\n",
      "         -0.0060, -0.0138,  0.0054, -0.0019, -0.0069,  0.0096, -0.0068,  0.0013,\n",
      "         -0.0032, -0.0052,  0.0035,  0.0094, -0.0027,  0.0036,  0.0142,  0.0054],\n",
      "        [ 0.0048,  0.0122,  0.0070,  0.0141,  0.0066, -0.0043, -0.0110, -0.0130,\n",
      "          0.0053,  0.0087, -0.0064, -0.0049,  0.0008, -0.0153, -0.0101, -0.0133,\n",
      "          0.0066,  0.0019, -0.0004, -0.0066, -0.0157, -0.0006, -0.0031, -0.0074,\n",
      "         -0.0059,  0.0012,  0.0101,  0.0154, -0.0008,  0.0020, -0.0039,  0.0136,\n",
      "         -0.0120, -0.0157, -0.0066,  0.0029,  0.0040,  0.0157,  0.0086,  0.0022,\n",
      "         -0.0093, -0.0106, -0.0134, -0.0057,  0.0021,  0.0113, -0.0017, -0.0148,\n",
      "         -0.0060, -0.0138,  0.0054, -0.0019, -0.0069,  0.0096, -0.0068,  0.0013,\n",
      "         -0.0032, -0.0052,  0.0035,  0.0094, -0.0027,  0.0036,  0.0142,  0.0054],\n",
      "        [ 0.0048,  0.0122,  0.0070,  0.0141,  0.0066, -0.0043, -0.0110, -0.0130,\n",
      "          0.0053,  0.0087, -0.0064, -0.0049,  0.0008, -0.0153, -0.0101, -0.0133,\n",
      "          0.0066,  0.0019, -0.0004, -0.0066, -0.0157, -0.0006, -0.0031, -0.0074,\n",
      "         -0.0059,  0.0012,  0.0101,  0.0154, -0.0008,  0.0020, -0.0039,  0.0136,\n",
      "         -0.0120, -0.0157, -0.0066,  0.0029,  0.0040,  0.0157,  0.0086,  0.0022,\n",
      "         -0.0093, -0.0106, -0.0134, -0.0057,  0.0021,  0.0113, -0.0017, -0.0148,\n",
      "         -0.0060, -0.0138,  0.0054, -0.0019, -0.0069,  0.0096, -0.0068,  0.0013,\n",
      "         -0.0032, -0.0052,  0.0035,  0.0094, -0.0027,  0.0036,  0.0142,  0.0054],\n",
      "        [ 0.0048,  0.0122,  0.0070,  0.0141,  0.0066, -0.0043, -0.0110, -0.0130,\n",
      "          0.0053,  0.0087, -0.0064, -0.0049,  0.0008, -0.0153, -0.0101, -0.0133,\n",
      "          0.0066,  0.0019, -0.0004, -0.0066, -0.0157, -0.0006, -0.0031, -0.0074,\n",
      "         -0.0059,  0.0012,  0.0101,  0.0154, -0.0008,  0.0020, -0.0039,  0.0136,\n",
      "         -0.0120, -0.0157, -0.0066,  0.0029,  0.0040,  0.0157,  0.0086,  0.0022,\n",
      "         -0.0093, -0.0106, -0.0134, -0.0057,  0.0021,  0.0113, -0.0017, -0.0148,\n",
      "         -0.0060, -0.0138,  0.0054, -0.0019, -0.0069,  0.0096, -0.0068,  0.0013,\n",
      "         -0.0032, -0.0052,  0.0035,  0.0094, -0.0027,  0.0036,  0.0142,  0.0054],\n",
      "        [ 0.0048,  0.0122,  0.0070,  0.0141,  0.0066, -0.0043, -0.0110, -0.0130,\n",
      "          0.0053,  0.0087, -0.0064, -0.0049,  0.0008, -0.0153, -0.0101, -0.0133,\n",
      "          0.0066,  0.0019, -0.0004, -0.0066, -0.0157, -0.0006, -0.0031, -0.0074,\n",
      "         -0.0059,  0.0012,  0.0101,  0.0154, -0.0008,  0.0020, -0.0039,  0.0136,\n",
      "         -0.0120, -0.0157, -0.0066,  0.0029,  0.0040,  0.0157,  0.0086,  0.0022,\n",
      "         -0.0093, -0.0106, -0.0134, -0.0057,  0.0021,  0.0113, -0.0017, -0.0148,\n",
      "         -0.0060, -0.0138,  0.0054, -0.0019, -0.0069,  0.0096, -0.0068,  0.0013,\n",
      "         -0.0032, -0.0052,  0.0035,  0.0094, -0.0027,  0.0036,  0.0142,  0.0054],\n",
      "        [ 0.0048,  0.0122,  0.0070,  0.0141,  0.0066, -0.0043, -0.0110, -0.0130,\n",
      "          0.0053,  0.0087, -0.0064, -0.0049,  0.0008, -0.0153, -0.0101, -0.0133,\n",
      "          0.0066,  0.0019, -0.0004, -0.0066, -0.0157, -0.0006, -0.0031, -0.0074,\n",
      "         -0.0059,  0.0012,  0.0101,  0.0154, -0.0008,  0.0020, -0.0039,  0.0136,\n",
      "         -0.0120, -0.0157, -0.0066,  0.0029,  0.0040,  0.0157,  0.0086,  0.0022,\n",
      "         -0.0093, -0.0106, -0.0134, -0.0057,  0.0021,  0.0113, -0.0017, -0.0148,\n",
      "         -0.0060, -0.0138,  0.0054, -0.0019, -0.0069,  0.0096, -0.0068,  0.0013,\n",
      "         -0.0032, -0.0052,  0.0035,  0.0094, -0.0027,  0.0036,  0.0142,  0.0054],\n",
      "        [ 0.0048,  0.0122,  0.0070,  0.0141,  0.0066, -0.0043, -0.0110, -0.0130,\n",
      "          0.0053,  0.0087, -0.0064, -0.0049,  0.0008, -0.0153, -0.0101, -0.0133,\n",
      "          0.0066,  0.0019, -0.0004, -0.0066, -0.0157, -0.0006, -0.0031, -0.0074,\n",
      "         -0.0059,  0.0012,  0.0101,  0.0154, -0.0008,  0.0020, -0.0039,  0.0136,\n",
      "         -0.0120, -0.0157, -0.0066,  0.0029,  0.0040,  0.0157,  0.0086,  0.0022,\n",
      "         -0.0093, -0.0106, -0.0134, -0.0057,  0.0021,  0.0113, -0.0017, -0.0148,\n",
      "         -0.0060, -0.0138,  0.0054, -0.0019, -0.0069,  0.0096, -0.0068,  0.0013,\n",
      "         -0.0032, -0.0052,  0.0035,  0.0094, -0.0027,  0.0036,  0.0142,  0.0054],\n",
      "        [ 0.0048,  0.0122,  0.0070,  0.0141,  0.0066, -0.0043, -0.0110, -0.0130,\n",
      "          0.0053,  0.0087, -0.0064, -0.0049,  0.0008, -0.0153, -0.0101, -0.0133,\n",
      "          0.0066,  0.0019, -0.0004, -0.0066, -0.0157, -0.0006, -0.0031, -0.0074,\n",
      "         -0.0059,  0.0012,  0.0101,  0.0154, -0.0008,  0.0020, -0.0039,  0.0136,\n",
      "         -0.0120, -0.0157, -0.0066,  0.0029,  0.0040,  0.0157,  0.0086,  0.0022,\n",
      "         -0.0093, -0.0106, -0.0134, -0.0057,  0.0021,  0.0113, -0.0017, -0.0148,\n",
      "         -0.0060, -0.0138,  0.0054, -0.0019, -0.0069,  0.0096, -0.0068,  0.0013,\n",
      "         -0.0032, -0.0052,  0.0035,  0.0094, -0.0027,  0.0036,  0.0142,  0.0054]])\n",
      "tensor([[ 0.0048,  0.0122,  0.0070,  0.0141,  0.0066, -0.0043, -0.0110, -0.0130,\n",
      "          0.0053,  0.0087, -0.0064, -0.0049,  0.0008, -0.0153, -0.0101, -0.0133,\n",
      "          0.0066,  0.0019, -0.0004, -0.0066, -0.0157, -0.0006, -0.0031, -0.0074,\n",
      "         -0.0059,  0.0012,  0.0101,  0.0154, -0.0008,  0.0020, -0.0039,  0.0136,\n",
      "         -0.0120, -0.0157, -0.0066,  0.0029,  0.0040,  0.0157,  0.0086,  0.0022,\n",
      "         -0.0093, -0.0106, -0.0134, -0.0057,  0.0021,  0.0113, -0.0017, -0.0148,\n",
      "         -0.0060, -0.0138,  0.0054, -0.0019, -0.0069,  0.0096, -0.0068,  0.0013,\n",
      "         -0.0032, -0.0052,  0.0035,  0.0094, -0.0027,  0.0036,  0.0142,  0.0054],\n",
      "        [ 0.0048,  0.0122,  0.0070,  0.0141,  0.0066, -0.0043, -0.0110, -0.0130,\n",
      "          0.0053,  0.0087, -0.0064, -0.0049,  0.0008, -0.0153, -0.0101, -0.0133,\n",
      "          0.0066,  0.0019, -0.0004, -0.0066, -0.0157, -0.0006, -0.0031, -0.0074,\n",
      "         -0.0059,  0.0012,  0.0101,  0.0154, -0.0008,  0.0020, -0.0039,  0.0136,\n",
      "         -0.0120, -0.0157, -0.0066,  0.0029,  0.0040,  0.0157,  0.0086,  0.0022,\n",
      "         -0.0093, -0.0106, -0.0134, -0.0057,  0.0021,  0.0113, -0.0017, -0.0148,\n",
      "         -0.0060, -0.0138,  0.0054, -0.0019, -0.0069,  0.0096, -0.0068,  0.0013,\n",
      "         -0.0032, -0.0052,  0.0035,  0.0094, -0.0027,  0.0036,  0.0142,  0.0054],\n",
      "        [ 0.0048,  0.0122,  0.0070,  0.0141,  0.0066, -0.0043, -0.0110, -0.0130,\n",
      "          0.0053,  0.0087, -0.0064, -0.0049,  0.0008, -0.0153, -0.0101, -0.0133,\n",
      "          0.0066,  0.0019, -0.0004, -0.0066, -0.0157, -0.0006, -0.0031, -0.0074,\n",
      "         -0.0059,  0.0012,  0.0101,  0.0154, -0.0008,  0.0020, -0.0039,  0.0136,\n",
      "         -0.0120, -0.0157, -0.0066,  0.0029,  0.0040,  0.0157,  0.0086,  0.0022,\n",
      "         -0.0093, -0.0106, -0.0134, -0.0057,  0.0021,  0.0113, -0.0017, -0.0148,\n",
      "         -0.0060, -0.0138,  0.0054, -0.0019, -0.0069,  0.0096, -0.0068,  0.0013,\n",
      "         -0.0032, -0.0052,  0.0035,  0.0094, -0.0027,  0.0036,  0.0142,  0.0054],\n",
      "        [ 0.0048,  0.0122,  0.0070,  0.0141,  0.0066, -0.0043, -0.0110, -0.0130,\n",
      "          0.0053,  0.0087, -0.0064, -0.0049,  0.0008, -0.0153, -0.0101, -0.0133,\n",
      "          0.0066,  0.0019, -0.0004, -0.0066, -0.0157, -0.0006, -0.0031, -0.0074,\n",
      "         -0.0059,  0.0012,  0.0101,  0.0154, -0.0008,  0.0020, -0.0039,  0.0136,\n",
      "         -0.0120, -0.0157, -0.0066,  0.0029,  0.0040,  0.0157,  0.0086,  0.0022,\n",
      "         -0.0093, -0.0106, -0.0134, -0.0057,  0.0021,  0.0113, -0.0017, -0.0148,\n",
      "         -0.0060, -0.0138,  0.0054, -0.0019, -0.0069,  0.0096, -0.0068,  0.0013,\n",
      "         -0.0032, -0.0052,  0.0035,  0.0094, -0.0027,  0.0036,  0.0142,  0.0054],\n",
      "        [ 0.0048,  0.0122,  0.0070,  0.0141,  0.0066, -0.0043, -0.0110, -0.0130,\n",
      "          0.0053,  0.0087, -0.0064, -0.0049,  0.0008, -0.0153, -0.0101, -0.0133,\n",
      "          0.0066,  0.0019, -0.0004, -0.0066, -0.0157, -0.0006, -0.0031, -0.0074,\n",
      "         -0.0059,  0.0012,  0.0101,  0.0154, -0.0008,  0.0020, -0.0039,  0.0136,\n",
      "         -0.0120, -0.0157, -0.0066,  0.0029,  0.0040,  0.0157,  0.0086,  0.0022,\n",
      "         -0.0093, -0.0106, -0.0134, -0.0057,  0.0021,  0.0113, -0.0017, -0.0148,\n",
      "         -0.0060, -0.0138,  0.0054, -0.0019, -0.0069,  0.0096, -0.0068,  0.0013,\n",
      "         -0.0032, -0.0052,  0.0035,  0.0094, -0.0027,  0.0036,  0.0142,  0.0054],\n",
      "        [ 0.0048,  0.0122,  0.0070,  0.0141,  0.0066, -0.0043, -0.0110, -0.0130,\n",
      "          0.0053,  0.0087, -0.0064, -0.0049,  0.0008, -0.0153, -0.0101, -0.0133,\n",
      "          0.0066,  0.0019, -0.0004, -0.0066, -0.0157, -0.0006, -0.0031, -0.0074,\n",
      "         -0.0059,  0.0012,  0.0101,  0.0154, -0.0008,  0.0020, -0.0039,  0.0136,\n",
      "         -0.0120, -0.0157, -0.0066,  0.0029,  0.0040,  0.0157,  0.0086,  0.0022,\n",
      "         -0.0093, -0.0106, -0.0134, -0.0057,  0.0021,  0.0113, -0.0017, -0.0148,\n",
      "         -0.0060, -0.0138,  0.0054, -0.0019, -0.0069,  0.0096, -0.0068,  0.0013,\n",
      "         -0.0032, -0.0052,  0.0035,  0.0094, -0.0027,  0.0036,  0.0142,  0.0054],\n",
      "        [ 0.0048,  0.0122,  0.0070,  0.0141,  0.0066, -0.0043, -0.0110, -0.0130,\n",
      "          0.0053,  0.0087, -0.0064, -0.0049,  0.0008, -0.0153, -0.0101, -0.0133,\n",
      "          0.0066,  0.0019, -0.0004, -0.0066, -0.0157, -0.0006, -0.0031, -0.0074,\n",
      "         -0.0059,  0.0012,  0.0101,  0.0154, -0.0008,  0.0020, -0.0039,  0.0136,\n",
      "         -0.0120, -0.0157, -0.0066,  0.0029,  0.0040,  0.0157,  0.0086,  0.0022,\n",
      "         -0.0093, -0.0106, -0.0134, -0.0057,  0.0021,  0.0113, -0.0017, -0.0148,\n",
      "         -0.0060, -0.0138,  0.0054, -0.0019, -0.0069,  0.0096, -0.0068,  0.0013,\n",
      "         -0.0032, -0.0052,  0.0035,  0.0094, -0.0027,  0.0036,  0.0142,  0.0054],\n",
      "        [ 0.0048,  0.0122,  0.0070,  0.0141,  0.0066, -0.0043, -0.0110, -0.0130,\n",
      "          0.0053,  0.0087, -0.0064, -0.0049,  0.0008, -0.0153, -0.0101, -0.0133,\n",
      "          0.0066,  0.0019, -0.0004, -0.0066, -0.0157, -0.0006, -0.0031, -0.0074,\n",
      "         -0.0059,  0.0012,  0.0101,  0.0154, -0.0008,  0.0020, -0.0039,  0.0136,\n",
      "         -0.0120, -0.0157, -0.0066,  0.0029,  0.0040,  0.0157,  0.0086,  0.0022,\n",
      "         -0.0093, -0.0106, -0.0134, -0.0057,  0.0021,  0.0113, -0.0017, -0.0148,\n",
      "         -0.0060, -0.0138,  0.0054, -0.0019, -0.0069,  0.0096, -0.0068,  0.0013,\n",
      "         -0.0032, -0.0052,  0.0035,  0.0094, -0.0027,  0.0036,  0.0142,  0.0054],\n",
      "        [ 0.0048,  0.0122,  0.0070,  0.0141,  0.0066, -0.0043, -0.0110, -0.0130,\n",
      "          0.0053,  0.0087, -0.0064, -0.0049,  0.0008, -0.0153, -0.0101, -0.0133,\n",
      "          0.0066,  0.0019, -0.0004, -0.0066, -0.0157, -0.0006, -0.0031, -0.0074,\n",
      "         -0.0059,  0.0012,  0.0101,  0.0154, -0.0008,  0.0020, -0.0039,  0.0136,\n",
      "         -0.0120, -0.0157, -0.0066,  0.0029,  0.0040,  0.0157,  0.0086,  0.0022,\n",
      "         -0.0093, -0.0106, -0.0134, -0.0057,  0.0021,  0.0113, -0.0017, -0.0148,\n",
      "         -0.0060, -0.0138,  0.0054, -0.0019, -0.0069,  0.0096, -0.0068,  0.0013,\n",
      "         -0.0032, -0.0052,  0.0035,  0.0094, -0.0027,  0.0036,  0.0142,  0.0054],\n",
      "        [ 0.0048,  0.0122,  0.0070,  0.0141,  0.0066, -0.0043, -0.0110, -0.0130,\n",
      "          0.0053,  0.0087, -0.0064, -0.0049,  0.0008, -0.0153, -0.0101, -0.0133,\n",
      "          0.0066,  0.0019, -0.0004, -0.0066, -0.0157, -0.0006, -0.0031, -0.0074,\n",
      "         -0.0059,  0.0012,  0.0101,  0.0154, -0.0008,  0.0020, -0.0039,  0.0136,\n",
      "         -0.0120, -0.0157, -0.0066,  0.0029,  0.0040,  0.0157,  0.0086,  0.0022,\n",
      "         -0.0093, -0.0106, -0.0134, -0.0057,  0.0021,  0.0113, -0.0017, -0.0148,\n",
      "         -0.0060, -0.0138,  0.0054, -0.0019, -0.0069,  0.0096, -0.0068,  0.0013,\n",
      "         -0.0032, -0.0052,  0.0035,  0.0094, -0.0027,  0.0036,  0.0142,  0.0054]])\n",
      "tensor([[ 0.0048,  0.0122,  0.0070,  0.0141,  0.0066, -0.0043, -0.0110, -0.0130,\n",
      "          0.0053,  0.0087, -0.0064, -0.0049,  0.0008, -0.0153, -0.0101, -0.0133,\n",
      "          0.0066,  0.0019, -0.0004, -0.0066, -0.0157, -0.0006, -0.0031, -0.0074,\n",
      "         -0.0059,  0.0012,  0.0101,  0.0154, -0.0008,  0.0020, -0.0039,  0.0136,\n",
      "         -0.0120, -0.0157, -0.0066,  0.0029,  0.0040,  0.0157,  0.0086,  0.0022,\n",
      "         -0.0093, -0.0106, -0.0134, -0.0057,  0.0021,  0.0113, -0.0017, -0.0148,\n",
      "         -0.0060, -0.0138,  0.0054, -0.0019, -0.0069,  0.0096, -0.0068,  0.0013,\n",
      "         -0.0032, -0.0052,  0.0035,  0.0094, -0.0027,  0.0036,  0.0142,  0.0054],\n",
      "        [ 0.0048,  0.0122,  0.0070,  0.0141,  0.0066, -0.0043, -0.0110, -0.0130,\n",
      "          0.0053,  0.0087, -0.0064, -0.0049,  0.0008, -0.0153, -0.0101, -0.0133,\n",
      "          0.0066,  0.0019, -0.0004, -0.0066, -0.0157, -0.0006, -0.0031, -0.0074,\n",
      "         -0.0059,  0.0012,  0.0101,  0.0154, -0.0008,  0.0020, -0.0039,  0.0136,\n",
      "         -0.0120, -0.0157, -0.0066,  0.0029,  0.0040,  0.0157,  0.0086,  0.0022,\n",
      "         -0.0093, -0.0106, -0.0134, -0.0057,  0.0021,  0.0113, -0.0017, -0.0148,\n",
      "         -0.0060, -0.0138,  0.0054, -0.0019, -0.0069,  0.0096, -0.0068,  0.0013,\n",
      "         -0.0032, -0.0052,  0.0035,  0.0094, -0.0027,  0.0036,  0.0142,  0.0054],\n",
      "        [ 0.0048,  0.0122,  0.0070,  0.0141,  0.0066, -0.0043, -0.0110, -0.0130,\n",
      "          0.0053,  0.0087, -0.0064, -0.0049,  0.0008, -0.0153, -0.0101, -0.0133,\n",
      "          0.0066,  0.0019, -0.0004, -0.0066, -0.0157, -0.0006, -0.0031, -0.0074,\n",
      "         -0.0059,  0.0012,  0.0101,  0.0154, -0.0008,  0.0020, -0.0039,  0.0136,\n",
      "         -0.0120, -0.0157, -0.0066,  0.0029,  0.0040,  0.0157,  0.0086,  0.0022,\n",
      "         -0.0093, -0.0106, -0.0134, -0.0057,  0.0021,  0.0113, -0.0017, -0.0148,\n",
      "         -0.0060, -0.0138,  0.0054, -0.0019, -0.0069,  0.0096, -0.0068,  0.0013,\n",
      "         -0.0032, -0.0052,  0.0035,  0.0094, -0.0027,  0.0036,  0.0142,  0.0054],\n",
      "        [ 0.0048,  0.0122,  0.0070,  0.0141,  0.0066, -0.0043, -0.0110, -0.0130,\n",
      "          0.0053,  0.0087, -0.0064, -0.0049,  0.0008, -0.0153, -0.0101, -0.0133,\n",
      "          0.0066,  0.0019, -0.0004, -0.0066, -0.0157, -0.0006, -0.0031, -0.0074,\n",
      "         -0.0059,  0.0012,  0.0101,  0.0154, -0.0008,  0.0020, -0.0039,  0.0136,\n",
      "         -0.0120, -0.0157, -0.0066,  0.0029,  0.0040,  0.0157,  0.0086,  0.0022,\n",
      "         -0.0093, -0.0106, -0.0134, -0.0057,  0.0021,  0.0113, -0.0017, -0.0148,\n",
      "         -0.0060, -0.0138,  0.0054, -0.0019, -0.0069,  0.0096, -0.0068,  0.0013,\n",
      "         -0.0032, -0.0052,  0.0035,  0.0094, -0.0027,  0.0036,  0.0142,  0.0054],\n",
      "        [ 0.0048,  0.0122,  0.0070,  0.0141,  0.0066, -0.0043, -0.0110, -0.0130,\n",
      "          0.0053,  0.0087, -0.0064, -0.0049,  0.0008, -0.0153, -0.0101, -0.0133,\n",
      "          0.0066,  0.0019, -0.0004, -0.0066, -0.0157, -0.0006, -0.0031, -0.0074,\n",
      "         -0.0059,  0.0012,  0.0101,  0.0154, -0.0008,  0.0020, -0.0039,  0.0136,\n",
      "         -0.0120, -0.0157, -0.0066,  0.0029,  0.0040,  0.0157,  0.0086,  0.0022,\n",
      "         -0.0093, -0.0106, -0.0134, -0.0057,  0.0021,  0.0113, -0.0017, -0.0148,\n",
      "         -0.0060, -0.0138,  0.0054, -0.0019, -0.0069,  0.0096, -0.0068,  0.0013,\n",
      "         -0.0032, -0.0052,  0.0035,  0.0094, -0.0027,  0.0036,  0.0142,  0.0054],\n",
      "        [ 0.0048,  0.0122,  0.0070,  0.0141,  0.0066, -0.0043, -0.0110, -0.0130,\n",
      "          0.0053,  0.0087, -0.0064, -0.0049,  0.0008, -0.0153, -0.0101, -0.0133,\n",
      "          0.0066,  0.0019, -0.0004, -0.0066, -0.0157, -0.0006, -0.0031, -0.0074,\n",
      "         -0.0059,  0.0012,  0.0101,  0.0154, -0.0008,  0.0020, -0.0039,  0.0136,\n",
      "         -0.0120, -0.0157, -0.0066,  0.0029,  0.0040,  0.0157,  0.0086,  0.0022,\n",
      "         -0.0093, -0.0106, -0.0134, -0.0057,  0.0021,  0.0113, -0.0017, -0.0148,\n",
      "         -0.0060, -0.0138,  0.0054, -0.0019, -0.0069,  0.0096, -0.0068,  0.0013,\n",
      "         -0.0032, -0.0052,  0.0035,  0.0094, -0.0027,  0.0036,  0.0142,  0.0054],\n",
      "        [ 0.0048,  0.0122,  0.0070,  0.0141,  0.0066, -0.0043, -0.0110, -0.0130,\n",
      "          0.0053,  0.0087, -0.0064, -0.0049,  0.0008, -0.0153, -0.0101, -0.0133,\n",
      "          0.0066,  0.0019, -0.0004, -0.0066, -0.0157, -0.0006, -0.0031, -0.0074,\n",
      "         -0.0059,  0.0012,  0.0101,  0.0154, -0.0008,  0.0020, -0.0039,  0.0136,\n",
      "         -0.0120, -0.0157, -0.0066,  0.0029,  0.0040,  0.0157,  0.0086,  0.0022,\n",
      "         -0.0093, -0.0106, -0.0134, -0.0057,  0.0021,  0.0113, -0.0017, -0.0148,\n",
      "         -0.0060, -0.0138,  0.0054, -0.0019, -0.0069,  0.0096, -0.0068,  0.0013,\n",
      "         -0.0032, -0.0052,  0.0035,  0.0094, -0.0027,  0.0036,  0.0142,  0.0054],\n",
      "        [ 0.0048,  0.0122,  0.0070,  0.0141,  0.0066, -0.0043, -0.0110, -0.0130,\n",
      "          0.0053,  0.0087, -0.0064, -0.0049,  0.0008, -0.0153, -0.0101, -0.0133,\n",
      "          0.0066,  0.0019, -0.0004, -0.0066, -0.0157, -0.0006, -0.0031, -0.0074,\n",
      "         -0.0059,  0.0012,  0.0101,  0.0154, -0.0008,  0.0020, -0.0039,  0.0136,\n",
      "         -0.0120, -0.0157, -0.0066,  0.0029,  0.0040,  0.0157,  0.0086,  0.0022,\n",
      "         -0.0093, -0.0106, -0.0134, -0.0057,  0.0021,  0.0113, -0.0017, -0.0148,\n",
      "         -0.0060, -0.0138,  0.0054, -0.0019, -0.0069,  0.0096, -0.0068,  0.0013,\n",
      "         -0.0032, -0.0052,  0.0035,  0.0094, -0.0027,  0.0036,  0.0142,  0.0054],\n",
      "        [ 0.0048,  0.0122,  0.0070,  0.0141,  0.0066, -0.0043, -0.0110, -0.0130,\n",
      "          0.0053,  0.0087, -0.0064, -0.0049,  0.0008, -0.0153, -0.0101, -0.0133,\n",
      "          0.0066,  0.0019, -0.0004, -0.0066, -0.0157, -0.0006, -0.0031, -0.0074,\n",
      "         -0.0059,  0.0012,  0.0101,  0.0154, -0.0008,  0.0020, -0.0039,  0.0136,\n",
      "         -0.0120, -0.0157, -0.0066,  0.0029,  0.0040,  0.0157,  0.0086,  0.0022,\n",
      "         -0.0093, -0.0106, -0.0134, -0.0057,  0.0021,  0.0113, -0.0017, -0.0148,\n",
      "         -0.0060, -0.0138,  0.0054, -0.0019, -0.0069,  0.0096, -0.0068,  0.0013,\n",
      "         -0.0032, -0.0052,  0.0035,  0.0094, -0.0027,  0.0036,  0.0142,  0.0054],\n",
      "        [ 0.0048,  0.0122,  0.0070,  0.0141,  0.0066, -0.0043, -0.0110, -0.0130,\n",
      "          0.0053,  0.0087, -0.0064, -0.0049,  0.0008, -0.0153, -0.0101, -0.0133,\n",
      "          0.0066,  0.0019, -0.0004, -0.0066, -0.0157, -0.0006, -0.0031, -0.0074,\n",
      "         -0.0059,  0.0012,  0.0101,  0.0154, -0.0008,  0.0020, -0.0039,  0.0136,\n",
      "         -0.0120, -0.0157, -0.0066,  0.0029,  0.0040,  0.0157,  0.0086,  0.0022,\n",
      "         -0.0093, -0.0106, -0.0134, -0.0057,  0.0021,  0.0113, -0.0017, -0.0148,\n",
      "         -0.0060, -0.0138,  0.0054, -0.0019, -0.0069,  0.0096, -0.0068,  0.0013,\n",
      "         -0.0032, -0.0052,  0.0035,  0.0094, -0.0027,  0.0036,  0.0142,  0.0054]])\n",
      "tensor([[ 0.0048,  0.0122,  0.0070,  0.0141,  0.0066, -0.0043, -0.0110, -0.0130,\n",
      "          0.0053,  0.0087, -0.0064, -0.0049,  0.0008, -0.0153, -0.0101, -0.0133,\n",
      "          0.0066,  0.0019, -0.0004, -0.0066, -0.0157, -0.0006, -0.0031, -0.0074,\n",
      "         -0.0059,  0.0012,  0.0101,  0.0154, -0.0008,  0.0020, -0.0039,  0.0136,\n",
      "         -0.0120, -0.0157, -0.0066,  0.0029,  0.0040,  0.0157,  0.0086,  0.0022,\n",
      "         -0.0093, -0.0106, -0.0134, -0.0057,  0.0021,  0.0113, -0.0017, -0.0148,\n",
      "         -0.0060, -0.0138,  0.0054, -0.0019, -0.0069,  0.0096, -0.0068,  0.0013,\n",
      "         -0.0032, -0.0052,  0.0035,  0.0094, -0.0027,  0.0036,  0.0142,  0.0054],\n",
      "        [ 0.0048,  0.0122,  0.0070,  0.0141,  0.0066, -0.0043, -0.0110, -0.0130,\n",
      "          0.0053,  0.0087, -0.0064, -0.0049,  0.0008, -0.0153, -0.0101, -0.0133,\n",
      "          0.0066,  0.0019, -0.0004, -0.0066, -0.0157, -0.0006, -0.0031, -0.0074,\n",
      "         -0.0059,  0.0012,  0.0101,  0.0154, -0.0008,  0.0020, -0.0039,  0.0136,\n",
      "         -0.0120, -0.0157, -0.0066,  0.0029,  0.0040,  0.0157,  0.0086,  0.0022,\n",
      "         -0.0093, -0.0106, -0.0134, -0.0057,  0.0021,  0.0113, -0.0017, -0.0148,\n",
      "         -0.0060, -0.0138,  0.0054, -0.0019, -0.0069,  0.0096, -0.0068,  0.0013,\n",
      "         -0.0032, -0.0052,  0.0035,  0.0094, -0.0027,  0.0036,  0.0142,  0.0054],\n",
      "        [ 0.0048,  0.0122,  0.0070,  0.0141,  0.0066, -0.0043, -0.0110, -0.0130,\n",
      "          0.0053,  0.0087, -0.0064, -0.0049,  0.0008, -0.0153, -0.0101, -0.0133,\n",
      "          0.0066,  0.0019, -0.0004, -0.0066, -0.0157, -0.0006, -0.0031, -0.0074,\n",
      "         -0.0059,  0.0012,  0.0101,  0.0154, -0.0008,  0.0020, -0.0039,  0.0136,\n",
      "         -0.0120, -0.0157, -0.0066,  0.0029,  0.0040,  0.0157,  0.0086,  0.0022,\n",
      "         -0.0093, -0.0106, -0.0134, -0.0057,  0.0021,  0.0113, -0.0017, -0.0148,\n",
      "         -0.0060, -0.0138,  0.0054, -0.0019, -0.0069,  0.0096, -0.0068,  0.0013,\n",
      "         -0.0032, -0.0052,  0.0035,  0.0094, -0.0027,  0.0036,  0.0142,  0.0054],\n",
      "        [ 0.0048,  0.0122,  0.0070,  0.0141,  0.0066, -0.0043, -0.0110, -0.0130,\n",
      "          0.0053,  0.0087, -0.0064, -0.0049,  0.0008, -0.0153, -0.0101, -0.0133,\n",
      "          0.0066,  0.0019, -0.0004, -0.0066, -0.0157, -0.0006, -0.0031, -0.0074,\n",
      "         -0.0059,  0.0012,  0.0101,  0.0154, -0.0008,  0.0020, -0.0039,  0.0136,\n",
      "         -0.0120, -0.0157, -0.0066,  0.0029,  0.0040,  0.0157,  0.0086,  0.0022,\n",
      "         -0.0093, -0.0106, -0.0134, -0.0057,  0.0021,  0.0113, -0.0017, -0.0148,\n",
      "         -0.0060, -0.0138,  0.0054, -0.0019, -0.0069,  0.0096, -0.0068,  0.0013,\n",
      "         -0.0032, -0.0052,  0.0035,  0.0094, -0.0027,  0.0036,  0.0142,  0.0054],\n",
      "        [ 0.0048,  0.0122,  0.0070,  0.0141,  0.0066, -0.0043, -0.0110, -0.0130,\n",
      "          0.0053,  0.0087, -0.0064, -0.0049,  0.0008, -0.0153, -0.0101, -0.0133,\n",
      "          0.0066,  0.0019, -0.0004, -0.0066, -0.0157, -0.0006, -0.0031, -0.0074,\n",
      "         -0.0059,  0.0012,  0.0101,  0.0154, -0.0008,  0.0020, -0.0039,  0.0136,\n",
      "         -0.0120, -0.0157, -0.0066,  0.0029,  0.0040,  0.0157,  0.0086,  0.0022,\n",
      "         -0.0093, -0.0106, -0.0134, -0.0057,  0.0021,  0.0113, -0.0017, -0.0148,\n",
      "         -0.0060, -0.0138,  0.0054, -0.0019, -0.0069,  0.0096, -0.0068,  0.0013,\n",
      "         -0.0032, -0.0052,  0.0035,  0.0094, -0.0027,  0.0036,  0.0142,  0.0054],\n",
      "        [ 0.0048,  0.0122,  0.0070,  0.0141,  0.0066, -0.0043, -0.0110, -0.0130,\n",
      "          0.0053,  0.0087, -0.0064, -0.0049,  0.0008, -0.0153, -0.0101, -0.0133,\n",
      "          0.0066,  0.0019, -0.0004, -0.0066, -0.0157, -0.0006, -0.0031, -0.0074,\n",
      "         -0.0059,  0.0012,  0.0101,  0.0154, -0.0008,  0.0020, -0.0039,  0.0136,\n",
      "         -0.0120, -0.0157, -0.0066,  0.0029,  0.0040,  0.0157,  0.0086,  0.0022,\n",
      "         -0.0093, -0.0106, -0.0134, -0.0057,  0.0021,  0.0113, -0.0017, -0.0148,\n",
      "         -0.0060, -0.0138,  0.0054, -0.0019, -0.0069,  0.0096, -0.0068,  0.0013,\n",
      "         -0.0032, -0.0052,  0.0035,  0.0094, -0.0027,  0.0036,  0.0142,  0.0054],\n",
      "        [ 0.0048,  0.0122,  0.0070,  0.0141,  0.0066, -0.0043, -0.0110, -0.0130,\n",
      "          0.0053,  0.0087, -0.0064, -0.0049,  0.0008, -0.0153, -0.0101, -0.0133,\n",
      "          0.0066,  0.0019, -0.0004, -0.0066, -0.0157, -0.0006, -0.0031, -0.0074,\n",
      "         -0.0059,  0.0012,  0.0101,  0.0154, -0.0008,  0.0020, -0.0039,  0.0136,\n",
      "         -0.0120, -0.0157, -0.0066,  0.0029,  0.0040,  0.0157,  0.0086,  0.0022,\n",
      "         -0.0093, -0.0106, -0.0134, -0.0057,  0.0021,  0.0113, -0.0017, -0.0148,\n",
      "         -0.0060, -0.0138,  0.0054, -0.0019, -0.0069,  0.0096, -0.0068,  0.0013,\n",
      "         -0.0032, -0.0052,  0.0035,  0.0094, -0.0027,  0.0036,  0.0142,  0.0054],\n",
      "        [ 0.0048,  0.0122,  0.0070,  0.0141,  0.0066, -0.0043, -0.0110, -0.0130,\n",
      "          0.0053,  0.0087, -0.0064, -0.0049,  0.0008, -0.0153, -0.0101, -0.0133,\n",
      "          0.0066,  0.0019, -0.0004, -0.0066, -0.0157, -0.0006, -0.0031, -0.0074,\n",
      "         -0.0059,  0.0012,  0.0101,  0.0154, -0.0008,  0.0020, -0.0039,  0.0136,\n",
      "         -0.0120, -0.0157, -0.0066,  0.0029,  0.0040,  0.0157,  0.0086,  0.0022,\n",
      "         -0.0093, -0.0106, -0.0134, -0.0057,  0.0021,  0.0113, -0.0017, -0.0148,\n",
      "         -0.0060, -0.0138,  0.0054, -0.0019, -0.0069,  0.0096, -0.0068,  0.0013,\n",
      "         -0.0032, -0.0052,  0.0035,  0.0094, -0.0027,  0.0036,  0.0142,  0.0054],\n",
      "        [ 0.0048,  0.0122,  0.0070,  0.0141,  0.0066, -0.0043, -0.0110, -0.0130,\n",
      "          0.0053,  0.0087, -0.0064, -0.0049,  0.0008, -0.0153, -0.0101, -0.0133,\n",
      "          0.0066,  0.0019, -0.0004, -0.0066, -0.0157, -0.0006, -0.0031, -0.0074,\n",
      "         -0.0059,  0.0012,  0.0101,  0.0154, -0.0008,  0.0020, -0.0039,  0.0136,\n",
      "         -0.0120, -0.0157, -0.0066,  0.0029,  0.0040,  0.0157,  0.0086,  0.0022,\n",
      "         -0.0093, -0.0106, -0.0134, -0.0057,  0.0021,  0.0113, -0.0017, -0.0148,\n",
      "         -0.0060, -0.0138,  0.0054, -0.0019, -0.0069,  0.0096, -0.0068,  0.0013,\n",
      "         -0.0032, -0.0052,  0.0035,  0.0094, -0.0027,  0.0036,  0.0142,  0.0054],\n",
      "        [ 0.0048,  0.0122,  0.0070,  0.0141,  0.0066, -0.0043, -0.0110, -0.0130,\n",
      "          0.0053,  0.0087, -0.0064, -0.0049,  0.0008, -0.0153, -0.0101, -0.0133,\n",
      "          0.0066,  0.0019, -0.0004, -0.0066, -0.0157, -0.0006, -0.0031, -0.0074,\n",
      "         -0.0059,  0.0012,  0.0101,  0.0154, -0.0008,  0.0020, -0.0039,  0.0136,\n",
      "         -0.0120, -0.0157, -0.0066,  0.0029,  0.0040,  0.0157,  0.0086,  0.0022,\n",
      "         -0.0093, -0.0106, -0.0134, -0.0057,  0.0021,  0.0113, -0.0017, -0.0148,\n",
      "         -0.0060, -0.0138,  0.0054, -0.0019, -0.0069,  0.0096, -0.0068,  0.0013,\n",
      "         -0.0032, -0.0052,  0.0035,  0.0094, -0.0027,  0.0036,  0.0142,  0.0054]])\n"
     ]
    }
   ],
   "source": [
    "SEED = 42\n",
    "random.seed(SEED)\n",
    "t.manual_seed(SEED)\n",
    "\n",
    "# Take 10 random examples from training set for each label to make label representations\n",
    "label_embeds = t.zeros(10, model.d_embed)\n",
    "with t.no_grad():\n",
    "    for label in y:\n",
    "        train_x_index = random.sample((ds.train_y == label).nonzero().tolist(), k=10)\n",
    "        stacked_embeds = t.stack([all_train_embeds[i] for i in train_x_index]).squeeze()\n",
    "        print(stacked_embeds)\n",
    "\n",
    "        label_embed = stacked_embeds.mean(0)\n",
    "        # print(label, label_embed)\n",
    "        label_embeds[label, :] = label_embed"
   ]
  },
  {
   "cell_type": "code",
   "execution_count": 109,
   "metadata": {},
   "outputs": [
    {
     "data": {
      "text/plain": [
       "tensor([0.0070, 0.0070, 0.0070, 0.0070, 0.0070, 0.0070, 0.0070, 0.0070, 0.0070,\n",
       "        0.0070])"
      ]
     },
     "execution_count": 109,
     "metadata": {},
     "output_type": "execute_result"
    }
   ],
   "source": [
    "label_embeds[:, 2]"
   ]
  },
  {
   "cell_type": "code",
   "execution_count": 103,
   "metadata": {},
   "outputs": [
    {
     "data": {
      "text/plain": [
       "tensor([True, True, True, True, True, True, True, True, True, True, True, True,\n",
       "        True, True, True, True, True, True, True, True, True, True, True, True,\n",
       "        True, True, True, True, True, True, True, True, True, True, True, True,\n",
       "        True, True, True, True, True, True, True, True, True, True, True, True,\n",
       "        True, True, True, True, True, True, True, True, True, True, True, True,\n",
       "        True, True, True, True])"
      ]
     },
     "execution_count": 103,
     "metadata": {},
     "output_type": "execute_result"
    }
   ],
   "source": [
    "label_embeds[0] == label_embeds[1]"
   ]
  },
  {
   "cell_type": "code",
   "execution_count": 99,
   "metadata": {},
   "outputs": [
    {
     "name": "stdout",
     "output_type": "stream",
     "text": [
      "tensor([3.3089e-19, 3.3089e-19, 3.3089e-19, 3.3089e-19, 3.3089e-19, 3.3089e-19,\n",
      "        3.3089e-19, 3.3089e-19, 3.3089e-19, 3.3089e-19])\n"
     ]
    }
   ],
   "source": [
    "def predict_classes(\n",
    "    x: t.Tensor,  # [batch 1 28 28]\n",
    ") -> t.Tensor:  # [batch] (ints of classes 0:9)\n",
    "    with t.no_grad():\n",
    "        x_embeds = model(x)\n",
    "        dists = t.stack(\n",
    "            [((x_embeds - label_embed) ** 2).mean() for label_embed in label_embeds]\n",
    "        )\n",
    "    print(dists)\n",
    "\n",
    "\n",
    "predict_classes(ds.test_x[:1])"
   ]
  },
  {
   "cell_type": "code",
   "execution_count": null,
   "metadata": {},
   "outputs": [],
   "source": [
    "# x = ds.train_x[:100]\n",
    "# y = ds.train_y[:100]\n",
    "# embeds = model(x)\n",
    "# loss = contrastive_loss(embeds,y)\n",
    "# loss.backward()"
   ]
  },
  {
   "cell_type": "code",
   "execution_count": 92,
   "metadata": {},
   "outputs": [
    {
     "name": "stdout",
     "output_type": "stream",
     "text": [
      "torch.Size([64]) torch.Size([64])\n"
     ]
    }
   ],
   "source": [
    "# for i, j in contrastive_pairs:\n",
    "#     embed1 = embeds[i]\n",
    "#     embed2 = embeds[j]\n",
    "#     print(embed1.shape, embed2.shape)\n",
    "#     break"
   ]
  },
  {
   "cell_type": "code",
   "execution_count": 86,
   "metadata": {},
   "outputs": [
    {
     "data": {
      "text/plain": [
       "(torch.Size([100, 64]), torch.Size([1074, 2]))"
      ]
     },
     "execution_count": 86,
     "metadata": {},
     "output_type": "execute_result"
    }
   ],
   "source": [
    "# embeds.shape, contrastive_pairs.shape"
   ]
  },
  {
   "cell_type": "code",
   "execution_count": 85,
   "metadata": {},
   "outputs": [
    {
     "data": {
      "text/plain": [
       "tensor([[ 0.0207, -0.0079],\n",
       "        [ 0.0207, -0.1484],\n",
       "        [ 0.0207, -0.2121],\n",
       "        ...,\n",
       "        [ 0.0572, -0.0880],\n",
       "        [ 0.0572, -0.0749],\n",
       "        [ 0.0572, -0.1148]], grad_fn=<GatherBackward0>)"
      ]
     },
     "execution_count": 85,
     "metadata": {},
     "output_type": "execute_result"
    }
   ],
   "source": [
    "# t.gather(embeds, dim=0, index=contrastive_pairs)"
   ]
  },
  {
   "cell_type": "code",
   "execution_count": 66,
   "metadata": {},
   "outputs": [
    {
     "data": {
      "text/plain": [
       "tensor([[ 0,  0],\n",
       "        [ 0, 11],\n",
       "        [ 0, 35],\n",
       "        [ 0, 47],\n",
       "        [ 0, 65],\n",
       "        [11,  0],\n",
       "        [11, 11],\n",
       "        [11, 35],\n",
       "        [11, 47],\n",
       "        [11, 65],\n",
       "        [35,  0],\n",
       "        [35, 11],\n",
       "        [35, 35],\n",
       "        [35, 47],\n",
       "        [35, 65],\n",
       "        [47,  0],\n",
       "        [47, 11],\n",
       "        [47, 35],\n",
       "        [47, 47],\n",
       "        [47, 65],\n",
       "        [65,  0],\n",
       "        [65, 11],\n",
       "        [65, 35],\n",
       "        [65, 47],\n",
       "        [65, 65]])"
      ]
     },
     "execution_count": 66,
     "metadata": {},
     "output_type": "execute_result"
    }
   ],
   "source": [
    "# t.tensor(list(it.product(labels_sim_mat[0].nonzero().flatten(), repeat=2)))"
   ]
  }
 ],
 "metadata": {
  "kernelspec": {
   "display_name": ".venv",
   "language": "python",
   "name": "python3"
  },
  "language_info": {
   "codemirror_mode": {
    "name": "ipython",
    "version": 3
   },
   "file_extension": ".py",
   "mimetype": "text/x-python",
   "name": "python",
   "nbconvert_exporter": "python",
   "pygments_lexer": "ipython3",
   "version": "3.11.7"
  }
 },
 "nbformat": 4,
 "nbformat_minor": 2
}
