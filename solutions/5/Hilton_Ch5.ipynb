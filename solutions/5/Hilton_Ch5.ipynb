{
  "nbformat": 4,
  "nbformat_minor": 0,
  "metadata": {
    "colab": {
      "provenance": [],
      "gpuType": "T4"
    },
    "kernelspec": {
      "name": "python3",
      "display_name": "Python 3"
    },
    "language_info": {
      "name": "python"
    },
    "accelerator": "GPU"
  },
  "cells": [
    {
      "cell_type": "code",
      "source": [
        "!pip install einops fancy_einsum torchvision"
      ],
      "metadata": {
        "colab": {
          "base_uri": "https://localhost:8080/"
        },
        "id": "7DomIKtWlHXV",
        "outputId": "b11c5937-2c59-450c-8301-7c6205c7646f"
      },
      "execution_count": null,
      "outputs": [
        {
          "output_type": "stream",
          "name": "stdout",
          "text": [
            "Requirement already satisfied: einops in /usr/local/lib/python3.10/dist-packages (0.7.0)\n",
            "Requirement already satisfied: fancy_einsum in /usr/local/lib/python3.10/dist-packages (0.0.3)\n",
            "Requirement already satisfied: torchvision in /usr/local/lib/python3.10/dist-packages (0.16.0+cu118)\n",
            "Requirement already satisfied: numpy in /usr/local/lib/python3.10/dist-packages (from torchvision) (1.23.5)\n",
            "Requirement already satisfied: requests in /usr/local/lib/python3.10/dist-packages (from torchvision) (2.31.0)\n",
            "Requirement already satisfied: torch==2.1.0 in /usr/local/lib/python3.10/dist-packages (from torchvision) (2.1.0+cu118)\n",
            "Requirement already satisfied: pillow!=8.3.*,>=5.3.0 in /usr/local/lib/python3.10/dist-packages (from torchvision) (9.4.0)\n",
            "Requirement already satisfied: filelock in /usr/local/lib/python3.10/dist-packages (from torch==2.1.0->torchvision) (3.13.1)\n",
            "Requirement already satisfied: typing-extensions in /usr/local/lib/python3.10/dist-packages (from torch==2.1.0->torchvision) (4.5.0)\n",
            "Requirement already satisfied: sympy in /usr/local/lib/python3.10/dist-packages (from torch==2.1.0->torchvision) (1.12)\n",
            "Requirement already satisfied: networkx in /usr/local/lib/python3.10/dist-packages (from torch==2.1.0->torchvision) (3.2.1)\n",
            "Requirement already satisfied: jinja2 in /usr/local/lib/python3.10/dist-packages (from torch==2.1.0->torchvision) (3.1.2)\n",
            "Requirement already satisfied: fsspec in /usr/local/lib/python3.10/dist-packages (from torch==2.1.0->torchvision) (2023.6.0)\n",
            "Requirement already satisfied: triton==2.1.0 in /usr/local/lib/python3.10/dist-packages (from torch==2.1.0->torchvision) (2.1.0)\n",
            "Requirement already satisfied: charset-normalizer<4,>=2 in /usr/local/lib/python3.10/dist-packages (from requests->torchvision) (3.3.2)\n",
            "Requirement already satisfied: idna<4,>=2.5 in /usr/local/lib/python3.10/dist-packages (from requests->torchvision) (3.6)\n",
            "Requirement already satisfied: urllib3<3,>=1.21.1 in /usr/local/lib/python3.10/dist-packages (from requests->torchvision) (2.0.7)\n",
            "Requirement already satisfied: certifi>=2017.4.17 in /usr/local/lib/python3.10/dist-packages (from requests->torchvision) (2023.11.17)\n",
            "Requirement already satisfied: MarkupSafe>=2.0 in /usr/local/lib/python3.10/dist-packages (from jinja2->torch==2.1.0->torchvision) (2.1.3)\n",
            "Requirement already satisfied: mpmath>=0.19 in /usr/local/lib/python3.10/dist-packages (from sympy->torch==2.1.0->torchvision) (1.3.0)\n"
          ]
        }
      ]
    },
    {
      "cell_type": "code",
      "execution_count": null,
      "metadata": {
        "id": "f-MOpjsEk9ES"
      },
      "outputs": [],
      "source": [
        "from __future__ import annotations\n",
        "\n",
        "from dataclasses import dataclass\n",
        "from collections import Counter\n",
        "from functools import cache\n",
        "import itertools as it\n",
        "from operator import eq\n",
        "import pathlib\n",
        "import random\n",
        "\n",
        "import einops\n",
        "import pandas as pd\n",
        "from plotly import express as px, graph_objects as go\n",
        "import torch as t\n",
        "import torch.nn.functional as F\n",
        "from torch.optim.lr_scheduler import LRScheduler, ReduceLROnPlateau\n",
        "from torchvision.datasets import MNIST\n",
        "from tqdm import tqdm"
      ]
    },
    {
      "cell_type": "markdown",
      "source": [
        "## Model"
      ],
      "metadata": {
        "id": "laRjif_TlE38"
      }
    },
    {
      "cell_type": "code",
      "source": [
        "class ContrastiveCNN(t.nn.Module):\n",
        "    \"\"\"Simple 2-layer CNN for MNIST\"\"\"\n",
        "\n",
        "    def __init__(self, d_embed: int = 64) -> None:\n",
        "        super().__init__()\n",
        "        self.d_embed = d_embed\n",
        "\n",
        "        CONV_KERNEL_SIZE = 5\n",
        "        CONV_STRIDE = 1\n",
        "        POOL_KERNEL_SIZE = 2\n",
        "        POOL_STRIDE = 2\n",
        "\n",
        "        self.conv1 = t.nn.Conv2d(\n",
        "            in_channels=1,\n",
        "            out_channels=32,\n",
        "            kernel_size=CONV_KERNEL_SIZE,\n",
        "            stride=CONV_STRIDE,\n",
        "            padding=\"same\",\n",
        "        )\n",
        "        self.pool1 = t.nn.MaxPool2d(kernel_size=POOL_KERNEL_SIZE, stride=POOL_STRIDE)\n",
        "        self.conv2 = t.nn.Conv2d(\n",
        "            in_channels=32,\n",
        "            out_channels=64,\n",
        "            kernel_size=CONV_KERNEL_SIZE,\n",
        "            stride=CONV_STRIDE,\n",
        "            padding=\"same\",\n",
        "        )\n",
        "        self.pool2 = t.nn.MaxPool2d(kernel_size=POOL_KERNEL_SIZE, stride=POOL_STRIDE)\n",
        "        self.fc = t.nn.Linear(in_features=7 * 7 * 64, out_features=d_embed)\n",
        "\n",
        "    def forward(\n",
        "            self,\n",
        "            x: t.Tensor, # [batch 1 28 28]\n",
        "        ) -> t.Tensor:   # [batch d_embed]\n",
        "        x = self.pool1(F.relu(self.conv1(x)))\n",
        "        x = self.pool2(F.relu(self.conv2(x)))\n",
        "        x = x.flatten(1)\n",
        "        x = self.fc(x)\n",
        "        return x"
      ],
      "metadata": {
        "id": "J9t6BioDlDb9"
      },
      "execution_count": null,
      "outputs": []
    },
    {
      "cell_type": "markdown",
      "source": [
        "## Dataset"
      ],
      "metadata": {
        "id": "lvhF2XMslF2v"
      }
    },
    {
      "cell_type": "code",
      "source": [
        "BatchX = BatchY = DiffPairInds = SamePairInds = t.Tensor\n",
        "TrainBatch = tuple[BatchX, BatchY, DiffPairInds, SamePairInds]\n",
        "\n",
        "@dataclass(frozen=True, slots=True)\n",
        "class Dataset:\n",
        "    train_x: t.Tensor\n",
        "    train_y: t.Tensor\n",
        "    test_x: t.Tensor\n",
        "    test_y: t.Tensor\n",
        "\n",
        "    @classmethod\n",
        "    def load(cls) -> Dataset:\n",
        "        DATA_PATH = pathlib.Path(\"data\")\n",
        "        if not DATA_PATH.exists():\n",
        "            DATA_PATH.mkdir()\n",
        "        train = MNIST(str(DATA_PATH), train=True, download=True)\n",
        "        test = MNIST(str(DATA_PATH), train=False, download=True)\n",
        "        train_x = _preprocess_batch(train.data)\n",
        "        train_y = train.targets\n",
        "        test_x = _preprocess_batch(test.data)\n",
        "        test_y = test.targets\n",
        "        return cls(\n",
        "            train_x=train_x,\n",
        "            train_y=train_y,\n",
        "            test_x=test_x,\n",
        "            test_y=test_y,\n",
        "        )\n",
        "\n",
        "    @cache\n",
        "    def get_train_batches(self, batch_size: int = 32) -> list[TrainBatch]:\n",
        "        \"\"\"`TrainBatch = tuple[BatchX, BatchY, DiffPairInds, SamePairInds]`\"\"\"\n",
        "        n_batches = len(self.train_x) // batch_size\n",
        "        batches = [\n",
        "            (\n",
        "                self.train_x[batch_i * batch_size : (batch_i + 1) * batch_size],\n",
        "                batch_y := self.train_y[\n",
        "                    batch_i * batch_size : (batch_i + 1) * batch_size\n",
        "                ],\n",
        "                *get_diff_and_sim_pair_inds(batch_y),\n",
        "            )\n",
        "            for batch_i in range(n_batches)#, desc=f\"Generating train batches for {batch_size=}\"\n",
        "        ]\n",
        "        return batches\n",
        "\n",
        "\n",
        "\n",
        "def get_diff_and_sim_pair_inds(y: t.Tensor) -> tuple[t.Tensor, t.Tensor]:\n",
        "    assert y.ndim == 1\n",
        "    assert y.dtype == t.int64\n",
        "    y_rep = einops.repeat(y, \"b -> b rep\", rep=len(y))\n",
        "    diff_pair_inds = (y_rep != y_rep.T).nonzero().T # [2 _n]\n",
        "    same_pair_inds = (y_rep == y_rep.T).nonzero().T # [2 _n]\n",
        "    assert diff_pair_inds.ndim == 2 and len(diff_pair_inds) == 2\n",
        "    assert same_pair_inds.ndim == 2 and len(same_pair_inds) == 2\n",
        "    return diff_pair_inds, same_pair_inds\n",
        "\n",
        "\n",
        "def _preprocess_batch(batch: t.Tensor) -> t.Tensor:\n",
        "    assert batch.ndim == 3\n",
        "    assert eq(*batch.shape[1:])\n",
        "    batch_dim, im_dim = batch.shape[:2]\n",
        "    processed_batch = (\n",
        "        batch.to(dtype=t.float32).unsqueeze(-1).reshape(batch_dim, 1, im_dim, im_dim)\n",
        "    )\n",
        "    return (processed_batch - processed_batch.mean()) / processed_batch.std()\n",
        "\n",
        "ds = Dataset.load()"
      ],
      "metadata": {
        "id": "GSpVUMv-lCtr",
        "colab": {
          "base_uri": "https://localhost:8080/"
        },
        "outputId": "493d0555-3bcb-4851-8c86-43792759fc36"
      },
      "execution_count": null,
      "outputs": [
        {
          "output_type": "stream",
          "name": "stdout",
          "text": [
            "Downloading http://yann.lecun.com/exdb/mnist/train-images-idx3-ubyte.gz\n",
            "Downloading http://yann.lecun.com/exdb/mnist/train-images-idx3-ubyte.gz to data/MNIST/raw/train-images-idx3-ubyte.gz\n"
          ]
        },
        {
          "output_type": "stream",
          "name": "stderr",
          "text": [
            "100%|██████████| 9912422/9912422 [00:00<00:00, 156677223.10it/s]"
          ]
        },
        {
          "output_type": "stream",
          "name": "stdout",
          "text": [
            "Extracting data/MNIST/raw/train-images-idx3-ubyte.gz to data/MNIST/raw\n"
          ]
        },
        {
          "output_type": "stream",
          "name": "stderr",
          "text": [
            "\n"
          ]
        },
        {
          "output_type": "stream",
          "name": "stdout",
          "text": [
            "\n",
            "Downloading http://yann.lecun.com/exdb/mnist/train-labels-idx1-ubyte.gz\n",
            "Downloading http://yann.lecun.com/exdb/mnist/train-labels-idx1-ubyte.gz to data/MNIST/raw/train-labels-idx1-ubyte.gz\n"
          ]
        },
        {
          "output_type": "stream",
          "name": "stderr",
          "text": [
            "100%|██████████| 28881/28881 [00:00<00:00, 113849336.30it/s]\n"
          ]
        },
        {
          "output_type": "stream",
          "name": "stdout",
          "text": [
            "Extracting data/MNIST/raw/train-labels-idx1-ubyte.gz to data/MNIST/raw\n",
            "\n",
            "Downloading http://yann.lecun.com/exdb/mnist/t10k-images-idx3-ubyte.gz\n",
            "Downloading http://yann.lecun.com/exdb/mnist/t10k-images-idx3-ubyte.gz to data/MNIST/raw/t10k-images-idx3-ubyte.gz\n"
          ]
        },
        {
          "output_type": "stream",
          "name": "stderr",
          "text": [
            "100%|██████████| 1648877/1648877 [00:00<00:00, 41698168.27it/s]"
          ]
        },
        {
          "output_type": "stream",
          "name": "stdout",
          "text": [
            "Extracting data/MNIST/raw/t10k-images-idx3-ubyte.gz to data/MNIST/raw\n",
            "\n",
            "Downloading http://yann.lecun.com/exdb/mnist/t10k-labels-idx1-ubyte.gz\n"
          ]
        },
        {
          "output_type": "stream",
          "name": "stderr",
          "text": [
            "\n"
          ]
        },
        {
          "output_type": "stream",
          "name": "stdout",
          "text": [
            "Downloading http://yann.lecun.com/exdb/mnist/t10k-labels-idx1-ubyte.gz to data/MNIST/raw/t10k-labels-idx1-ubyte.gz\n"
          ]
        },
        {
          "output_type": "stream",
          "name": "stderr",
          "text": [
            "100%|██████████| 4542/4542 [00:00<00:00, 7611078.21it/s]\n"
          ]
        },
        {
          "output_type": "stream",
          "name": "stdout",
          "text": [
            "Extracting data/MNIST/raw/t10k-labels-idx1-ubyte.gz to data/MNIST/raw\n",
            "\n"
          ]
        }
      ]
    },
    {
      "cell_type": "code",
      "source": [
        "def contrastive_loss(\n",
        "    embeds: t.Tensor,  # [batch d_embed]\n",
        "    diff_pair_inds: t.Tensor, # [2 _n]\n",
        "    same_pair_inds: t.Tensor, # [2 _n]\n",
        "    *,\n",
        "    epsilon: float = .5,\n",
        ") -> t.Tensor:\n",
        "    diff_pair_diffs = embeds.index_select(0, diff_pair_inds[0]) - embeds.index_select(0, diff_pair_inds[1])\n",
        "    same_pair_diffs = embeds.index_select(0, same_pair_inds[0]) - embeds.index_select(0, same_pair_inds[1])\n",
        "    diff_term_loss = t.max(t.tensor(0), epsilon - diff_pair_diffs.pow(2).mean().sqrt()).pow(2)\n",
        "    same_term_loss = same_pair_diffs.pow(2).mean()\n",
        "    loss = diff_term_loss + same_term_loss\n",
        "    return loss"
      ],
      "metadata": {
        "id": "SAxPe28CmCg-"
      },
      "execution_count": null,
      "outputs": []
    },
    {
      "cell_type": "code",
      "source": [
        "def train(\n",
        "    model: ContrastiveCNN,\n",
        "    ds: Dataset,\n",
        "    optimizer: t.optim.Optimizer,\n",
        "    *,\n",
        "    n_epochs: int = 10,\n",
        "    batch_size: int = 128,\n",
        "    verbose: bool = True,\n",
        "    scheduler: LRScheduler | ReduceLROnPlateau | None = None,\n",
        ") -> None:  # TrainingHistory?:\n",
        "    batches = ds.get_train_batches(batch_size)\n",
        "    batch_log_and_sched_freq = len(batches) // 10\n",
        "\n",
        "    for epoch_i in range(1, n_epochs + 1):\n",
        "        print(f\"Epoch {epoch_i} / {n_epochs}\")\n",
        "        batch_losses: list[float] = []\n",
        "\n",
        "        for batch_i, (batch_x, batch_y, diff_pair_inds, same_pair_inds) in enumerate(batches):\n",
        "            optimizer.zero_grad()\n",
        "            batch_embeds = model(batch_x)\n",
        "            batch_loss = contrastive_loss(batch_embeds, diff_pair_inds, same_pair_inds)\n",
        "            batch_loss.backward()\n",
        "            optimizer.step()\n",
        "            batch_losses.append(batch_loss.item())\n",
        "            if batch_i % batch_log_and_sched_freq == 0:\n",
        "                running_loss = t.tensor(batch_losses[-batch_log_and_sched_freq:]).mean().item()\n",
        "                print(f\"\\t[Batch {batch_i}]: {running_loss=}\")\n",
        "                if isinstance(scheduler, LRScheduler):\n",
        "                    scheduler.step()\n",
        "                elif isinstance(scheduler, ReduceLROnPlateau):\n",
        "                    scheduler.step(running_loss)\n",
        "\n",
        "\n",
        "        epoch_loss = t.tensor(batch_losses).mean().item()\n",
        "        if verbose:\n",
        "            print(f\"\\tEpoch {epoch_i} mean loss = {epoch_loss}\\n\\n---\\n\")\n",
        "            for name, p in model.named_parameters():\n",
        "                if n_nans := p.isnan().sum():\n",
        "                    print(f\"{name}: {n_nans} NaNs\")\n",
        "            if epoch_loss == 0:\n",
        "                print(\n",
        "                    f\"Achieved zero loss, terminating training after {epoch_i} epochs\"\n",
        "                )\n",
        "                break"
      ],
      "metadata": {
        "id": "ssehI_iimKSt"
      },
      "execution_count": null,
      "outputs": []
    },
    {
      "cell_type": "code",
      "source": [
        "batch_size = 512\n",
        "n_epochs = 4\n",
        "lr = 1e-4\n",
        "\n",
        "model = ContrastiveCNN()\n",
        "ds = Dataset.load()\n",
        "optimizer = t.optim.AdamW(model.parameters(), lr)\n",
        "scheduler = ReduceLROnPlateau(optimizer, patience=4)\n",
        "\n",
        "train(\n",
        "    model,\n",
        "    ds,\n",
        "    optimizer,\n",
        "    scheduler=scheduler,\n",
        "    n_epochs=n_epochs,\n",
        "    batch_size=batch_size,\n",
        ")\n"
      ],
      "metadata": {
        "id": "vaL36pj_l2bN",
        "colab": {
          "base_uri": "https://localhost:8080/"
        },
        "outputId": "4a42e542-f516-4912-d9f3-95aa98aa9793"
      },
      "execution_count": null,
      "outputs": [
        {
          "output_type": "stream",
          "name": "stdout",
          "text": [
            "Epoch 1 / 4\n",
            "\t[Batch 0]: running_loss=0.15125998854637146\n",
            "\t[Batch 11]: running_loss=0.09931919723749161\n",
            "\t[Batch 22]: running_loss=0.06754554808139801\n",
            "\t[Batch 33]: running_loss=0.056445930153131485\n",
            "\t[Batch 44]: running_loss=0.0471959225833416\n",
            "\t[Batch 55]: running_loss=0.04287444055080414\n",
            "\t[Batch 66]: running_loss=0.039449773728847504\n",
            "\t[Batch 77]: running_loss=0.03676426783204079\n",
            "\t[Batch 88]: running_loss=0.03443353250622749\n",
            "\t[Batch 99]: running_loss=0.03285261243581772\n",
            "\t[Batch 110]: running_loss=0.027982724830508232\n",
            "\tEpoch 1 mean loss = 0.04815696179866791\n",
            "\n",
            "---\n",
            "\n",
            "Epoch 2 / 4\n",
            "\t[Batch 0]: running_loss=0.0273450817912817\n",
            "\t[Batch 11]: running_loss=0.02706645056605339\n",
            "\t[Batch 22]: running_loss=0.026015568524599075\n",
            "\t[Batch 33]: running_loss=0.027934378013014793\n",
            "\t[Batch 44]: running_loss=0.025032956153154373\n",
            "\t[Batch 55]: running_loss=0.023871885612607002\n",
            "\t[Batch 66]: running_loss=0.022820716723799706\n",
            "\t[Batch 77]: running_loss=0.022454949095845222\n",
            "\t[Batch 88]: running_loss=0.021436573937535286\n",
            "\t[Batch 99]: running_loss=0.021421484649181366\n",
            "\t[Batch 110]: running_loss=0.01880565844476223\n",
            "\tEpoch 2 mean loss = 0.023349294438958168\n",
            "\n",
            "---\n",
            "\n",
            "Epoch 3 / 4\n",
            "\t[Batch 0]: running_loss=0.019707422703504562\n",
            "\t[Batch 11]: running_loss=0.019161801785230637\n",
            "\t[Batch 22]: running_loss=0.019058970734477043\n",
            "\t[Batch 33]: running_loss=0.02069777436554432\n",
            "\t[Batch 44]: running_loss=0.01878589391708374\n",
            "\t[Batch 55]: running_loss=0.018030719831585884\n",
            "\t[Batch 66]: running_loss=0.017619138583540916\n",
            "\t[Batch 77]: running_loss=0.017832450568675995\n",
            "\t[Batch 88]: running_loss=0.0169464610517025\n",
            "\t[Batch 99]: running_loss=0.017285289242863655\n",
            "\t[Batch 110]: running_loss=0.015297374688088894\n",
            "\tEpoch 3 mean loss = 0.01784028485417366\n",
            "\n",
            "---\n",
            "\n",
            "Epoch 4 / 4\n",
            "\t[Batch 0]: running_loss=0.016746966168284416\n",
            "\t[Batch 11]: running_loss=0.01583513431251049\n",
            "\t[Batch 22]: running_loss=0.01591929979622364\n",
            "\t[Batch 33]: running_loss=0.017115281894803047\n",
            "\t[Batch 44]: running_loss=0.01569591648876667\n",
            "\t[Batch 55]: running_loss=0.01518601831048727\n",
            "\t[Batch 66]: running_loss=0.015181331895291805\n",
            "\t[Batch 77]: running_loss=0.01546469982713461\n",
            "\t[Batch 88]: running_loss=0.014936107210814953\n",
            "\t[Batch 99]: running_loss=0.015584993176162243\n",
            "\t[Batch 110]: running_loss=0.013922207988798618\n",
            "\tEpoch 4 mean loss = 0.015320722945034504\n",
            "\n",
            "---\n",
            "\n"
          ]
        }
      ]
    },
    {
      "cell_type": "code",
      "source": [
        "for n, p in model.named_parameters():\n",
        "    if n_nans := p.isnan().sum():\n",
        "        print(n, n_nans)\n",
        "    else:\n",
        "        print(n, \"no nans\")"
      ],
      "metadata": {
        "colab": {
          "base_uri": "https://localhost:8080/"
        },
        "id": "Q33RbBHqQ7Hg",
        "outputId": "ae696547-6eb0-4fe6-d40a-dfd4a808cef6"
      },
      "execution_count": null,
      "outputs": [
        {
          "output_type": "stream",
          "name": "stdout",
          "text": [
            "conv1.weight no nans\n",
            "conv1.bias no nans\n",
            "conv2.weight no nans\n",
            "conv2.bias no nans\n",
            "fc.weight no nans\n",
            "fc.bias no nans\n"
          ]
        }
      ]
    },
    {
      "cell_type": "code",
      "source": [
        "SEED = 42\n",
        "k = 4000\n",
        "random.seed(SEED)\n",
        "t.manual_seed(SEED)\n",
        "\n",
        "def get_k_label_embeds(model: ContrastiveCNN, ds: Dataset, k: int) -> t.Tensor:\n",
        "    repr_x = t.cat(\n",
        "        tuple(\n",
        "            t.index_select(\n",
        "                ds.train_x,\n",
        "                dim=0,\n",
        "                index=t.tensor(random.sample((ds.train_y == label).nonzero().tolist(), k=k)).squeeze()\n",
        "            ) for label in range(10)\n",
        "        )\n",
        "\n",
        "    )\n",
        "    with t.no_grad():\n",
        "        repr_embeds = model(repr_x)\n",
        "    label_embeds = t.stack(\n",
        "        [\n",
        "            repr_embeds[label * k : (label + 1) * k].mean(0)\n",
        "            for label in range(10)\n",
        "        ]\n",
        "    )\n",
        "    return label_embeds\n",
        "\n",
        "def get_all_label_embeds(model: ContrastiveCNN, ds: Dataset) -> t.Tensor:\n",
        "    label_embeds = t.zeros(10, model.d_embed, requires_grad=False)\n",
        "    for label in tqdm(range(10)):\n",
        "        repr_embeds = model(ds.train_x[ds.train_y == label])\n",
        "        label_embeds[label] = repr_embeds.mean(0)\n",
        "    return label_embeds"
      ],
      "metadata": {
        "id": "nPAVTi3El5p8"
      },
      "execution_count": null,
      "outputs": []
    },
    {
      "cell_type": "code",
      "source": [
        "label_embeds = get_k_label_embeds(model, ds, k)"
      ],
      "metadata": {
        "id": "lLT4YdyXWhw-"
      },
      "execution_count": null,
      "outputs": []
    },
    {
      "cell_type": "code",
      "source": [
        "model.label_embeds = label_embeds"
      ],
      "metadata": {
        "id": "PzYfxEm4rfaJ"
      },
      "execution_count": null,
      "outputs": []
    },
    {
      "cell_type": "code",
      "source": [
        "def predict(model: ContrastiveCNN, x: t.Tensor) -> t.Tensor:\n",
        "    assert hasattr(model, \"label_embeds\")\n",
        "    assert isinstance(model.label_embeds, t.Tensor)\n",
        "    with t.no_grad():\n",
        "        x_embeds = model(x)\n",
        "    # TODO: optimize, use tensors\n",
        "        embed_label_diffs = t.stack([\n",
        "            ((model.label_embeds - x_embed) ** 2).mean(1)\n",
        "            for x_embed in x_embeds\n",
        "        ])\n",
        "    return embed_label_diffs.argmin(1)\n",
        "\n",
        "predict(model, ds.test_x[:10]),ds.test_y[:10]"
      ],
      "metadata": {
        "colab": {
          "base_uri": "https://localhost:8080/"
        },
        "id": "f63RsrM2rosq",
        "outputId": "bd0c1b32-2789-46ca-e021-ff92fd86b759"
      },
      "execution_count": null,
      "outputs": [
        {
          "output_type": "execute_result",
          "data": {
            "text/plain": [
              "(tensor([7, 8, 1, 0, 7, 1, 9, 9, 5, 4]),\n",
              " tensor([7, 2, 1, 0, 4, 1, 4, 9, 5, 9]))"
            ]
          },
          "metadata": {},
          "execution_count": 12
        }
      ]
    },
    {
      "cell_type": "code",
      "source": [
        "x_6 = ds.train_x[ds.train_y == 6]\n",
        "assert len(x_6) == Counter(ds.train_y.tolist())[6]\n",
        "predict(model, x_6)"
      ],
      "metadata": {
        "colab": {
          "base_uri": "https://localhost:8080/"
        },
        "id": "eu2Hv1QTCvWI",
        "outputId": "f66c2f70-33e8-43db-93ca-aef80ed55d70"
      },
      "execution_count": null,
      "outputs": [
        {
          "output_type": "execute_result",
          "data": {
            "text/plain": [
              "tensor([6, 6, 6,  ..., 0, 0, 0])"
            ]
          },
          "metadata": {},
          "execution_count": 13
        }
      ]
    },
    {
      "cell_type": "code",
      "source": [
        "train_pred_counts: list[dict[int, float]] = []\n",
        "\n",
        "for label in tqdm(range(10)):\n",
        "    x = ds.train_x[ds.train_y == label]\n",
        "    preds = predict(model, x)\n",
        "    train_pred_counts.append({l: c / len(x) for l, c in sorted(Counter(preds.tolist()).items())})"
      ],
      "metadata": {
        "colab": {
          "base_uri": "https://localhost:8080/"
        },
        "id": "-RXYHAiqDK0T",
        "outputId": "68e3d2f0-539c-4c1c-e244-19a99c03e3d6"
      },
      "execution_count": null,
      "outputs": [
        {
          "output_type": "stream",
          "name": "stderr",
          "text": [
            "100%|██████████| 10/10 [00:56<00:00,  5.66s/it]\n"
          ]
        }
      ]
    },
    {
      "cell_type": "code",
      "source": [
        "train_pred_df = pd.DataFrame(train_pred_counts)[list(range(10))].fillna(0)\n",
        "px.imshow(train_pred_df)"
      ],
      "metadata": {
        "colab": {
          "base_uri": "https://localhost:8080/",
          "height": 542
        },
        "id": "pcpw_n0MEDhF",
        "outputId": "2666bdd1-c499-438b-f880-31b5f8206054"
      },
      "execution_count": null,
      "outputs": [
        {
          "output_type": "display_data",
          "data": {
            "text/html": [
              "<html>\n",
              "<head><meta charset=\"utf-8\" /></head>\n",
              "<body>\n",
              "    <div>            <script src=\"https://cdnjs.cloudflare.com/ajax/libs/mathjax/2.7.5/MathJax.js?config=TeX-AMS-MML_SVG\"></script><script type=\"text/javascript\">if (window.MathJax && window.MathJax.Hub && window.MathJax.Hub.Config) {window.MathJax.Hub.Config({SVG: {font: \"STIX-Web\"}});}</script>                <script type=\"text/javascript\">window.PlotlyConfig = {MathJaxConfig: 'local'};</script>\n",
              "        <script charset=\"utf-8\" src=\"https://cdn.plot.ly/plotly-2.24.1.min.js\"></script>                <div id=\"9028e5c7-4e87-41ba-b159-417ef1729110\" class=\"plotly-graph-div\" style=\"height:525px; width:100%;\"></div>            <script type=\"text/javascript\">                                    window.PLOTLYENV=window.PLOTLYENV || {};                                    if (document.getElementById(\"9028e5c7-4e87-41ba-b159-417ef1729110\")) {                    Plotly.newPlot(                        \"9028e5c7-4e87-41ba-b159-417ef1729110\",                        [{\"coloraxis\":\"coloraxis\",\"name\":\"0\",\"x\":[0,1,2,3,4,5,6,7,8,9],\"y\":[0,1,2,3,4,5,6,7,8,9],\"z\":[[0.6471382745230457,0.0,0.00219483369913895,0.0,0.0,0.09589734931622489,0.24514604085767347,0.0,0.009623501603916933,0.0],[0.0,0.7910115692672798,0.029368140017798874,0.0,0.04805695639276179,0.0,0.0,0.043903886087214475,0.0005932957579353308,0.08706615247700979],[0.00016784155756965425,0.0,0.6596173212487412,0.10036925142665323,0.0,0.028868747901980532,0.0,0.0,0.18932527693857,0.0216515609264854],[0.00016310552927744252,0.0,0.2007829065405317,0.46093622573805254,0.0,0.056271407600717666,0.0,0.0,0.2666775403686185,0.015168814222802153],[0.0,0.003252310852447792,0.020540910647038686,0.0,0.36357411845258475,0.00017117425539198904,0.0,0.3935296131461828,0.0020540910647038686,0.2168777815816501],[0.10274857037446966,0.0,0.030621656520937096,0.02545655783065855,0.0,0.7319682715366168,0.0040582918280760005,0.0,0.10459324847814057,0.0005534034311012728],[0.1566407570125042,0.0,0.0033795201081446434,0.0,0.0,0.0582967218654951,0.7681649205812775,0.0,0.013349104427171342,0.00016897600540723216],[0.0,0.002873104549082203,0.009896249002394254,0.0,0.04644852354349561,0.0,0.0,0.7623304070231445,0.00047885075818036713,0.1779728651237031],[0.006152794394120663,0.00017091095539224064,0.2027003930951974,0.08254999145445223,0.0,0.21415142710647753,0.00017091095539224064,0.00017091095539224064,0.4783797641428816,0.015552896940693898],[0.0,0.0008404773911581779,0.04555387460077324,0.0038661959993276183,0.24609178013111446,0.0006723819129265423,0.0,0.1030425281559926,0.0035300050428643467,0.596402756765843]],\"type\":\"heatmap\",\"xaxis\":\"x\",\"yaxis\":\"y\",\"hovertemplate\":\"x: %{x}\\u003cbr\\u003ey: %{y}\\u003cbr\\u003ecolor: %{z}\\u003cextra\\u003e\\u003c\\u002fextra\\u003e\"}],                        {\"template\":{\"data\":{\"histogram2dcontour\":[{\"type\":\"histogram2dcontour\",\"colorbar\":{\"outlinewidth\":0,\"ticks\":\"\"},\"colorscale\":[[0.0,\"#0d0887\"],[0.1111111111111111,\"#46039f\"],[0.2222222222222222,\"#7201a8\"],[0.3333333333333333,\"#9c179e\"],[0.4444444444444444,\"#bd3786\"],[0.5555555555555556,\"#d8576b\"],[0.6666666666666666,\"#ed7953\"],[0.7777777777777778,\"#fb9f3a\"],[0.8888888888888888,\"#fdca26\"],[1.0,\"#f0f921\"]]}],\"choropleth\":[{\"type\":\"choropleth\",\"colorbar\":{\"outlinewidth\":0,\"ticks\":\"\"}}],\"histogram2d\":[{\"type\":\"histogram2d\",\"colorbar\":{\"outlinewidth\":0,\"ticks\":\"\"},\"colorscale\":[[0.0,\"#0d0887\"],[0.1111111111111111,\"#46039f\"],[0.2222222222222222,\"#7201a8\"],[0.3333333333333333,\"#9c179e\"],[0.4444444444444444,\"#bd3786\"],[0.5555555555555556,\"#d8576b\"],[0.6666666666666666,\"#ed7953\"],[0.7777777777777778,\"#fb9f3a\"],[0.8888888888888888,\"#fdca26\"],[1.0,\"#f0f921\"]]}],\"heatmap\":[{\"type\":\"heatmap\",\"colorbar\":{\"outlinewidth\":0,\"ticks\":\"\"},\"colorscale\":[[0.0,\"#0d0887\"],[0.1111111111111111,\"#46039f\"],[0.2222222222222222,\"#7201a8\"],[0.3333333333333333,\"#9c179e\"],[0.4444444444444444,\"#bd3786\"],[0.5555555555555556,\"#d8576b\"],[0.6666666666666666,\"#ed7953\"],[0.7777777777777778,\"#fb9f3a\"],[0.8888888888888888,\"#fdca26\"],[1.0,\"#f0f921\"]]}],\"heatmapgl\":[{\"type\":\"heatmapgl\",\"colorbar\":{\"outlinewidth\":0,\"ticks\":\"\"},\"colorscale\":[[0.0,\"#0d0887\"],[0.1111111111111111,\"#46039f\"],[0.2222222222222222,\"#7201a8\"],[0.3333333333333333,\"#9c179e\"],[0.4444444444444444,\"#bd3786\"],[0.5555555555555556,\"#d8576b\"],[0.6666666666666666,\"#ed7953\"],[0.7777777777777778,\"#fb9f3a\"],[0.8888888888888888,\"#fdca26\"],[1.0,\"#f0f921\"]]}],\"contourcarpet\":[{\"type\":\"contourcarpet\",\"colorbar\":{\"outlinewidth\":0,\"ticks\":\"\"}}],\"contour\":[{\"type\":\"contour\",\"colorbar\":{\"outlinewidth\":0,\"ticks\":\"\"},\"colorscale\":[[0.0,\"#0d0887\"],[0.1111111111111111,\"#46039f\"],[0.2222222222222222,\"#7201a8\"],[0.3333333333333333,\"#9c179e\"],[0.4444444444444444,\"#bd3786\"],[0.5555555555555556,\"#d8576b\"],[0.6666666666666666,\"#ed7953\"],[0.7777777777777778,\"#fb9f3a\"],[0.8888888888888888,\"#fdca26\"],[1.0,\"#f0f921\"]]}],\"surface\":[{\"type\":\"surface\",\"colorbar\":{\"outlinewidth\":0,\"ticks\":\"\"},\"colorscale\":[[0.0,\"#0d0887\"],[0.1111111111111111,\"#46039f\"],[0.2222222222222222,\"#7201a8\"],[0.3333333333333333,\"#9c179e\"],[0.4444444444444444,\"#bd3786\"],[0.5555555555555556,\"#d8576b\"],[0.6666666666666666,\"#ed7953\"],[0.7777777777777778,\"#fb9f3a\"],[0.8888888888888888,\"#fdca26\"],[1.0,\"#f0f921\"]]}],\"mesh3d\":[{\"type\":\"mesh3d\",\"colorbar\":{\"outlinewidth\":0,\"ticks\":\"\"}}],\"scatter\":[{\"fillpattern\":{\"fillmode\":\"overlay\",\"size\":10,\"solidity\":0.2},\"type\":\"scatter\"}],\"parcoords\":[{\"type\":\"parcoords\",\"line\":{\"colorbar\":{\"outlinewidth\":0,\"ticks\":\"\"}}}],\"scatterpolargl\":[{\"type\":\"scatterpolargl\",\"marker\":{\"colorbar\":{\"outlinewidth\":0,\"ticks\":\"\"}}}],\"bar\":[{\"error_x\":{\"color\":\"#2a3f5f\"},\"error_y\":{\"color\":\"#2a3f5f\"},\"marker\":{\"line\":{\"color\":\"#E5ECF6\",\"width\":0.5},\"pattern\":{\"fillmode\":\"overlay\",\"size\":10,\"solidity\":0.2}},\"type\":\"bar\"}],\"scattergeo\":[{\"type\":\"scattergeo\",\"marker\":{\"colorbar\":{\"outlinewidth\":0,\"ticks\":\"\"}}}],\"scatterpolar\":[{\"type\":\"scatterpolar\",\"marker\":{\"colorbar\":{\"outlinewidth\":0,\"ticks\":\"\"}}}],\"histogram\":[{\"marker\":{\"pattern\":{\"fillmode\":\"overlay\",\"size\":10,\"solidity\":0.2}},\"type\":\"histogram\"}],\"scattergl\":[{\"type\":\"scattergl\",\"marker\":{\"colorbar\":{\"outlinewidth\":0,\"ticks\":\"\"}}}],\"scatter3d\":[{\"type\":\"scatter3d\",\"line\":{\"colorbar\":{\"outlinewidth\":0,\"ticks\":\"\"}},\"marker\":{\"colorbar\":{\"outlinewidth\":0,\"ticks\":\"\"}}}],\"scattermapbox\":[{\"type\":\"scattermapbox\",\"marker\":{\"colorbar\":{\"outlinewidth\":0,\"ticks\":\"\"}}}],\"scatterternary\":[{\"type\":\"scatterternary\",\"marker\":{\"colorbar\":{\"outlinewidth\":0,\"ticks\":\"\"}}}],\"scattercarpet\":[{\"type\":\"scattercarpet\",\"marker\":{\"colorbar\":{\"outlinewidth\":0,\"ticks\":\"\"}}}],\"carpet\":[{\"aaxis\":{\"endlinecolor\":\"#2a3f5f\",\"gridcolor\":\"white\",\"linecolor\":\"white\",\"minorgridcolor\":\"white\",\"startlinecolor\":\"#2a3f5f\"},\"baxis\":{\"endlinecolor\":\"#2a3f5f\",\"gridcolor\":\"white\",\"linecolor\":\"white\",\"minorgridcolor\":\"white\",\"startlinecolor\":\"#2a3f5f\"},\"type\":\"carpet\"}],\"table\":[{\"cells\":{\"fill\":{\"color\":\"#EBF0F8\"},\"line\":{\"color\":\"white\"}},\"header\":{\"fill\":{\"color\":\"#C8D4E3\"},\"line\":{\"color\":\"white\"}},\"type\":\"table\"}],\"barpolar\":[{\"marker\":{\"line\":{\"color\":\"#E5ECF6\",\"width\":0.5},\"pattern\":{\"fillmode\":\"overlay\",\"size\":10,\"solidity\":0.2}},\"type\":\"barpolar\"}],\"pie\":[{\"automargin\":true,\"type\":\"pie\"}]},\"layout\":{\"autotypenumbers\":\"strict\",\"colorway\":[\"#636efa\",\"#EF553B\",\"#00cc96\",\"#ab63fa\",\"#FFA15A\",\"#19d3f3\",\"#FF6692\",\"#B6E880\",\"#FF97FF\",\"#FECB52\"],\"font\":{\"color\":\"#2a3f5f\"},\"hovermode\":\"closest\",\"hoverlabel\":{\"align\":\"left\"},\"paper_bgcolor\":\"white\",\"plot_bgcolor\":\"#E5ECF6\",\"polar\":{\"bgcolor\":\"#E5ECF6\",\"angularaxis\":{\"gridcolor\":\"white\",\"linecolor\":\"white\",\"ticks\":\"\"},\"radialaxis\":{\"gridcolor\":\"white\",\"linecolor\":\"white\",\"ticks\":\"\"}},\"ternary\":{\"bgcolor\":\"#E5ECF6\",\"aaxis\":{\"gridcolor\":\"white\",\"linecolor\":\"white\",\"ticks\":\"\"},\"baxis\":{\"gridcolor\":\"white\",\"linecolor\":\"white\",\"ticks\":\"\"},\"caxis\":{\"gridcolor\":\"white\",\"linecolor\":\"white\",\"ticks\":\"\"}},\"coloraxis\":{\"colorbar\":{\"outlinewidth\":0,\"ticks\":\"\"}},\"colorscale\":{\"sequential\":[[0.0,\"#0d0887\"],[0.1111111111111111,\"#46039f\"],[0.2222222222222222,\"#7201a8\"],[0.3333333333333333,\"#9c179e\"],[0.4444444444444444,\"#bd3786\"],[0.5555555555555556,\"#d8576b\"],[0.6666666666666666,\"#ed7953\"],[0.7777777777777778,\"#fb9f3a\"],[0.8888888888888888,\"#fdca26\"],[1.0,\"#f0f921\"]],\"sequentialminus\":[[0.0,\"#0d0887\"],[0.1111111111111111,\"#46039f\"],[0.2222222222222222,\"#7201a8\"],[0.3333333333333333,\"#9c179e\"],[0.4444444444444444,\"#bd3786\"],[0.5555555555555556,\"#d8576b\"],[0.6666666666666666,\"#ed7953\"],[0.7777777777777778,\"#fb9f3a\"],[0.8888888888888888,\"#fdca26\"],[1.0,\"#f0f921\"]],\"diverging\":[[0,\"#8e0152\"],[0.1,\"#c51b7d\"],[0.2,\"#de77ae\"],[0.3,\"#f1b6da\"],[0.4,\"#fde0ef\"],[0.5,\"#f7f7f7\"],[0.6,\"#e6f5d0\"],[0.7,\"#b8e186\"],[0.8,\"#7fbc41\"],[0.9,\"#4d9221\"],[1,\"#276419\"]]},\"xaxis\":{\"gridcolor\":\"white\",\"linecolor\":\"white\",\"ticks\":\"\",\"title\":{\"standoff\":15},\"zerolinecolor\":\"white\",\"automargin\":true,\"zerolinewidth\":2},\"yaxis\":{\"gridcolor\":\"white\",\"linecolor\":\"white\",\"ticks\":\"\",\"title\":{\"standoff\":15},\"zerolinecolor\":\"white\",\"automargin\":true,\"zerolinewidth\":2},\"scene\":{\"xaxis\":{\"backgroundcolor\":\"#E5ECF6\",\"gridcolor\":\"white\",\"linecolor\":\"white\",\"showbackground\":true,\"ticks\":\"\",\"zerolinecolor\":\"white\",\"gridwidth\":2},\"yaxis\":{\"backgroundcolor\":\"#E5ECF6\",\"gridcolor\":\"white\",\"linecolor\":\"white\",\"showbackground\":true,\"ticks\":\"\",\"zerolinecolor\":\"white\",\"gridwidth\":2},\"zaxis\":{\"backgroundcolor\":\"#E5ECF6\",\"gridcolor\":\"white\",\"linecolor\":\"white\",\"showbackground\":true,\"ticks\":\"\",\"zerolinecolor\":\"white\",\"gridwidth\":2}},\"shapedefaults\":{\"line\":{\"color\":\"#2a3f5f\"}},\"annotationdefaults\":{\"arrowcolor\":\"#2a3f5f\",\"arrowhead\":0,\"arrowwidth\":1},\"geo\":{\"bgcolor\":\"white\",\"landcolor\":\"#E5ECF6\",\"subunitcolor\":\"white\",\"showland\":true,\"showlakes\":true,\"lakecolor\":\"white\"},\"title\":{\"x\":0.05},\"mapbox\":{\"style\":\"light\"}}},\"xaxis\":{\"anchor\":\"y\",\"domain\":[0.0,1.0],\"scaleanchor\":\"y\",\"constrain\":\"domain\"},\"yaxis\":{\"anchor\":\"x\",\"domain\":[0.0,1.0],\"autorange\":\"reversed\",\"constrain\":\"domain\"},\"coloraxis\":{\"colorscale\":[[0.0,\"#0d0887\"],[0.1111111111111111,\"#46039f\"],[0.2222222222222222,\"#7201a8\"],[0.3333333333333333,\"#9c179e\"],[0.4444444444444444,\"#bd3786\"],[0.5555555555555556,\"#d8576b\"],[0.6666666666666666,\"#ed7953\"],[0.7777777777777778,\"#fb9f3a\"],[0.8888888888888888,\"#fdca26\"],[1.0,\"#f0f921\"]]},\"margin\":{\"t\":60}},                        {\"responsive\": true}                    ).then(function(){\n",
              "                            \n",
              "var gd = document.getElementById('9028e5c7-4e87-41ba-b159-417ef1729110');\n",
              "var x = new MutationObserver(function (mutations, observer) {{\n",
              "        var display = window.getComputedStyle(gd).display;\n",
              "        if (!display || display === 'none') {{\n",
              "            console.log([gd, 'removed!']);\n",
              "            Plotly.purge(gd);\n",
              "            observer.disconnect();\n",
              "        }}\n",
              "}});\n",
              "\n",
              "// Listen for the removal of the full notebook cells\n",
              "var notebookContainer = gd.closest('#notebook-container');\n",
              "if (notebookContainer) {{\n",
              "    x.observe(notebookContainer, {childList: true});\n",
              "}}\n",
              "\n",
              "// Listen for the clearing of the current output cell\n",
              "var outputEl = gd.closest('.output');\n",
              "if (outputEl) {{\n",
              "    x.observe(outputEl, {childList: true});\n",
              "}}\n",
              "\n",
              "                        })                };                            </script>        </div>\n",
              "</body>\n",
              "</html>"
            ]
          },
          "metadata": {}
        }
      ]
    },
    {
      "cell_type": "code",
      "source": [
        "train_pred_acc = train_pred_df.values.diagonal().mean()\n",
        "print(f\"{train_pred_acc = :.2%}\")"
      ],
      "metadata": {
        "colab": {
          "base_uri": "https://localhost:8080/"
        },
        "id": "RVw2Ml30URYf",
        "outputId": "4ac5d773-2388-47f0-c5cb-4e85324f268a"
      },
      "execution_count": null,
      "outputs": [
        {
          "output_type": "stream",
          "name": "stdout",
          "text": [
            "train_pred_acc = 62.60%\n"
          ]
        }
      ]
    },
    {
      "cell_type": "code",
      "source": [
        "test_pred_counts: list[dict[int, float]] = []\n",
        "\n",
        "for label in tqdm(range(10)):\n",
        "    x = ds.test_x[ds.test_y == label]\n",
        "    preds = predict(model, x)\n",
        "    test_pred_counts.append({l: c / len(x) for l, c in sorted(Counter(preds.tolist()).items())})"
      ],
      "metadata": {
        "colab": {
          "base_uri": "https://localhost:8080/"
        },
        "id": "vR1uCPPoEVga",
        "outputId": "0d0992b2-f67c-432a-9dbd-6059ecc865c6"
      },
      "execution_count": null,
      "outputs": [
        {
          "output_type": "stream",
          "name": "stderr",
          "text": [
            "100%|██████████| 10/10 [00:13<00:00,  1.31s/it]\n"
          ]
        }
      ]
    },
    {
      "cell_type": "code",
      "source": [
        "test_pred_df = pd.DataFrame(test_pred_counts)[list(range(10))].fillna(0)\n",
        "px.imshow(test_pred_df)"
      ],
      "metadata": {
        "colab": {
          "base_uri": "https://localhost:8080/",
          "height": 542
        },
        "id": "3f4PDMwrEo3W",
        "outputId": "b0a46898-3aeb-4195-ee40-d7571d53ce22"
      },
      "execution_count": null,
      "outputs": [
        {
          "output_type": "display_data",
          "data": {
            "text/html": [
              "<html>\n",
              "<head><meta charset=\"utf-8\" /></head>\n",
              "<body>\n",
              "    <div>            <script src=\"https://cdnjs.cloudflare.com/ajax/libs/mathjax/2.7.5/MathJax.js?config=TeX-AMS-MML_SVG\"></script><script type=\"text/javascript\">if (window.MathJax && window.MathJax.Hub && window.MathJax.Hub.Config) {window.MathJax.Hub.Config({SVG: {font: \"STIX-Web\"}});}</script>                <script type=\"text/javascript\">window.PlotlyConfig = {MathJaxConfig: 'local'};</script>\n",
              "        <script charset=\"utf-8\" src=\"https://cdn.plot.ly/plotly-2.24.1.min.js\"></script>                <div id=\"72c13e4c-42be-40a5-ab86-cb7d1999f4ed\" class=\"plotly-graph-div\" style=\"height:525px; width:100%;\"></div>            <script type=\"text/javascript\">                                    window.PLOTLYENV=window.PLOTLYENV || {};                                    if (document.getElementById(\"72c13e4c-42be-40a5-ab86-cb7d1999f4ed\")) {                    Plotly.newPlot(                        \"72c13e4c-42be-40a5-ab86-cb7d1999f4ed\",                        [{\"coloraxis\":\"coloraxis\",\"name\":\"0\",\"x\":[0,1,2,3,4,5,6,7,8,9],\"y\":[0,1,2,3,4,5,6,7,8,9],\"z\":[[0.6704081632653062,0.0,0.003061224489795918,0.0,0.0,0.09897959183673469,0.2153061224489796,0.0,0.012244897959183673,0.0],[0.0,0.8070484581497798,0.02378854625550661,0.0,0.038766519823788544,0.0,0.0,0.039647577092511016,0.0026431718061674008,0.0881057268722467],[0.001937984496124031,0.0,0.6937984496124031,0.09593023255813954,0.0,0.02422480620155039,0.0,0.0,0.1618217054263566,0.022286821705426358],[0.0,0.0,0.21584158415841584,0.4693069306930693,0.0,0.055445544554455446,0.0,0.0,0.2504950495049505,0.00891089108910891],[0.0,0.003054989816700611,0.02240325865580448,0.0,0.35539714867617106,0.0,0.0,0.4256619144602851,0.002036659877800407,0.19144602851323828],[0.09080717488789238,0.0,0.02466367713004484,0.030269058295964126,0.0,0.7298206278026906,0.002242152466367713,0.0,0.11995515695067265,0.002242152466367713],[0.162839248434238,0.0,0.005219206680584551,0.0,0.0,0.06889352818371608,0.7515657620041754,0.0,0.011482254697286013,0.0],[0.0,0.005836575875486381,0.010700389105058366,0.0,0.047665369649805445,0.0,0.0,0.7490272373540856,0.0,0.1867704280155642],[0.011293634496919919,0.0,0.19301848049281314,0.07905544147843943,0.0,0.21560574948665298,0.0,0.0,0.486652977412731,0.014373716632443531],[0.0,0.0019821605550049554,0.048562933597621406,0.0019821605550049554,0.23785926660059464,0.0009910802775024777,0.0,0.07928642220019821,0.005946481665014866,0.6233894945490585]],\"type\":\"heatmap\",\"xaxis\":\"x\",\"yaxis\":\"y\",\"hovertemplate\":\"x: %{x}\\u003cbr\\u003ey: %{y}\\u003cbr\\u003ecolor: %{z}\\u003cextra\\u003e\\u003c\\u002fextra\\u003e\"}],                        {\"template\":{\"data\":{\"histogram2dcontour\":[{\"type\":\"histogram2dcontour\",\"colorbar\":{\"outlinewidth\":0,\"ticks\":\"\"},\"colorscale\":[[0.0,\"#0d0887\"],[0.1111111111111111,\"#46039f\"],[0.2222222222222222,\"#7201a8\"],[0.3333333333333333,\"#9c179e\"],[0.4444444444444444,\"#bd3786\"],[0.5555555555555556,\"#d8576b\"],[0.6666666666666666,\"#ed7953\"],[0.7777777777777778,\"#fb9f3a\"],[0.8888888888888888,\"#fdca26\"],[1.0,\"#f0f921\"]]}],\"choropleth\":[{\"type\":\"choropleth\",\"colorbar\":{\"outlinewidth\":0,\"ticks\":\"\"}}],\"histogram2d\":[{\"type\":\"histogram2d\",\"colorbar\":{\"outlinewidth\":0,\"ticks\":\"\"},\"colorscale\":[[0.0,\"#0d0887\"],[0.1111111111111111,\"#46039f\"],[0.2222222222222222,\"#7201a8\"],[0.3333333333333333,\"#9c179e\"],[0.4444444444444444,\"#bd3786\"],[0.5555555555555556,\"#d8576b\"],[0.6666666666666666,\"#ed7953\"],[0.7777777777777778,\"#fb9f3a\"],[0.8888888888888888,\"#fdca26\"],[1.0,\"#f0f921\"]]}],\"heatmap\":[{\"type\":\"heatmap\",\"colorbar\":{\"outlinewidth\":0,\"ticks\":\"\"},\"colorscale\":[[0.0,\"#0d0887\"],[0.1111111111111111,\"#46039f\"],[0.2222222222222222,\"#7201a8\"],[0.3333333333333333,\"#9c179e\"],[0.4444444444444444,\"#bd3786\"],[0.5555555555555556,\"#d8576b\"],[0.6666666666666666,\"#ed7953\"],[0.7777777777777778,\"#fb9f3a\"],[0.8888888888888888,\"#fdca26\"],[1.0,\"#f0f921\"]]}],\"heatmapgl\":[{\"type\":\"heatmapgl\",\"colorbar\":{\"outlinewidth\":0,\"ticks\":\"\"},\"colorscale\":[[0.0,\"#0d0887\"],[0.1111111111111111,\"#46039f\"],[0.2222222222222222,\"#7201a8\"],[0.3333333333333333,\"#9c179e\"],[0.4444444444444444,\"#bd3786\"],[0.5555555555555556,\"#d8576b\"],[0.6666666666666666,\"#ed7953\"],[0.7777777777777778,\"#fb9f3a\"],[0.8888888888888888,\"#fdca26\"],[1.0,\"#f0f921\"]]}],\"contourcarpet\":[{\"type\":\"contourcarpet\",\"colorbar\":{\"outlinewidth\":0,\"ticks\":\"\"}}],\"contour\":[{\"type\":\"contour\",\"colorbar\":{\"outlinewidth\":0,\"ticks\":\"\"},\"colorscale\":[[0.0,\"#0d0887\"],[0.1111111111111111,\"#46039f\"],[0.2222222222222222,\"#7201a8\"],[0.3333333333333333,\"#9c179e\"],[0.4444444444444444,\"#bd3786\"],[0.5555555555555556,\"#d8576b\"],[0.6666666666666666,\"#ed7953\"],[0.7777777777777778,\"#fb9f3a\"],[0.8888888888888888,\"#fdca26\"],[1.0,\"#f0f921\"]]}],\"surface\":[{\"type\":\"surface\",\"colorbar\":{\"outlinewidth\":0,\"ticks\":\"\"},\"colorscale\":[[0.0,\"#0d0887\"],[0.1111111111111111,\"#46039f\"],[0.2222222222222222,\"#7201a8\"],[0.3333333333333333,\"#9c179e\"],[0.4444444444444444,\"#bd3786\"],[0.5555555555555556,\"#d8576b\"],[0.6666666666666666,\"#ed7953\"],[0.7777777777777778,\"#fb9f3a\"],[0.8888888888888888,\"#fdca26\"],[1.0,\"#f0f921\"]]}],\"mesh3d\":[{\"type\":\"mesh3d\",\"colorbar\":{\"outlinewidth\":0,\"ticks\":\"\"}}],\"scatter\":[{\"fillpattern\":{\"fillmode\":\"overlay\",\"size\":10,\"solidity\":0.2},\"type\":\"scatter\"}],\"parcoords\":[{\"type\":\"parcoords\",\"line\":{\"colorbar\":{\"outlinewidth\":0,\"ticks\":\"\"}}}],\"scatterpolargl\":[{\"type\":\"scatterpolargl\",\"marker\":{\"colorbar\":{\"outlinewidth\":0,\"ticks\":\"\"}}}],\"bar\":[{\"error_x\":{\"color\":\"#2a3f5f\"},\"error_y\":{\"color\":\"#2a3f5f\"},\"marker\":{\"line\":{\"color\":\"#E5ECF6\",\"width\":0.5},\"pattern\":{\"fillmode\":\"overlay\",\"size\":10,\"solidity\":0.2}},\"type\":\"bar\"}],\"scattergeo\":[{\"type\":\"scattergeo\",\"marker\":{\"colorbar\":{\"outlinewidth\":0,\"ticks\":\"\"}}}],\"scatterpolar\":[{\"type\":\"scatterpolar\",\"marker\":{\"colorbar\":{\"outlinewidth\":0,\"ticks\":\"\"}}}],\"histogram\":[{\"marker\":{\"pattern\":{\"fillmode\":\"overlay\",\"size\":10,\"solidity\":0.2}},\"type\":\"histogram\"}],\"scattergl\":[{\"type\":\"scattergl\",\"marker\":{\"colorbar\":{\"outlinewidth\":0,\"ticks\":\"\"}}}],\"scatter3d\":[{\"type\":\"scatter3d\",\"line\":{\"colorbar\":{\"outlinewidth\":0,\"ticks\":\"\"}},\"marker\":{\"colorbar\":{\"outlinewidth\":0,\"ticks\":\"\"}}}],\"scattermapbox\":[{\"type\":\"scattermapbox\",\"marker\":{\"colorbar\":{\"outlinewidth\":0,\"ticks\":\"\"}}}],\"scatterternary\":[{\"type\":\"scatterternary\",\"marker\":{\"colorbar\":{\"outlinewidth\":0,\"ticks\":\"\"}}}],\"scattercarpet\":[{\"type\":\"scattercarpet\",\"marker\":{\"colorbar\":{\"outlinewidth\":0,\"ticks\":\"\"}}}],\"carpet\":[{\"aaxis\":{\"endlinecolor\":\"#2a3f5f\",\"gridcolor\":\"white\",\"linecolor\":\"white\",\"minorgridcolor\":\"white\",\"startlinecolor\":\"#2a3f5f\"},\"baxis\":{\"endlinecolor\":\"#2a3f5f\",\"gridcolor\":\"white\",\"linecolor\":\"white\",\"minorgridcolor\":\"white\",\"startlinecolor\":\"#2a3f5f\"},\"type\":\"carpet\"}],\"table\":[{\"cells\":{\"fill\":{\"color\":\"#EBF0F8\"},\"line\":{\"color\":\"white\"}},\"header\":{\"fill\":{\"color\":\"#C8D4E3\"},\"line\":{\"color\":\"white\"}},\"type\":\"table\"}],\"barpolar\":[{\"marker\":{\"line\":{\"color\":\"#E5ECF6\",\"width\":0.5},\"pattern\":{\"fillmode\":\"overlay\",\"size\":10,\"solidity\":0.2}},\"type\":\"barpolar\"}],\"pie\":[{\"automargin\":true,\"type\":\"pie\"}]},\"layout\":{\"autotypenumbers\":\"strict\",\"colorway\":[\"#636efa\",\"#EF553B\",\"#00cc96\",\"#ab63fa\",\"#FFA15A\",\"#19d3f3\",\"#FF6692\",\"#B6E880\",\"#FF97FF\",\"#FECB52\"],\"font\":{\"color\":\"#2a3f5f\"},\"hovermode\":\"closest\",\"hoverlabel\":{\"align\":\"left\"},\"paper_bgcolor\":\"white\",\"plot_bgcolor\":\"#E5ECF6\",\"polar\":{\"bgcolor\":\"#E5ECF6\",\"angularaxis\":{\"gridcolor\":\"white\",\"linecolor\":\"white\",\"ticks\":\"\"},\"radialaxis\":{\"gridcolor\":\"white\",\"linecolor\":\"white\",\"ticks\":\"\"}},\"ternary\":{\"bgcolor\":\"#E5ECF6\",\"aaxis\":{\"gridcolor\":\"white\",\"linecolor\":\"white\",\"ticks\":\"\"},\"baxis\":{\"gridcolor\":\"white\",\"linecolor\":\"white\",\"ticks\":\"\"},\"caxis\":{\"gridcolor\":\"white\",\"linecolor\":\"white\",\"ticks\":\"\"}},\"coloraxis\":{\"colorbar\":{\"outlinewidth\":0,\"ticks\":\"\"}},\"colorscale\":{\"sequential\":[[0.0,\"#0d0887\"],[0.1111111111111111,\"#46039f\"],[0.2222222222222222,\"#7201a8\"],[0.3333333333333333,\"#9c179e\"],[0.4444444444444444,\"#bd3786\"],[0.5555555555555556,\"#d8576b\"],[0.6666666666666666,\"#ed7953\"],[0.7777777777777778,\"#fb9f3a\"],[0.8888888888888888,\"#fdca26\"],[1.0,\"#f0f921\"]],\"sequentialminus\":[[0.0,\"#0d0887\"],[0.1111111111111111,\"#46039f\"],[0.2222222222222222,\"#7201a8\"],[0.3333333333333333,\"#9c179e\"],[0.4444444444444444,\"#bd3786\"],[0.5555555555555556,\"#d8576b\"],[0.6666666666666666,\"#ed7953\"],[0.7777777777777778,\"#fb9f3a\"],[0.8888888888888888,\"#fdca26\"],[1.0,\"#f0f921\"]],\"diverging\":[[0,\"#8e0152\"],[0.1,\"#c51b7d\"],[0.2,\"#de77ae\"],[0.3,\"#f1b6da\"],[0.4,\"#fde0ef\"],[0.5,\"#f7f7f7\"],[0.6,\"#e6f5d0\"],[0.7,\"#b8e186\"],[0.8,\"#7fbc41\"],[0.9,\"#4d9221\"],[1,\"#276419\"]]},\"xaxis\":{\"gridcolor\":\"white\",\"linecolor\":\"white\",\"ticks\":\"\",\"title\":{\"standoff\":15},\"zerolinecolor\":\"white\",\"automargin\":true,\"zerolinewidth\":2},\"yaxis\":{\"gridcolor\":\"white\",\"linecolor\":\"white\",\"ticks\":\"\",\"title\":{\"standoff\":15},\"zerolinecolor\":\"white\",\"automargin\":true,\"zerolinewidth\":2},\"scene\":{\"xaxis\":{\"backgroundcolor\":\"#E5ECF6\",\"gridcolor\":\"white\",\"linecolor\":\"white\",\"showbackground\":true,\"ticks\":\"\",\"zerolinecolor\":\"white\",\"gridwidth\":2},\"yaxis\":{\"backgroundcolor\":\"#E5ECF6\",\"gridcolor\":\"white\",\"linecolor\":\"white\",\"showbackground\":true,\"ticks\":\"\",\"zerolinecolor\":\"white\",\"gridwidth\":2},\"zaxis\":{\"backgroundcolor\":\"#E5ECF6\",\"gridcolor\":\"white\",\"linecolor\":\"white\",\"showbackground\":true,\"ticks\":\"\",\"zerolinecolor\":\"white\",\"gridwidth\":2}},\"shapedefaults\":{\"line\":{\"color\":\"#2a3f5f\"}},\"annotationdefaults\":{\"arrowcolor\":\"#2a3f5f\",\"arrowhead\":0,\"arrowwidth\":1},\"geo\":{\"bgcolor\":\"white\",\"landcolor\":\"#E5ECF6\",\"subunitcolor\":\"white\",\"showland\":true,\"showlakes\":true,\"lakecolor\":\"white\"},\"title\":{\"x\":0.05},\"mapbox\":{\"style\":\"light\"}}},\"xaxis\":{\"anchor\":\"y\",\"domain\":[0.0,1.0],\"scaleanchor\":\"y\",\"constrain\":\"domain\"},\"yaxis\":{\"anchor\":\"x\",\"domain\":[0.0,1.0],\"autorange\":\"reversed\",\"constrain\":\"domain\"},\"coloraxis\":{\"colorscale\":[[0.0,\"#0d0887\"],[0.1111111111111111,\"#46039f\"],[0.2222222222222222,\"#7201a8\"],[0.3333333333333333,\"#9c179e\"],[0.4444444444444444,\"#bd3786\"],[0.5555555555555556,\"#d8576b\"],[0.6666666666666666,\"#ed7953\"],[0.7777777777777778,\"#fb9f3a\"],[0.8888888888888888,\"#fdca26\"],[1.0,\"#f0f921\"]]},\"margin\":{\"t\":60}},                        {\"responsive\": true}                    ).then(function(){\n",
              "                            \n",
              "var gd = document.getElementById('72c13e4c-42be-40a5-ab86-cb7d1999f4ed');\n",
              "var x = new MutationObserver(function (mutations, observer) {{\n",
              "        var display = window.getComputedStyle(gd).display;\n",
              "        if (!display || display === 'none') {{\n",
              "            console.log([gd, 'removed!']);\n",
              "            Plotly.purge(gd);\n",
              "            observer.disconnect();\n",
              "        }}\n",
              "}});\n",
              "\n",
              "// Listen for the removal of the full notebook cells\n",
              "var notebookContainer = gd.closest('#notebook-container');\n",
              "if (notebookContainer) {{\n",
              "    x.observe(notebookContainer, {childList: true});\n",
              "}}\n",
              "\n",
              "// Listen for the clearing of the current output cell\n",
              "var outputEl = gd.closest('.output');\n",
              "if (outputEl) {{\n",
              "    x.observe(outputEl, {childList: true});\n",
              "}}\n",
              "\n",
              "                        })                };                            </script>        </div>\n",
              "</body>\n",
              "</html>"
            ]
          },
          "metadata": {}
        }
      ]
    },
    {
      "cell_type": "code",
      "source": [
        "test_pred_acc = test_pred_df.values.diagonal().mean()\n",
        "print(f\"{test_pred_acc = :.2%}\")"
      ],
      "metadata": {
        "id": "pH38sSNSs_HQ",
        "colab": {
          "base_uri": "https://localhost:8080/"
        },
        "outputId": "b162dccd-badc-4f77-9281-0deb342414c3"
      },
      "execution_count": null,
      "outputs": [
        {
          "output_type": "stream",
          "name": "stdout",
          "text": [
            "test_pred_acc = 63.36%\n"
          ]
        }
      ]
    }
  ]
}